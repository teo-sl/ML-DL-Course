{
  "nbformat": 4,
  "nbformat_minor": 0,
  "metadata": {
    "colab": {
      "provenance": [],
      "collapsed_sections": []
    },
    "kernelspec": {
      "name": "python3",
      "display_name": "Python 3"
    },
    "language_info": {
      "name": "python"
    }
  },
  "cells": [
    {
      "cell_type": "code",
      "execution_count": 1,
      "metadata": {
        "id": "BZ-QCH9g2Svu"
      },
      "outputs": [],
      "source": [
        "import tensorflow as tf\n",
        "import numpy as np\n",
        "import pandas as pd\n",
        "import matplotlib.pyplot as plt"
      ]
    },
    {
      "cell_type": "code",
      "source": [
        "from tensorflow.keras.layers import Dense,Input,Flatten,Dropout,SimpleRNN\n",
        "from tensorflow.keras.models import Model"
      ],
      "metadata": {
        "id": "BHAViCCN2Xvb"
      },
      "execution_count": 2,
      "outputs": []
    },
    {
      "cell_type": "code",
      "source": [
        "series=np.sin(0.1*np.arange(200)) + np.random.randn(200)*0.1\n",
        "\n",
        "plt.plot(series)\n",
        "plt.show()"
      ],
      "metadata": {
        "colab": {
          "base_uri": "https://localhost:8080/",
          "height": 285
        },
        "id": "lrmbOLhI2f4P",
        "outputId": "b7a7b4ce-5235-49de-9ee5-7ac606c4b398"
      },
      "execution_count": 3,
      "outputs": [
        {
          "output_type": "display_data",
          "data": {
            "text/plain": [
              "<Figure size 432x288 with 1 Axes>"
            ],
            "image/png": "[encoded data removed]"
          },
          "metadata": {
            "needs_background": "light"
          }
        }
      ]
    },
    {
      "cell_type": "code",
      "source": [
        "T=10\n",
        "X=[]\n",
        "Y=[]\n",
        "D=1\n",
        "\n",
        "for t in range(len(series)-T):\n",
        "  x=series[t:t+T]\n",
        "  X.append(x)\n",
        "  y=series[t+T]\n",
        "  Y.append(y)\n",
        "\n",
        "X=np.array(X).reshape(-1,T,1) # -1 è una wildcard, indica, qualsiasi dimensione sia necessaria qui\n",
        "Y=np.array(Y) \n",
        "N=len(X)\n",
        "print(X.shape)\n",
        "print(Y.shape)"
      ],
      "metadata": {
        "colab": {
          "base_uri": "https://localhost:8080/"
        },
        "id": "Q8EUZOJq2ivV",
        "outputId": "cb4448ca-afc6-4e7a-b930-72fb667a2ca1"
      },
      "execution_count": 4,
      "outputs": [
        {
          "output_type": "stream",
          "name": "stdout",
          "text": [
            "(190, 10, 1)\n",
            "(190,)\n"
          ]
        }
      ]
    },
    {
      "cell_type": "code",
      "source": [
        "i=Input(shape=(T,1))\n",
        "x=SimpleRNN(5)(i)\n",
        "x=Dense(1)(x)\n",
        "model=Model(i,x)\n",
        "\n",
        "model.compile(optimizer=tf.optimizers.Adam(lr=0.1),\n",
        "        loss='mse')\n",
        "\n",
        "r=model.fit(X[:-N//2], Y[:-N//2], \n",
        "            validation_data=(X[ -N //2 :],Y[-N//2:]),\n",
        "            epochs=80)"
      ],
      "metadata": {
        "colab": {
          "base_uri": "https://localhost:8080/"
        },
        "id": "w0J_HX-62cMC",
        "outputId": "8dc0cd75-b0c8-4dbe-8034-51cdfd8cb188"
      },
      "execution_count": 5,
      "outputs": [
        {
          "output_type": "stream",
          "name": "stdout",
          "text": [
            "Epoch 1/80\n"
          ]
        },
        {
          "output_type": "stream",
          "name": "stderr",
          "text": [
            "/usr/local/lib/python3.7/dist-packages/keras/optimizer_v2/adam.py:105: UserWarning: The `lr` argument is deprecated, use `learning_rate` instead.\n",
            "  super(Adam, self).__init__(name, **kwargs)\n"
          ]
        },
        {
          "output_type": "stream",
          "name": "stdout",
          "text": [
            "3/3 [==============================] - 1s 135ms/step - loss: 0.2406 - val_loss: 0.0776\n",
            "Epoch 2/80\n",
            "3/3 [==============================] - 0s 25ms/step - loss: 0.0894 - val_loss: 0.0834\n",
            "Epoch 3/80\n",
            "3/3 [==============================] - 0s 17ms/step - loss: 0.0519 - val_loss: 0.0316\n",
            "Epoch 4/80\n",
            "3/3 [==============================] - 0s 16ms/step - loss: 0.0369 - val_loss: 0.0463\n",
            "Epoch 5/80\n",
            "3/3 [==============================] - 0s 17ms/step - loss: 0.0319 - val_loss: 0.0424\n",
            "Epoch 6/80\n",
            "3/3 [==============================] - 0s 16ms/step - loss: 0.0344 - val_loss: 0.0323\n",
            "Epoch 7/80\n",
            "3/3 [==============================] - 0s 18ms/step - loss: 0.0254 - val_loss: 0.0266\n",
            "Epoch 8/80\n",
            "3/3 [==============================] - 0s 17ms/step - loss: 0.0237 - val_loss: 0.0303\n",
            "Epoch 9/80\n",
            "3/3 [==============================] - 0s 18ms/step - loss: 0.0257 - val_loss: 0.0275\n",
            "Epoch 10/80\n",
            "3/3 [==============================] - 0s 17ms/step - loss: 0.0235 - val_loss: 0.0300\n",
            "Epoch 11/80\n",
            "3/3 [==============================] - 0s 20ms/step - loss: 0.0206 - val_loss: 0.0267\n",
            "Epoch 12/80\n",
            "3/3 [==============================] - 0s 19ms/step - loss: 0.0191 - val_loss: 0.0255\n",
            "Epoch 13/80\n",
            "3/3 [==============================] - 0s 19ms/step - loss: 0.0181 - val_loss: 0.0262\n",
            "Epoch 14/80\n",
            "3/3 [==============================] - 0s 19ms/step - loss: 0.0182 - val_loss: 0.0255\n",
            "Epoch 15/80\n",
            "3/3 [==============================] - 0s 17ms/step - loss: 0.0193 - val_loss: 0.0267\n",
            "Epoch 16/80\n",
            "3/3 [==============================] - 0s 20ms/step - loss: 0.0179 - val_loss: 0.0253\n",
            "Epoch 17/80\n",
            "3/3 [==============================] - 0s 17ms/step - loss: 0.0174 - val_loss: 0.0252\n",
            "Epoch 18/80\n",
            "3/3 [==============================] - 0s 19ms/step - loss: 0.0169 - val_loss: 0.0251\n",
            "Epoch 19/80\n",
            "3/3 [==============================] - 0s 26ms/step - loss: 0.0165 - val_loss: 0.0248\n",
            "Epoch 20/80\n",
            "3/3 [==============================] - 0s 18ms/step - loss: 0.0180 - val_loss: 0.0243\n",
            "Epoch 21/80\n",
            "3/3 [==============================] - 0s 24ms/step - loss: 0.0186 - val_loss: 0.0245\n",
            "Epoch 22/80\n",
            "3/3 [==============================] - 0s 28ms/step - loss: 0.0206 - val_loss: 0.0270\n",
            "Epoch 23/80\n",
            "3/3 [==============================] - 0s 18ms/step - loss: 0.0205 - val_loss: 0.0275\n",
            "Epoch 24/80\n",
            "3/3 [==============================] - 0s 20ms/step - loss: 0.0152 - val_loss: 0.0391\n",
            "Epoch 25/80\n",
            "3/3 [==============================] - 0s 18ms/step - loss: 0.0216 - val_loss: 0.0261\n",
            "Epoch 26/80\n",
            "3/3 [==============================] - 0s 25ms/step - loss: 0.0202 - val_loss: 0.0264\n",
            "Epoch 27/80\n",
            "3/3 [==============================] - 0s 18ms/step - loss: 0.0212 - val_loss: 0.0275\n",
            "Epoch 28/80\n",
            "3/3 [==============================] - 0s 18ms/step - loss: 0.0190 - val_loss: 0.0276\n",
            "Epoch 29/80\n",
            "3/3 [==============================] - 0s 18ms/step - loss: 0.0181 - val_loss: 0.0296\n",
            "Epoch 30/80\n",
            "3/3 [==============================] - 0s 19ms/step - loss: 0.0180 - val_loss: 0.0255\n",
            "Epoch 31/80\n",
            "3/3 [==============================] - 0s 19ms/step - loss: 0.0171 - val_loss: 0.0260\n",
            "Epoch 32/80\n",
            "3/3 [==============================] - 0s 20ms/step - loss: 0.0166 - val_loss: 0.0259\n",
            "Epoch 33/80\n",
            "3/3 [==============================] - 0s 18ms/step - loss: 0.0157 - val_loss: 0.0268\n",
            "Epoch 34/80\n",
            "3/3 [==============================] - 0s 28ms/step - loss: 0.0163 - val_loss: 0.0251\n",
            "Epoch 35/80\n",
            "3/3 [==============================] - 0s 18ms/step - loss: 0.0161 - val_loss: 0.0277\n",
            "Epoch 36/80\n",
            "3/3 [==============================] - 0s 26ms/step - loss: 0.0217 - val_loss: 0.0282\n",
            "Epoch 37/80\n",
            "3/3 [==============================] - 0s 17ms/step - loss: 0.0167 - val_loss: 0.0279\n",
            "Epoch 38/80\n",
            "3/3 [==============================] - 0s 19ms/step - loss: 0.0182 - val_loss: 0.0287\n",
            "Epoch 39/80\n",
            "3/3 [==============================] - 0s 27ms/step - loss: 0.0185 - val_loss: 0.0250\n",
            "Epoch 40/80\n",
            "3/3 [==============================] - 0s 18ms/step - loss: 0.0168 - val_loss: 0.0243\n",
            "Epoch 41/80\n",
            "3/3 [==============================] - 0s 19ms/step - loss: 0.0162 - val_loss: 0.0270\n",
            "Epoch 42/80\n",
            "3/3 [==============================] - 0s 17ms/step - loss: 0.0166 - val_loss: 0.0263\n",
            "Epoch 43/80\n",
            "3/3 [==============================] - 0s 19ms/step - loss: 0.0169 - val_loss: 0.0253\n",
            "Epoch 44/80\n",
            "3/3 [==============================] - 0s 17ms/step - loss: 0.0175 - val_loss: 0.0260\n",
            "Epoch 45/80\n",
            "3/3 [==============================] - 0s 17ms/step - loss: 0.0157 - val_loss: 0.0260\n",
            "Epoch 46/80\n",
            "3/3 [==============================] - 0s 17ms/step - loss: 0.0162 - val_loss: 0.0274\n",
            "Epoch 47/80\n",
            "3/3 [==============================] - 0s 17ms/step - loss: 0.0148 - val_loss: 0.0243\n",
            "Epoch 48/80\n",
            "3/3 [==============================] - 0s 17ms/step - loss: 0.0173 - val_loss: 0.0243\n",
            "Epoch 49/80\n",
            "3/3 [==============================] - 0s 19ms/step - loss: 0.0162 - val_loss: 0.0288\n",
            "Epoch 50/80\n",
            "3/3 [==============================] - 0s 20ms/step - loss: 0.0162 - val_loss: 0.0243\n",
            "Epoch 51/80\n",
            "3/3 [==============================] - 0s 19ms/step - loss: 0.0176 - val_loss: 0.0251\n",
            "Epoch 52/80\n",
            "3/3 [==============================] - 0s 18ms/step - loss: 0.0162 - val_loss: 0.0266\n",
            "Epoch 53/80\n",
            "3/3 [==============================] - 0s 18ms/step - loss: 0.0164 - val_loss: 0.0259\n",
            "Epoch 54/80\n",
            "3/3 [==============================] - 0s 28ms/step - loss: 0.0162 - val_loss: 0.0245\n",
            "Epoch 55/80\n",
            "3/3 [==============================] - 0s 18ms/step - loss: 0.0167 - val_loss: 0.0255\n",
            "Epoch 56/80\n",
            "3/3 [==============================] - 0s 17ms/step - loss: 0.0154 - val_loss: 0.0267\n",
            "Epoch 57/80\n",
            "3/3 [==============================] - 0s 25ms/step - loss: 0.0148 - val_loss: 0.0245\n",
            "Epoch 58/80\n",
            "3/3 [==============================] - 0s 24ms/step - loss: 0.0155 - val_loss: 0.0255\n",
            "Epoch 59/80\n",
            "3/3 [==============================] - 0s 25ms/step - loss: 0.0143 - val_loss: 0.0244\n",
            "Epoch 60/80\n",
            "3/3 [==============================] - 0s 17ms/step - loss: 0.0148 - val_loss: 0.0245\n",
            "Epoch 61/80\n",
            "3/3 [==============================] - 0s 21ms/step - loss: 0.0148 - val_loss: 0.0242\n",
            "Epoch 62/80\n",
            "3/3 [==============================] - 0s 18ms/step - loss: 0.0141 - val_loss: 0.0235\n",
            "Epoch 63/80\n",
            "3/3 [==============================] - 0s 18ms/step - loss: 0.0151 - val_loss: 0.0244\n",
            "Epoch 64/80\n",
            "3/3 [==============================] - 0s 17ms/step - loss: 0.0161 - val_loss: 0.0263\n",
            "Epoch 65/80\n",
            "3/3 [==============================] - 0s 18ms/step - loss: 0.0154 - val_loss: 0.0249\n",
            "Epoch 66/80\n",
            "3/3 [==============================] - 0s 26ms/step - loss: 0.0160 - val_loss: 0.0241\n",
            "Epoch 67/80\n",
            "3/3 [==============================] - 0s 19ms/step - loss: 0.0175 - val_loss: 0.0250\n",
            "Epoch 68/80\n",
            "3/3 [==============================] - 0s 21ms/step - loss: 0.0153 - val_loss: 0.0248\n",
            "Epoch 69/80\n",
            "3/3 [==============================] - 0s 21ms/step - loss: 0.0156 - val_loss: 0.0255\n",
            "Epoch 70/80\n",
            "3/3 [==============================] - 0s 19ms/step - loss: 0.0163 - val_loss: 0.0241\n",
            "Epoch 71/80\n",
            "3/3 [==============================] - 0s 19ms/step - loss: 0.0164 - val_loss: 0.0257\n",
            "Epoch 72/80\n",
            "3/3 [==============================] - 0s 23ms/step - loss: 0.0145 - val_loss: 0.0252\n",
            "Epoch 73/80\n",
            "3/3 [==============================] - 0s 17ms/step - loss: 0.0151 - val_loss: 0.0278\n",
            "Epoch 74/80\n",
            "3/3 [==============================] - 0s 25ms/step - loss: 0.0163 - val_loss: 0.0245\n",
            "Epoch 75/80\n",
            "3/3 [==============================] - 0s 20ms/step - loss: 0.0163 - val_loss: 0.0259\n",
            "Epoch 76/80\n",
            "3/3 [==============================] - 0s 16ms/step - loss: 0.0165 - val_loss: 0.0242\n",
            "Epoch 77/80\n",
            "3/3 [==============================] - 0s 17ms/step - loss: 0.0155 - val_loss: 0.0241\n",
            "Epoch 78/80\n",
            "3/3 [==============================] - 0s 28ms/step - loss: 0.0154 - val_loss: 0.0262\n",
            "Epoch 79/80\n",
            "3/3 [==============================] - 0s 17ms/step - loss: 0.0165 - val_loss: 0.0245\n",
            "Epoch 80/80\n",
            "3/3 [==============================] - 0s 18ms/step - loss: 0.0161 - val_loss: 0.0254\n"
          ]
        }
      ]
    },
    {
      "cell_type": "code",
      "source": [
        "plt.plot(r.history['loss'],label='train loss')\n",
        "plt.plot(r.history['val_loss'],\n",
        "label='val_loss')\n",
        "plt.legend()"
      ],
      "metadata": {
        "colab": {
          "base_uri": "https://localhost:8080/",
          "height": 306
        },
        "id": "q0sjjlW9204Q",
        "outputId": "46c700da-20d6-4bbe-c360-f48674477c61"
      },
      "execution_count": 6,
      "outputs": [
        {
          "output_type": "execute_result",
          "data": {
            "text/plain": [
              "<matplotlib.legend.Legend at 0x7f0a976bbb10>"
            ]
          },
          "metadata": {},
          "execution_count": 6
        },
        {
          "output_type": "display_data",
          "data": {
            "text/plain": [
              "<Figure size 432x288 with 1 Axes>"
            ],
            "image/png": "[encoded data removed]"
          },
          "metadata": {
            "needs_background": "light"
          }
        }
      ]
    },
    {
      "cell_type": "code",
      "source": [
        "validation_target=Y[-N//2:]\n",
        "\n",
        "validation_prediction=[]\n",
        "last_x=X[-N//2]\n",
        "\n",
        "while len(validation_prediction)<len(validation_target):\n",
        "  p=model.predict(last_x.reshape(1,-1,1))[0,0]\n",
        "  validation_prediction.append(p)\n",
        "\n",
        "  last_x=np.roll(last_x,-1)\n",
        "  last_x[-1]=p"
      ],
      "metadata": {
        "id": "7HUCNLbT3JgC"
      },
      "execution_count": 7,
      "outputs": []
    },
    {
      "cell_type": "code",
      "source": [
        "plt.plot(validation_target,label='forecast target')\n",
        "plt.plot(validation_prediction,label='forecast prediction')\n",
        "plt.legend()"
      ],
      "metadata": {
        "colab": {
          "base_uri": "https://localhost:8080/",
          "height": 303
        },
        "id": "zOdtVZsE3NCp",
        "outputId": "1dce7128-99e7-4b27-9c4d-33e1c8710c76"
      },
      "execution_count": 8,
      "outputs": [
        {
          "output_type": "execute_result",
          "data": {
            "text/plain": [
              "<matplotlib.legend.Legend at 0x7f0a9754ac90>"
            ]
          },
          "metadata": {},
          "execution_count": 8
        },
        {
          "output_type": "display_data",
          "data": {
            "text/plain": [
              "<Figure size 432x288 with 1 Axes>"
            ],
            "image/png": "[encoded data removed]"
          },
          "metadata": {
            "needs_background": "light"
          }
        }
      ]
    }
  ]
}