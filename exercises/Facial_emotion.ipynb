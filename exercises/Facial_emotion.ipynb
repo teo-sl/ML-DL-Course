{
  "nbformat": 4,
  "nbformat_minor": 0,
  "metadata": {
    "colab": {
      "provenance": []
    },
    "kernelspec": {
      "name": "python3",
      "display_name": "Python 3"
    },
    "language_info": {
      "name": "python"
    },
    "accelerator": "GPU"
  },
  "cells": [
    {
      "cell_type": "code",
      "source": [
        "import tensorflow as tf\n",
        "import keras\n",
        "import numpy as np\n",
        "import pandas as pd\n",
        "import matplotlib.pyplot as plt"
      ],
      "metadata": {
        "id": "1HCdToJZhiZH"
      },
      "execution_count": null,
      "outputs": []
    },
    {
      "cell_type": "code",
      "source": [
        "from tensorflow.keras.layers import Dense,Input,LSTM,GlobalMaxPooling1D,Dropout, Flatten, Conv2D, BatchNormalization, MaxPooling2D\n",
        "from tensorflow.keras.models import Model"
      ],
      "metadata": {
        "id": "VZHHewWphmZH"
      },
      "execution_count": null,
      "outputs": []
    },
    {
      "cell_type": "code",
      "execution_count": null,
      "metadata": {
        "colab": {
          "base_uri": "https://localhost:8080/"
        },
        "id": "wA2Yes1HhX-m",
        "outputId": "0c3dbd9b-1e71-40fd-cefe-1541202e5b0a"
      },
      "outputs": [
        {
          "output_type": "stream",
          "name": "stdout",
          "text": [
            "--2022-09-22 15:37:18--  https://lazyprogrammer.me/course_files/fer2013.csv\n",
            "Resolving lazyprogrammer.me (lazyprogrammer.me)... 104.21.23.210, 172.67.213.166, 2606:4700:3031::6815:17d2, ...\n",
            "Connecting to lazyprogrammer.me (lazyprogrammer.me)|104.21.23.210|:443... connected.\n",
            "HTTP request sent, awaiting response... 200 OK\n",
            "Length: 301072766 (287M) [text/csv]\n",
            "Saving to: ‘fer2013.csv.4’\n",
            "\n",
            "fer2013.csv.4       100%[===================>] 287.12M   107MB/s    in 2.7s    \n",
            "\n",
            "2022-09-22 15:37:21 (107 MB/s) - ‘fer2013.csv.4’ saved [301072766/301072766]\n",
            "\n"
          ]
        }
      ],
      "source": [
        "!wget https://lazyprogrammer.me/course_files/fer2013.csv"
      ]
    },
    {
      "cell_type": "code",
      "source": [
        "df = pd.read_csv('fer2013.csv')\n",
        "\n",
        "# 48x48 gray scale"
      ],
      "metadata": {
        "id": "3KzxTaGlhtMg"
      },
      "execution_count": null,
      "outputs": []
    },
    {
      "cell_type": "code",
      "source": [
        "emotions = {0: 'Angry', 1: 'Disgust', 2: 'Fear', 3: 'Happy', 4: 'Sad', 5: 'Surprise', 6: 'Neutral'}"
      ],
      "metadata": {
        "id": "FLML5ttlr5Zl"
      },
      "execution_count": null,
      "outputs": []
    },
    {
      "cell_type": "code",
      "source": [
        "df.head()"
      ],
      "metadata": {
        "colab": {
          "base_uri": "https://localhost:8080/",
          "height": 228
        },
        "id": "bF8i0n4Bhy_G",
        "outputId": "0268a12f-8d36-4a42-da07-ce5ec4167352"
      },
      "execution_count": null,
      "outputs": [
        {
          "output_type": "execute_result",
          "data": {
            "text/plain": [
              "   emotion                                             pixels     Usage\n",
              "0        0  70 80 82 72 58 58 60 63 54 58 60 48 89 115 121...  Training\n",
              "1        0  151 150 147 155 148 133 111 140 170 174 182 15...  Training\n",
              "2        2  231 212 156 164 174 138 161 173 182 200 106 38...  Training\n",
              "3        4  24 32 36 30 32 23 19 20 30 41 21 22 32 34 21 1...  Training\n",
              "4        6  4 0 0 0 0 0 0 0 0 0 0 0 3 15 23 28 48 50 58 84...  Training"
            ],
            "text/html": [
              "\n",
              "  <div id=\"df-d64ab8e6-9b29-4082-bf01-21b668292505\">\n",
              "    <div class=\"colab-df-container\">\n",
              "      <div>\n",
              "<style scoped>\n",
              "    .dataframe tbody tr th:only-of-type {\n",
              "        vertical-align: middle;\n",
              "    }\n",
              "\n",
              "    .dataframe tbody tr th {\n",
              "        vertical-align: top;\n",
              "    }\n",
              "\n",
              "    .dataframe thead th {\n",
              "        text-align: right;\n",
              "    }\n",
              "</style>\n",
              "<table border=\"1\" class=\"dataframe\">\n",
              "  <thead>\n",
              "    <tr style=\"text-align: right;\">\n",
              "      <th></th>\n",
              "      <th>emotion</th>\n",
              "      <th>pixels</th>\n",
              "      <th>Usage</th>\n",
              "    </tr>\n",
              "  </thead>\n",
              "  <tbody>\n",
              "    <tr>\n",
              "      <th>0</th>\n",
              "      <td>0</td>\n",
              "      <td>70 80 82 72 58 58 60 63 54 58 60 48 89 115 121...</td>\n",
              "      <td>Training</td>\n",
              "    </tr>\n",
              "    <tr>\n",
              "      <th>1</th>\n",
              "      <td>0</td>\n",
              "      <td>151 150 147 155 148 133 111 140 170 174 182 15...</td>\n",
              "      <td>Training</td>\n",
              "    </tr>\n",
              "    <tr>\n",
              "      <th>2</th>\n",
              "      <td>2</td>\n",
              "      <td>231 212 156 164 174 138 161 173 182 200 106 38...</td>\n",
              "      <td>Training</td>\n",
              "    </tr>\n",
              "    <tr>\n",
              "      <th>3</th>\n",
              "      <td>4</td>\n",
              "      <td>24 32 36 30 32 23 19 20 30 41 21 22 32 34 21 1...</td>\n",
              "      <td>Training</td>\n",
              "    </tr>\n",
              "    <tr>\n",
              "      <th>4</th>\n",
              "      <td>6</td>\n",
              "      <td>4 0 0 0 0 0 0 0 0 0 0 0 3 15 23 28 48 50 58 84...</td>\n",
              "      <td>Training</td>\n",
              "    </tr>\n",
              "  </tbody>\n",
              "</table>\n",
              "</div>\n",
              "      <button class=\"colab-df-convert\" onclick=\"convertToInteractive('df-d64ab8e6-9b29-4082-bf01-21b668292505')\"\n",
              "              title=\"Convert this dataframe to an interactive table.\"\n",
              "              style=\"display:none;\">\n",
              "        \n",
              "  <svg xmlns=\"http://www.w3.org/2000/svg\" height=\"24px\"viewBox=\"0 0 24 24\"\n",
              "       width=\"24px\">\n",
              "    <path d=\"M0 0h24v24H0V0z\" fill=\"none\"/>\n",
              "    <path d=\"M18.56 5.44l.94 2.06.94-2.06 2.06-.94-2.06-.94-.94-2.06-.94 2.06-2.06.94zm-11 1L8.5 8.5l.94-2.06 2.06-.94-2.06-.94L8.5 2.5l-.94 2.06-2.06.94zm10 10l.94 2.06.94-2.06 2.06-.94-2.06-.94-.94-2.06-.94 2.06-2.06.94z\"/><path d=\"M17.41 7.96l-1.37-1.37c-.4-.4-.92-.59-1.43-.59-.52 0-1.04.2-1.43.59L10.3 9.45l-7.72 7.72c-.78.78-.78 2.05 0 2.83L4 21.41c.39.39.9.59 1.41.59.51 0 1.02-.2 1.41-.59l7.78-7.78 2.81-2.81c.8-.78.8-2.07 0-2.86zM5.41 20L4 18.59l7.72-7.72 1.47 1.35L5.41 20z\"/>\n",
              "  </svg>\n",
              "      </button>\n",
              "      \n",
              "  <style>\n",
              "    .colab-df-container {\n",
              "      display:flex;\n",
              "      flex-wrap:wrap;\n",
              "      gap: 12px;\n",
              "    }\n",
              "\n",
              "    .colab-df-convert {\n",
              "      background-color: #E8F0FE;\n",
              "      border: none;\n",
              "      border-radius: 50%;\n",
              "      cursor: pointer;\n",
              "      display: none;\n",
              "      fill: #1967D2;\n",
              "      height: 32px;\n",
              "      padding: 0 0 0 0;\n",
              "      width: 32px;\n",
              "    }\n",
              "\n",
              "    .colab-df-convert:hover {\n",
              "      background-color: #E2EBFA;\n",
              "      box-shadow: 0px 1px 2px rgba(60, 64, 67, 0.3), 0px 1px 3px 1px rgba(60, 64, 67, 0.15);\n",
              "      fill: #174EA6;\n",
              "    }\n",
              "\n",
              "    [theme=dark] .colab-df-convert {\n",
              "      background-color: #3B4455;\n",
              "      fill: #D2E3FC;\n",
              "    }\n",
              "\n",
              "    [theme=dark] .colab-df-convert:hover {\n",
              "      background-color: #434B5C;\n",
              "      box-shadow: 0px 1px 3px 1px rgba(0, 0, 0, 0.15);\n",
              "      filter: drop-shadow(0px 1px 2px rgba(0, 0, 0, 0.3));\n",
              "      fill: #FFFFFF;\n",
              "    }\n",
              "  </style>\n",
              "\n",
              "      <script>\n",
              "        const buttonEl =\n",
              "          document.querySelector('#df-d64ab8e6-9b29-4082-bf01-21b668292505 button.colab-df-convert');\n",
              "        buttonEl.style.display =\n",
              "          google.colab.kernel.accessAllowed ? 'block' : 'none';\n",
              "\n",
              "        async function convertToInteractive(key) {\n",
              "          const element = document.querySelector('#df-d64ab8e6-9b29-4082-bf01-21b668292505');\n",
              "          const dataTable =\n",
              "            await google.colab.kernel.invokeFunction('convertToInteractive',\n",
              "                                                     [key], {});\n",
              "          if (!dataTable) return;\n",
              "\n",
              "          const docLinkHtml = 'Like what you see? Visit the ' +\n",
              "            '<a target=\"_blank\" href=https://colab.research.google.com/notebooks/data_table.ipynb>data table notebook</a>'\n",
              "            + ' to learn more about interactive tables.';\n",
              "          element.innerHTML = '';\n",
              "          dataTable['output_type'] = 'display_data';\n",
              "          await google.colab.output.renderOutput(dataTable, element);\n",
              "          const docLink = document.createElement('div');\n",
              "          docLink.innerHTML = docLinkHtml;\n",
              "          element.appendChild(docLink);\n",
              "        }\n",
              "      </script>\n",
              "    </div>\n",
              "  </div>\n",
              "  "
            ]
          },
          "metadata": {},
          "execution_count": 5
        }
      ]
    },
    {
      "cell_type": "code",
      "source": [
        "df['Usage'].unique()"
      ],
      "metadata": {
        "colab": {
          "base_uri": "https://localhost:8080/"
        },
        "id": "13_mDh1uh9JT",
        "outputId": "5aa6d2e9-a8d8-4393-f75c-58b1d4cad2f0"
      },
      "execution_count": null,
      "outputs": [
        {
          "output_type": "execute_result",
          "data": {
            "text/plain": [
              "array(['Training', 'PublicTest', 'PrivateTest'], dtype=object)"
            ]
          },
          "metadata": {},
          "execution_count": 7
        }
      ]
    },
    {
      "cell_type": "code",
      "source": [
        "K=len(df['emotion'].unique())"
      ],
      "metadata": {
        "id": "uympepLsmuCy"
      },
      "execution_count": null,
      "outputs": []
    },
    {
      "cell_type": "code",
      "source": [
        "df_train = df[df['Usage']=='Training']\n",
        "df_test = df[df['Usage']=='PrivateTest']"
      ],
      "metadata": {
        "id": "8SJjMLNIh3as"
      },
      "execution_count": null,
      "outputs": []
    },
    {
      "cell_type": "code",
      "source": [
        "x_train = df_train['pixels'].to_numpy()\n",
        "x_test = df_test['pixels'].to_numpy()\n",
        "\n",
        "y_train = df_train['emotion'].to_numpy()\n",
        "y_test = df_test['emotion'].to_numpy()\n"
      ],
      "metadata": {
        "id": "vFK5IJg7idYl"
      },
      "execution_count": null,
      "outputs": []
    },
    {
      "cell_type": "code",
      "source": [
        "x_train.shape, x_test.shape"
      ],
      "metadata": {
        "colab": {
          "base_uri": "https://localhost:8080/"
        },
        "id": "FtHAaHZ0i3aG",
        "outputId": "e0cdf576-6bfc-4108-f3c3-2f0995b50bc8"
      },
      "execution_count": null,
      "outputs": [
        {
          "output_type": "execute_result",
          "data": {
            "text/plain": [
              "((28709,), (3589,))"
            ]
          },
          "metadata": {},
          "execution_count": 10
        }
      ]
    },
    {
      "cell_type": "code",
      "source": [
        "def convert_to_array(input):\n",
        "  i = 0\n",
        "  ret = []\n",
        "  for x in input:\n",
        "      ret.append(np.fromstring(x, dtype=int, sep=' '))\n",
        "      i+=1\n",
        "  return ret\n"
      ],
      "metadata": {
        "id": "Mo_H04W7jBrt"
      },
      "execution_count": null,
      "outputs": []
    },
    {
      "cell_type": "code",
      "source": [
        "x_train=np.array(convert_to_array(x_train))\n",
        "x_test=np.array(convert_to_array(x_test))"
      ],
      "metadata": {
        "id": "9t3-djW0kIkI"
      },
      "execution_count": null,
      "outputs": []
    },
    {
      "cell_type": "code",
      "source": [
        "x_train = x_train.reshape(-1,48,48)\n",
        "x_test = x_test.reshape(-1,48,48)"
      ],
      "metadata": {
        "id": "gD68NQFek-my"
      },
      "execution_count": null,
      "outputs": []
    },
    {
      "cell_type": "code",
      "source": [
        "x_train.shape, x_test.shape"
      ],
      "metadata": {
        "colab": {
          "base_uri": "https://localhost:8080/"
        },
        "id": "InxHVrurlOgM",
        "outputId": "ec60fcee-3d62-4662-8ae5-7401f937bdb9"
      },
      "execution_count": null,
      "outputs": [
        {
          "output_type": "execute_result",
          "data": {
            "text/plain": [
              "((28709, 48, 48), (3589, 48, 48))"
            ]
          },
          "metadata": {},
          "execution_count": 14
        }
      ]
    },
    {
      "cell_type": "code",
      "source": [
        "plt.imshow(x_train[500],cmap='gray')"
      ],
      "metadata": {
        "colab": {
          "base_uri": "https://localhost:8080/",
          "height": 305
        },
        "id": "cTypR1trlX-M",
        "outputId": "9a780b4e-add2-48e2-eada-ac4f493e9e4a"
      },
      "execution_count": null,
      "outputs": [
        {
          "output_type": "execute_result",
          "data": {
            "text/plain": [
              "<matplotlib.image.AxesImage at 0x7f14c88cda50>"
            ]
          },
          "metadata": {},
          "execution_count": 15
        },
        {
          "output_type": "display_data",
          "data": {
            "text/plain": [
              "<Figure size 432x288 with 1 Axes>"
            ],
            "image/png": "[encoded data removed]"
          },
          "metadata": {
            "needs_background": "light"
          }
        }
      ]
    },
    {
      "cell_type": "code",
      "source": [
        "R,C = x_train[0].shape\n",
        "R,C"
      ],
      "metadata": {
        "colab": {
          "base_uri": "https://localhost:8080/"
        },
        "id": "dme_I_WLl8yw",
        "outputId": "a40c6110-3d73-4b38-d088-27b12a6e0785"
      },
      "execution_count": null,
      "outputs": [
        {
          "output_type": "execute_result",
          "data": {
            "text/plain": [
              "(48, 48)"
            ]
          },
          "metadata": {},
          "execution_count": 16
        }
      ]
    },
    {
      "cell_type": "code",
      "source": [
        "x_train, x_test = x_train/255.0,x_test/255.0"
      ],
      "metadata": {
        "id": "3ydoDPZ6nFfD"
      },
      "execution_count": null,
      "outputs": []
    },
    {
      "cell_type": "code",
      "source": [
        "x_train=np.expand_dims(x_train, -1)\n",
        "x_test=np.expand_dims(x_test, -1)"
      ],
      "metadata": {
        "id": "x0OHWUTWn4fq"
      },
      "execution_count": null,
      "outputs": []
    },
    {
      "cell_type": "code",
      "source": [
        "i = Input(shape=x_train[0].shape)\n",
        "\n",
        "x=Conv2D(32,(3,3),activation='relu',padding='same')(i)\n",
        "x=BatchNormalization()(x)\n",
        "x=Conv2D(32,(3,3),activation='relu',padding='same')(x)\n",
        "x=BatchNormalization()(x)\n",
        "x=MaxPooling2D((2,2))(x)\n",
        "\n",
        "\n",
        "x=Conv2D(64,(3,3),activation='relu',padding='same')(x)\n",
        "x=BatchNormalization()(x)\n",
        "x=Conv2D(64,(3,3),activation='relu',padding='same')(x)\n",
        "x=BatchNormalization()(x)\n",
        "x=MaxPooling2D((2,2))(x)\n",
        "\n",
        "\n",
        "x=Conv2D(128,(3,3),activation='relu',padding='same')(x)\n",
        "x=BatchNormalization()(x)\n",
        "x=Conv2D(128,(3,3),activation='relu',padding='same')(x)\n",
        "x=BatchNormalization()(x)\n",
        "x=MaxPooling2D((2,2))(x)\n",
        "\n",
        "x = Flatten()(x)\n",
        "x = Dropout(0.2)(x)\n",
        "x = Dense(512,activation='relu')(x)\n",
        "x = Dropout(0.2)(x)\n",
        "x = Dense(512,activation='relu')(x)\n",
        "x = Dropout(0.2)(x)\n",
        "x = Dense(K,activation='softmax')(x)\n",
        "\n",
        "\n",
        "model = Model(i,x)"
      ],
      "metadata": {
        "id": "2Yse2B59l2ph"
      },
      "execution_count": null,
      "outputs": []
    },
    {
      "cell_type": "code",
      "source": [
        "model.compile(optimizer='adam',\n",
        "        loss='sparse_categorical_crossentropy',  \n",
        "        metrics=['accuracy'])"
      ],
      "metadata": {
        "id": "e-fwkEjDm648"
      },
      "execution_count": null,
      "outputs": []
    },
    {
      "cell_type": "code",
      "source": [
        "r=model.fit(x_train, y_train,\n",
        "                    validation_data=(x_test,y_test),\n",
        "                    epochs=15)"
      ],
      "metadata": {
        "colab": {
          "base_uri": "https://localhost:8080/"
        },
        "id": "4n9bbLYom-xa",
        "outputId": "f07bbccb-6a50-4c13-ebaa-9c8557099138"
      },
      "execution_count": null,
      "outputs": [
        {
          "output_type": "stream",
          "name": "stdout",
          "text": [
            "Epoch 1/15\n",
            "898/898 [==============================] - 13s 11ms/step - loss: 1.7098 - accuracy: 0.3382 - val_loss: 1.4906 - val_accuracy: 0.4140\n",
            "Epoch 2/15\n",
            "898/898 [==============================] - 10s 11ms/step - loss: 1.3902 - accuracy: 0.4615 - val_loss: 1.3200 - val_accuracy: 0.4987\n",
            "Epoch 3/15\n",
            "898/898 [==============================] - 10s 11ms/step - loss: 1.2576 - accuracy: 0.5169 - val_loss: 1.3232 - val_accuracy: 0.4923\n",
            "Epoch 4/15\n",
            "898/898 [==============================] - 10s 11ms/step - loss: 1.1838 - accuracy: 0.5474 - val_loss: 1.1850 - val_accuracy: 0.5461\n",
            "Epoch 5/15\n",
            "898/898 [==============================] - 10s 11ms/step - loss: 1.1054 - accuracy: 0.5841 - val_loss: 1.1468 - val_accuracy: 0.5698\n",
            "Epoch 6/15\n",
            "898/898 [==============================] - 9s 11ms/step - loss: 1.0414 - accuracy: 0.6096 - val_loss: 1.1261 - val_accuracy: 0.5759\n",
            "Epoch 7/15\n",
            "898/898 [==============================] - 9s 11ms/step - loss: 0.9846 - accuracy: 0.6332 - val_loss: 1.0661 - val_accuracy: 0.6102\n",
            "Epoch 8/15\n",
            "898/898 [==============================] - 9s 11ms/step - loss: 0.9085 - accuracy: 0.6619 - val_loss: 1.0656 - val_accuracy: 0.5968\n",
            "Epoch 9/15\n",
            "898/898 [==============================] - 10s 11ms/step - loss: 0.8403 - accuracy: 0.6876 - val_loss: 1.0909 - val_accuracy: 0.5996\n",
            "Epoch 10/15\n",
            "898/898 [==============================] - 10s 11ms/step - loss: 0.7572 - accuracy: 0.7176 - val_loss: 1.0749 - val_accuracy: 0.6102\n",
            "Epoch 11/15\n",
            "898/898 [==============================] - 11s 12ms/step - loss: 0.6776 - accuracy: 0.7503 - val_loss: 1.1476 - val_accuracy: 0.6004\n",
            "Epoch 12/15\n",
            "898/898 [==============================] - 10s 11ms/step - loss: 0.6166 - accuracy: 0.7780 - val_loss: 1.1392 - val_accuracy: 0.6121\n",
            "Epoch 13/15\n",
            "898/898 [==============================] - 12s 14ms/step - loss: 0.5512 - accuracy: 0.8032 - val_loss: 1.1422 - val_accuracy: 0.5988\n",
            "Epoch 14/15\n",
            "898/898 [==============================] - 12s 14ms/step - loss: 0.5119 - accuracy: 0.8171 - val_loss: 1.1679 - val_accuracy: 0.6291\n",
            "Epoch 15/15\n",
            "898/898 [==============================] - 11s 12ms/step - loss: 0.4555 - accuracy: 0.8381 - val_loss: 1.2588 - val_accuracy: 0.6152\n"
          ]
        }
      ]
    },
    {
      "cell_type": "code",
      "source": [
        "plt.plot(r.history['loss'],label='train loss')\n",
        "plt.plot(r.history['val_loss'],label='val_loss')\n",
        "plt.legend()"
      ],
      "metadata": {
        "colab": {
          "base_uri": "https://localhost:8080/",
          "height": 303
        },
        "id": "X0A2Ia0VoE9T",
        "outputId": "c423780e-f09e-4f16-dcdc-722f8cb35e25"
      },
      "execution_count": null,
      "outputs": [
        {
          "output_type": "execute_result",
          "data": {
            "text/plain": [
              "<matplotlib.legend.Legend at 0x7f14c0050bd0>"
            ]
          },
          "metadata": {},
          "execution_count": 22
        },
        {
          "output_type": "display_data",
          "data": {
            "text/plain": [
              "<Figure size 432x288 with 1 Axes>"
            ],
            "image/png": "[encoded data removed]"
          },
          "metadata": {
            "needs_background": "light"
          }
        }
      ]
    },
    {
      "cell_type": "code",
      "source": [
        "plt.plot(r.history['accuracy'],label='train accuray')\n",
        "plt.plot(r.history['val_accuracy'],label='val_accuracy')\n",
        "plt.legend()"
      ],
      "metadata": {
        "colab": {
          "base_uri": "https://localhost:8080/",
          "height": 303
        },
        "id": "5Z5TkPbpoHc-",
        "outputId": "8a1a3352-e1ea-46d6-f47a-8ea1d864f90f"
      },
      "execution_count": null,
      "outputs": [
        {
          "output_type": "execute_result",
          "data": {
            "text/plain": [
              "<matplotlib.legend.Legend at 0x7f144c01f5d0>"
            ]
          },
          "metadata": {},
          "execution_count": 23
        },
        {
          "output_type": "display_data",
          "data": {
            "text/plain": [
              "<Figure size 432x288 with 1 Axes>"
            ],
            "image/png": "[encoded data removed]"
          },
          "metadata": {
            "needs_background": "light"
          }
        }
      ]
    },
    {
      "cell_type": "code",
      "source": [
        "from sklearn.metrics import confusion_matrix\n",
        "import itertools\n",
        "\n",
        "def plot_confusion_matrix(cm,classes,\n",
        "                          normalize=False,\n",
        "                          title='Confusion matrix',\n",
        "                          cmap=plt.cm.Blues):\n",
        "  if normalize:\n",
        "      cm=cm.astype('float') / cm.sum(axis=1)[:,np.newaxis]\n",
        "  else: \n",
        "    print('Confusion matrix, without normalization')\n",
        "  \n",
        "  print(cm)\n",
        "\n",
        "  plt.imshow(cm,interpolation='nearest',cmap=cmap)\n",
        "  plt.title(title)\n",
        "  plt.colorbar()\n",
        "  tick_marks=np.arange(len(classes))\n",
        "  plt.xticks(tick_marks,classes,rotation=45)\n",
        "  plt.yticks(tick_marks,classes)\n",
        "  fmt='.2f' if normalize else 'd'\n",
        "  thresh=cm.max() /2.\n",
        "\n",
        "  for i,j in itertools.product(range(cm.shape[0]), range(cm.shape[1])):\n",
        "    plt.text(j,i,format(cm[i,j],fmt),\n",
        "             horizontalalignment=\"center\",\n",
        "             color=\"white\" if cm[i,j]>thresh else \"black\")\n",
        "    \n",
        "  plt.tight_layout()\n",
        "  plt.ylabel('True label')\n",
        "  plt.xlabel('Predicted label')\n",
        "  plt.show()\n",
        "\n",
        "\n",
        "p_test=model.predict(x_test).argmax(axis=1)\n",
        "cm=confusion_matrix(y_test,p_test)\n",
        "plot_confusion_matrix(cm,list(range(K)))"
      ],
      "metadata": {
        "colab": {
          "base_uri": "https://localhost:8080/",
          "height": 472
        },
        "id": "EAKN24DPoJ83",
        "outputId": "58aa5595-de6f-4695-b120-177fe0e75e17"
      },
      "execution_count": null,
      "outputs": [
        {
          "output_type": "stream",
          "name": "stdout",
          "text": [
            "Confusion matrix, without normalization\n",
            "[[261   4  75  19  83   8  41]\n",
            " [ 14  30   5   1   2   2   1]\n",
            " [ 60   3 283  16  99  39  28]\n",
            " [ 31   0  38 706  41  21  42]\n",
            " [ 69   3 106  26 306   7  77]\n",
            " [ 14   1  73  22   9 286  11]\n",
            " [ 60   0  61  29 130  10 336]]\n"
          ]
        },
        {
          "output_type": "display_data",
          "data": {
            "text/plain": [
              "<Figure size 432x288 with 2 Axes>"
            ],
            "image/png": "[encoded data removed]"
          },
          "metadata": {
            "needs_background": "light"
          }
        }
      ]
    },
    {
      "cell_type": "code",
      "source": [
        "emotions"
      ],
      "metadata": {
        "colab": {
          "base_uri": "https://localhost:8080/"
        },
        "id": "9M0xEzUjsGbJ",
        "outputId": "6f066cc1-55cb-4e2f-bc26-9228fdf04f8d"
      },
      "execution_count": null,
      "outputs": [
        {
          "output_type": "execute_result",
          "data": {
            "text/plain": [
              "{0: 'Angry',\n",
              " 1: 'Disgust',\n",
              " 2: 'Fear',\n",
              " 3: 'Happy',\n",
              " 4: 'Sad',\n",
              " 5: 'Surprise',\n",
              " 6: 'Neutral'}"
            ]
          },
          "metadata": {},
          "execution_count": 32
        }
      ]
    },
    {
      "cell_type": "code",
      "source": [
        "misclassifies_idx=np.where(p_test !=y_test)[0]\n",
        "i = np.random.choice(misclassifies_idx)\n",
        "plt.imshow(x_test[i].reshape(48,48 ),cmap='gray')\n",
        "plt.title(\"True label: %s Predicted %s\" % (emotions[y_test[i]],emotions[p_test[i]]))"
      ],
      "metadata": {
        "colab": {
          "base_uri": "https://localhost:8080/",
          "height": 319
        },
        "id": "JK4NJJDCoMi_",
        "outputId": "9ab5d666-cf8a-48e4-9954-0c71c658516b"
      },
      "execution_count": null,
      "outputs": [
        {
          "output_type": "execute_result",
          "data": {
            "text/plain": [
              "Text(0.5, 1.0, 'True label: Neutral Predicted Angry')"
            ]
          },
          "metadata": {},
          "execution_count": 33
        },
        {
          "output_type": "display_data",
          "data": {
            "text/plain": [
              "<Figure size 432x288 with 1 Axes>"
            ],
            "image/png": "[encoded data removed]"
          },
          "metadata": {
            "needs_background": "light"
          }
        }
      ]
    },
    {
      "cell_type": "markdown",
      "source": [
        "Proviamo usando il generator\n"
      ],
      "metadata": {
        "id": "ItS8DwBMrabV"
      }
    },
    {
      "cell_type": "code",
      "source": [
        "i = Input(shape=x_train[0].shape)\n",
        "\n",
        "x=Conv2D(32,(3,3),activation='relu',padding='same')(i)\n",
        "x=BatchNormalization()(x)\n",
        "x=Conv2D(32,(3,3),activation='relu',padding='same')(x)\n",
        "x=BatchNormalization()(x)\n",
        "x=MaxPooling2D((2,2))(x)\n",
        "\n",
        "\n",
        "x=Conv2D(64,(3,3),activation='relu',padding='same')(x)\n",
        "x=BatchNormalization()(x)\n",
        "x=Conv2D(64,(3,3),activation='relu',padding='same')(x)\n",
        "x=BatchNormalization()(x)\n",
        "x=MaxPooling2D((2,2))(x)\n",
        "\n",
        "\n",
        "x=Conv2D(128,(3,3),activation='relu',padding='same')(x)\n",
        "x=BatchNormalization()(x)\n",
        "x=Conv2D(128,(3,3),activation='relu',padding='same')(x)\n",
        "x=BatchNormalization()(x)\n",
        "x=MaxPooling2D((2,2))(x)\n",
        "\n",
        "\n",
        "x=Conv2D(256,(3,3),activation='relu',padding='same')(x)\n",
        "x=BatchNormalization()(x)\n",
        "x=Conv2D(256,(3,3),activation='relu',padding='same')(x)\n",
        "x=BatchNormalization()(x)\n",
        "x=MaxPooling2D((2,2))(x)\n",
        "\n",
        "\n",
        "x=Conv2D(512,(3,3),activation='relu',padding='same')(x)\n",
        "x=BatchNormalization()(x)\n",
        "x=Conv2D(512,(3,3),activation='relu',padding='same')(x)\n",
        "x=BatchNormalization()(x)\n",
        "x=MaxPooling2D((2,2))(x)\n",
        "\n",
        "\n",
        "x = Flatten()(x)\n",
        "x = Dropout(0.2)(x)\n",
        "x = Dense(256,activation='relu')(x)\n",
        "x = Dropout(0.2)(x)\n",
        "x = Dense(512,activation='relu')(x)\n",
        "x = Dropout(0.2)(x)\n",
        "x = Dense(K,activation='softmax')(x)\n",
        "\n",
        "\n",
        "model = Model(i,x)"
      ],
      "metadata": {
        "id": "dUIiPDv9rZYr"
      },
      "execution_count": null,
      "outputs": []
    },
    {
      "cell_type": "code",
      "source": [
        "model.compile(optimizer='sgd',\n",
        "        loss='sparse_categorical_crossentropy',  \n",
        "        metrics=['accuracy'])\n"
      ],
      "metadata": {
        "id": "LDRJdH9lsw08"
      },
      "execution_count": null,
      "outputs": []
    },
    {
      "cell_type": "code",
      "source": [
        "from tensorflow.keras.preprocessing.image import ImageDataGenerator\n",
        "data_generator=ImageDataGenerator(\n",
        "    width_shift_range=0.1,\n",
        "    height_shift_range=0.1,\n",
        "    horizontal_flip=True,\n",
        ")\n",
        "batch_size=32\n",
        "train_generator=data_generator.flow(x_train,y_train,batch_size)"
      ],
      "metadata": {
        "id": "-9ZsYt2SrROw"
      },
      "execution_count": null,
      "outputs": []
    },
    {
      "cell_type": "code",
      "source": [
        "steps_per_epoch = x_train.shape[0] // batch_size\n",
        "\n",
        "r = model.fit_generator(\n",
        "    train_generator,\n",
        "    validation_data=(x_test,y_test),\n",
        "    steps_per_epoch=steps_per_epoch,\n",
        "    epochs=50\n",
        ")"
      ],
      "metadata": {
        "colab": {
          "base_uri": "https://localhost:8080/"
        },
        "id": "rLnPZ6jurT3T",
        "outputId": "a674923f-fa08-4a13-fb4b-b382582423f2"
      },
      "execution_count": null,
      "outputs": [
        {
          "output_type": "stream",
          "name": "stdout",
          "text": [
            "Epoch 1/50\n"
          ]
        },
        {
          "output_type": "stream",
          "name": "stderr",
          "text": [
            "/usr/local/lib/python3.7/dist-packages/ipykernel_launcher.py:7: UserWarning: `Model.fit_generator` is deprecated and will be removed in a future version. Please use `Model.fit`, which supports generators.\n",
            "  import sys\n"
          ]
        },
        {
          "output_type": "stream",
          "name": "stdout",
          "text": [
            "897/897 [==============================] - 18s 19ms/step - loss: 1.8289 - accuracy: 0.2519 - val_loss: 1.7124 - val_accuracy: 0.3051\n",
            "Epoch 2/50\n",
            "897/897 [==============================] - 17s 19ms/step - loss: 1.6534 - accuracy: 0.3370 - val_loss: 1.5955 - val_accuracy: 0.3773\n",
            "Epoch 3/50\n",
            "897/897 [==============================] - 17s 19ms/step - loss: 1.5270 - accuracy: 0.3996 - val_loss: 1.6001 - val_accuracy: 0.3842\n",
            "Epoch 4/50\n",
            "897/897 [==============================] - 17s 19ms/step - loss: 1.4346 - accuracy: 0.4442 - val_loss: 1.3512 - val_accuracy: 0.4706\n",
            "Epoch 5/50\n",
            "897/897 [==============================] - 17s 19ms/step - loss: 1.3493 - accuracy: 0.4776 - val_loss: 1.2424 - val_accuracy: 0.5202\n",
            "Epoch 6/50\n",
            "897/897 [==============================] - 17s 19ms/step - loss: 1.2874 - accuracy: 0.5066 - val_loss: 1.2489 - val_accuracy: 0.5274\n",
            "Epoch 7/50\n",
            "897/897 [==============================] - 17s 19ms/step - loss: 1.2291 - accuracy: 0.5260 - val_loss: 1.1639 - val_accuracy: 0.5561\n",
            "Epoch 8/50\n",
            "897/897 [==============================] - 18s 20ms/step - loss: 1.1880 - accuracy: 0.5499 - val_loss: 1.1906 - val_accuracy: 0.5458\n",
            "Epoch 9/50\n",
            "897/897 [==============================] - 17s 19ms/step - loss: 1.1608 - accuracy: 0.5597 - val_loss: 1.1251 - val_accuracy: 0.5678\n",
            "Epoch 10/50\n",
            "897/897 [==============================] - 17s 19ms/step - loss: 1.1232 - accuracy: 0.5715 - val_loss: 1.1039 - val_accuracy: 0.5773\n",
            "Epoch 11/50\n",
            "897/897 [==============================] - 17s 19ms/step - loss: 1.1033 - accuracy: 0.5815 - val_loss: 1.1088 - val_accuracy: 0.5745\n",
            "Epoch 12/50\n",
            "897/897 [==============================] - 17s 19ms/step - loss: 1.0844 - accuracy: 0.5889 - val_loss: 1.1095 - val_accuracy: 0.5804\n",
            "Epoch 13/50\n",
            "897/897 [==============================] - 17s 19ms/step - loss: 1.0657 - accuracy: 0.5945 - val_loss: 1.2365 - val_accuracy: 0.5347\n",
            "Epoch 14/50\n",
            "897/897 [==============================] - 17s 19ms/step - loss: 1.0368 - accuracy: 0.6072 - val_loss: 1.0672 - val_accuracy: 0.5982\n",
            "Epoch 15/50\n",
            "897/897 [==============================] - 17s 19ms/step - loss: 1.0181 - accuracy: 0.6140 - val_loss: 1.0332 - val_accuracy: 0.6057\n",
            "Epoch 16/50\n",
            "897/897 [==============================] - 17s 19ms/step - loss: 1.0004 - accuracy: 0.6218 - val_loss: 1.0732 - val_accuracy: 0.5938\n",
            "Epoch 17/50\n",
            "897/897 [==============================] - 18s 20ms/step - loss: 0.9962 - accuracy: 0.6256 - val_loss: 1.0179 - val_accuracy: 0.6213\n",
            "Epoch 18/50\n",
            "897/897 [==============================] - 17s 19ms/step - loss: 0.9760 - accuracy: 0.6303 - val_loss: 1.0525 - val_accuracy: 0.6096\n",
            "Epoch 19/50\n",
            "897/897 [==============================] - 17s 19ms/step - loss: 0.9597 - accuracy: 0.6387 - val_loss: 1.0133 - val_accuracy: 0.6152\n",
            "Epoch 20/50\n",
            "897/897 [==============================] - 17s 19ms/step - loss: 0.9455 - accuracy: 0.6474 - val_loss: 1.0031 - val_accuracy: 0.6239\n",
            "Epoch 21/50\n",
            "897/897 [==============================] - 17s 19ms/step - loss: 0.9299 - accuracy: 0.6501 - val_loss: 0.9819 - val_accuracy: 0.6319\n",
            "Epoch 22/50\n",
            "897/897 [==============================] - 17s 19ms/step - loss: 0.9156 - accuracy: 0.6534 - val_loss: 1.0178 - val_accuracy: 0.6219\n",
            "Epoch 23/50\n",
            "897/897 [==============================] - 17s 19ms/step - loss: 0.9008 - accuracy: 0.6612 - val_loss: 0.9800 - val_accuracy: 0.6280\n",
            "Epoch 24/50\n",
            "897/897 [==============================] - 17s 19ms/step - loss: 0.8903 - accuracy: 0.6654 - val_loss: 0.9864 - val_accuracy: 0.6314\n",
            "Epoch 25/50\n",
            "897/897 [==============================] - 17s 19ms/step - loss: 0.8838 - accuracy: 0.6676 - val_loss: 0.9917 - val_accuracy: 0.6367\n",
            "Epoch 26/50\n",
            "897/897 [==============================] - 17s 19ms/step - loss: 0.8625 - accuracy: 0.6779 - val_loss: 0.9568 - val_accuracy: 0.6484\n",
            "Epoch 27/50\n",
            "897/897 [==============================] - 17s 19ms/step - loss: 0.8573 - accuracy: 0.6786 - val_loss: 0.9726 - val_accuracy: 0.6372\n",
            "Epoch 28/50\n",
            "897/897 [==============================] - 18s 20ms/step - loss: 0.8504 - accuracy: 0.6798 - val_loss: 0.9904 - val_accuracy: 0.6361\n",
            "Epoch 29/50\n",
            "897/897 [==============================] - 17s 19ms/step - loss: 0.8348 - accuracy: 0.6874 - val_loss: 0.9869 - val_accuracy: 0.6356\n",
            "Epoch 30/50\n",
            "897/897 [==============================] - 18s 20ms/step - loss: 0.8250 - accuracy: 0.6898 - val_loss: 0.9473 - val_accuracy: 0.6551\n",
            "Epoch 31/50\n",
            "897/897 [==============================] - 17s 19ms/step - loss: 0.8136 - accuracy: 0.6949 - val_loss: 0.9697 - val_accuracy: 0.6431\n",
            "Epoch 32/50\n",
            "897/897 [==============================] - 17s 19ms/step - loss: 0.7997 - accuracy: 0.7000 - val_loss: 0.9509 - val_accuracy: 0.6623\n",
            "Epoch 33/50\n",
            "897/897 [==============================] - 17s 19ms/step - loss: 0.7944 - accuracy: 0.7047 - val_loss: 0.9949 - val_accuracy: 0.6386\n",
            "Epoch 34/50\n",
            "897/897 [==============================] - 17s 19ms/step - loss: 0.7856 - accuracy: 0.7082 - val_loss: 0.9523 - val_accuracy: 0.6567\n",
            "Epoch 35/50\n",
            "897/897 [==============================] - 17s 19ms/step - loss: 0.7749 - accuracy: 0.7103 - val_loss: 0.9372 - val_accuracy: 0.6598\n",
            "Epoch 36/50\n",
            "897/897 [==============================] - 17s 19ms/step - loss: 0.7604 - accuracy: 0.7192 - val_loss: 0.9398 - val_accuracy: 0.6606\n",
            "Epoch 37/50\n",
            "897/897 [==============================] - 17s 19ms/step - loss: 0.7533 - accuracy: 0.7177 - val_loss: 0.9699 - val_accuracy: 0.6523\n",
            "Epoch 38/50\n",
            "897/897 [==============================] - 18s 20ms/step - loss: 0.7413 - accuracy: 0.7230 - val_loss: 0.9694 - val_accuracy: 0.6464\n",
            "Epoch 39/50\n",
            "897/897 [==============================] - 17s 18ms/step - loss: 0.7341 - accuracy: 0.7247 - val_loss: 0.9832 - val_accuracy: 0.6350\n",
            "Epoch 40/50\n",
            "897/897 [==============================] - 18s 20ms/step - loss: 0.7251 - accuracy: 0.7287 - val_loss: 0.9899 - val_accuracy: 0.6447\n",
            "Epoch 41/50\n",
            "897/897 [==============================] - 17s 19ms/step - loss: 0.7145 - accuracy: 0.7315 - val_loss: 0.9858 - val_accuracy: 0.6548\n",
            "Epoch 42/50\n",
            "897/897 [==============================] - 17s 19ms/step - loss: 0.7076 - accuracy: 0.7359 - val_loss: 0.9654 - val_accuracy: 0.6559\n",
            "Epoch 43/50\n",
            "897/897 [==============================] - 17s 19ms/step - loss: 0.6948 - accuracy: 0.7430 - val_loss: 0.9860 - val_accuracy: 0.6495\n",
            "Epoch 44/50\n",
            "897/897 [==============================] - 17s 19ms/step - loss: 0.6847 - accuracy: 0.7440 - val_loss: 0.9754 - val_accuracy: 0.6545\n",
            "Epoch 45/50\n",
            "897/897 [==============================] - 18s 20ms/step - loss: 0.6745 - accuracy: 0.7486 - val_loss: 0.9427 - val_accuracy: 0.6690\n",
            "Epoch 46/50\n",
            "897/897 [==============================] - 17s 19ms/step - loss: 0.6696 - accuracy: 0.7471 - val_loss: 0.9717 - val_accuracy: 0.6637\n",
            "Epoch 47/50\n",
            "897/897 [==============================] - 17s 19ms/step - loss: 0.6576 - accuracy: 0.7566 - val_loss: 0.9881 - val_accuracy: 0.6573\n",
            "Epoch 48/50\n",
            "897/897 [==============================] - 22s 25ms/step - loss: 0.6496 - accuracy: 0.7594 - val_loss: 1.0524 - val_accuracy: 0.6317\n",
            "Epoch 49/50\n",
            "897/897 [==============================] - 19s 21ms/step - loss: 0.6418 - accuracy: 0.7617 - val_loss: 1.0077 - val_accuracy: 0.6528\n",
            "Epoch 50/50\n",
            "897/897 [==============================] - 24s 27ms/step - loss: 0.6318 - accuracy: 0.7656 - val_loss: 0.9769 - val_accuracy: 0.6734\n"
          ]
        }
      ]
    },
    {
      "cell_type": "code",
      "source": [
        "plt.plot(r.history['loss'],label='train loss')\n",
        "plt.plot(r.history['val_loss'],label='val_loss')\n",
        "plt.legend()"
      ],
      "metadata": {
        "colab": {
          "base_uri": "https://localhost:8080/",
          "height": 303
        },
        "id": "6w3Fq8SnvTk_",
        "outputId": "f4664c91-93c0-4c3f-cbb7-ac187f1ce3ab"
      },
      "execution_count": null,
      "outputs": [
        {
          "output_type": "execute_result",
          "data": {
            "text/plain": [
              "<matplotlib.legend.Legend at 0x7f1436f9f110>"
            ]
          },
          "metadata": {},
          "execution_count": 57
        },
        {
          "output_type": "display_data",
          "data": {
            "text/plain": [
              "<Figure size 432x288 with 1 Axes>"
            ],
            "image/png": "[encoded data removed]"
          },
          "metadata": {
            "needs_background": "light"
          }
        }
      ]
    },
    {
      "cell_type": "code",
      "source": [
        "plt.plot(r.history['accuracy'],label='train accuray')\n",
        "plt.plot(r.history['val_accuracy'],label='val_accuracy')\n",
        "plt.legend()"
      ],
      "metadata": {
        "colab": {
          "base_uri": "https://localhost:8080/",
          "height": 303
        },
        "id": "yYV-jityvaTt",
        "outputId": "c63f78f0-09f2-4483-8fbf-9b7a6bdac06c"
      },
      "execution_count": null,
      "outputs": [
        {
          "output_type": "execute_result",
          "data": {
            "text/plain": [
              "<matplotlib.legend.Legend at 0x7f1436fc9fd0>"
            ]
          },
          "metadata": {},
          "execution_count": 58
        },
        {
          "output_type": "display_data",
          "data": {
            "text/plain": [
              "<Figure size 432x288 with 1 Axes>"
            ],
            "image/png": "[encoded data removed]"
          },
          "metadata": {
            "needs_background": "light"
          }
        }
      ]
    }
  ]
}