{
  "nbformat": 4,
  "nbformat_minor": 0,
  "metadata": {
    "colab": {
      "provenance": []
    },
    "kernelspec": {
      "name": "python3",
      "display_name": "Python 3"
    },
    "language_info": {
      "name": "python"
    },
    "accelerator": "GPU"
  },
  "cells": [
    {
      "cell_type": "code",
      "execution_count": null,
      "metadata": {
        "id": "OYkEWQkeUy7Y"
      },
      "outputs": [],
      "source": [
        "from tensorflow.keras.layers import Input, Dense, LeakyReLU, Dropout, BatchNormalization, Conv2D, MaxPooling2D, Flatten, Reshape, Conv2DTranspose\n",
        "\n",
        "from tensorflow.keras.models import Model\n",
        "from tensorflow.keras.optimizers import SGD, Adam\n",
        "\n",
        "import tensorflow as tf\n",
        "import numpy as np\n",
        "import pandas as pd\n",
        "import matplotlib.pyplot as plt\n",
        "import sys, os\n",
        "from glob import glob\n",
        "from tensorflow.keras.preprocessing import image"
      ]
    },
    {
      "cell_type": "code",
      "source": [
        "!pip install -q kaggle\n",
        "from google.colab import files\n",
        "files.upload()\n",
        "!mkdir ~/.kaggle\n",
        "! cp kaggle.json ~/.kaggle/\n",
        "! chmod 600 ~/.kaggle/kaggle.json"
      ],
      "metadata": {
        "colab": {
          "base_uri": "https://localhost:8080/",
          "height": 92
        },
        "id": "2sBs0mC2U03C",
        "outputId": "0d5cd797-c90a-4cd8-8dcd-f0539a3479f5"
      },
      "execution_count": null,
      "outputs": [
        {
          "output_type": "display_data",
          "data": {
            "text/plain": [
              "<IPython.core.display.HTML object>"
            ],
            "text/html": [
              "\n",
              "     <input type=\"file\" id=\"files-4645fdba-43df-4273-9a1c-9c2c86f00347\" name=\"files[]\" multiple disabled\n",
              "        style=\"border:none\" />\n",
              "     <output id=\"result-4645fdba-43df-4273-9a1c-9c2c86f00347\">\n",
              "      Upload widget is only available when the cell has been executed in the\n",
              "      current browser session. Please rerun this cell to enable.\n",
              "      </output>\n",
              "      <script>// Copyright 2017 Google LLC\n",
              "//\n",
              "// Licensed under the Apache License, Version 2.0 (the \"License\");\n",
              "// you may not use this file except in compliance with the License.\n",
              "// You may obtain a copy of the License at\n",
              "//\n",
              "//      http://www.apache.org/licenses/LICENSE-2.0\n",
              "//\n",
              "// Unless required by applicable law or agreed to in writing, software\n",
              "// distributed under the License is distributed on an \"AS IS\" BASIS,\n",
              "// WITHOUT WARRANTIES OR CONDITIONS OF ANY KIND, either express or implied.\n",
              "// See the License for the specific language governing permissions and\n",
              "// limitations under the License.\n",
              "\n",
              "/**\n",
              " * @fileoverview Helpers for google.colab Python module.\n",
              " */\n",
              "(function(scope) {\n",
              "function span(text, styleAttributes = {}) {\n",
              "  const element = document.createElement('span');\n",
              "  element.textContent = text;\n",
              "  for (const key of Object.keys(styleAttributes)) {\n",
              "    element.style[key] = styleAttributes[key];\n",
              "  }\n",
              "  return element;\n",
              "}\n",
              "\n",
              "// Max number of bytes which will be uploaded at a time.\n",
              "const MAX_PAYLOAD_SIZE = 100 * 1024;\n",
              "\n",
              "function _uploadFiles(inputId, outputId) {\n",
              "  const steps = uploadFilesStep(inputId, outputId);\n",
              "  const outputElement = document.getElementById(outputId);\n",
              "  // Cache steps on the outputElement to make it available for the next call\n",
              "  // to uploadFilesContinue from Python.\n",
              "  outputElement.steps = steps;\n",
              "\n",
              "  return _uploadFilesContinue(outputId);\n",
              "}\n",
              "\n",
              "// This is roughly an async generator (not supported in the browser yet),\n",
              "// where there are multiple asynchronous steps and the Python side is going\n",
              "// to poll for completion of each step.\n",
              "// This uses a Promise to block the python side on completion of each step,\n",
              "// then passes the result of the previous step as the input to the next step.\n",
              "function _uploadFilesContinue(outputId) {\n",
              "  const outputElement = document.getElementById(outputId);\n",
              "  const steps = outputElement.steps;\n",
              "\n",
              "  const next = steps.next(outputElement.lastPromiseValue);\n",
              "  return Promise.resolve(next.value.promise).then((value) => {\n",
              "    // Cache the last promise value to make it available to the next\n",
              "    // step of the generator.\n",
              "    outputElement.lastPromiseValue = value;\n",
              "    return next.value.response;\n",
              "  });\n",
              "}\n",
              "\n",
              "/**\n",
              " * Generator function which is called between each async step of the upload\n",
              " * process.\n",
              " * @param {string} inputId Element ID of the input file picker element.\n",
              " * @param {string} outputId Element ID of the output display.\n",
              " * @return {!Iterable<!Object>} Iterable of next steps.\n",
              " */\n",
              "function* uploadFilesStep(inputId, outputId) {\n",
              "  const inputElement = document.getElementById(inputId);\n",
              "  inputElement.disabled = false;\n",
              "\n",
              "  const outputElement = document.getElementById(outputId);\n",
              "  outputElement.innerHTML = '';\n",
              "\n",
              "  const pickedPromise = new Promise((resolve) => {\n",
              "    inputElement.addEventListener('change', (e) => {\n",
              "      resolve(e.target.files);\n",
              "    });\n",
              "  });\n",
              "\n",
              "  const cancel = document.createElement('button');\n",
              "  inputElement.parentElement.appendChild(cancel);\n",
              "  cancel.textContent = 'Cancel upload';\n",
              "  const cancelPromise = new Promise((resolve) => {\n",
              "    cancel.onclick = () => {\n",
              "      resolve(null);\n",
              "    };\n",
              "  });\n",
              "\n",
              "  // Wait for the user to pick the files.\n",
              "  const files = yield {\n",
              "    promise: Promise.race([pickedPromise, cancelPromise]),\n",
              "    response: {\n",
              "      action: 'starting',\n",
              "    }\n",
              "  };\n",
              "\n",
              "  cancel.remove();\n",
              "\n",
              "  // Disable the input element since further picks are not allowed.\n",
              "  inputElement.disabled = true;\n",
              "\n",
              "  if (!files) {\n",
              "    return {\n",
              "      response: {\n",
              "        action: 'complete',\n",
              "      }\n",
              "    };\n",
              "  }\n",
              "\n",
              "  for (const file of files) {\n",
              "    const li = document.createElement('li');\n",
              "    li.append(span(file.name, {fontWeight: 'bold'}));\n",
              "    li.append(span(\n",
              "        `(${file.type || 'n/a'}) - ${file.size} bytes, ` +\n",
              "        `last modified: ${\n",
              "            file.lastModifiedDate ? file.lastModifiedDate.toLocaleDateString() :\n",
              "                                    'n/a'} - `));\n",
              "    const percent = span('0% done');\n",
              "    li.appendChild(percent);\n",
              "\n",
              "    outputElement.appendChild(li);\n",
              "\n",
              "    const fileDataPromise = new Promise((resolve) => {\n",
              "      const reader = new FileReader();\n",
              "      reader.onload = (e) => {\n",
              "        resolve(e.target.result);\n",
              "      };\n",
              "      reader.readAsArrayBuffer(file);\n",
              "    });\n",
              "    // Wait for the data to be ready.\n",
              "    let fileData = yield {\n",
              "      promise: fileDataPromise,\n",
              "      response: {\n",
              "        action: 'continue',\n",
              "      }\n",
              "    };\n",
              "\n",
              "    // Use a chunked sending to avoid message size limits. See b/62115660.\n",
              "    let position = 0;\n",
              "    do {\n",
              "      const length = Math.min(fileData.byteLength - position, MAX_PAYLOAD_SIZE);\n",
              "      const chunk = new Uint8Array(fileData, position, length);\n",
              "      position += length;\n",
              "\n",
              "      const base64 = btoa(String.fromCharCode.apply(null, chunk));\n",
              "      yield {\n",
              "        response: {\n",
              "          action: 'append',\n",
              "          file: file.name,\n",
              "          data: base64,\n",
              "        },\n",
              "      };\n",
              "\n",
              "      let percentDone = fileData.byteLength === 0 ?\n",
              "          100 :\n",
              "          Math.round((position / fileData.byteLength) * 100);\n",
              "      percent.textContent = `${percentDone}% done`;\n",
              "\n",
              "    } while (position < fileData.byteLength);\n",
              "  }\n",
              "\n",
              "  // All done.\n",
              "  yield {\n",
              "    response: {\n",
              "      action: 'complete',\n",
              "    }\n",
              "  };\n",
              "}\n",
              "\n",
              "scope.google = scope.google || {};\n",
              "scope.google.colab = scope.google.colab || {};\n",
              "scope.google.colab._files = {\n",
              "  _uploadFiles,\n",
              "  _uploadFilesContinue,\n",
              "};\n",
              "})(self);\n",
              "</script> "
            ]
          },
          "metadata": {}
        },
        {
          "output_type": "stream",
          "name": "stdout",
          "text": [
            "Saving kaggle.json to kaggle.json\n"
          ]
        }
      ]
    },
    {
      "cell_type": "code",
      "source": [
        "! kaggle datasets download -d hyperclaw79/fakefaces"
      ],
      "metadata": {
        "colab": {
          "base_uri": "https://localhost:8080/"
        },
        "id": "hIsZG1AoU2tk",
        "outputId": "d661ed24-6881-4478-9253-67e4f34c427a"
      },
      "execution_count": null,
      "outputs": [
        {
          "output_type": "stream",
          "name": "stdout",
          "text": [
            "Downloading fakefaces.zip to /content\n",
            "100% 5.32G/5.33G [00:50<00:00, 138MB/s]\n",
            "100% 5.33G/5.33G [00:50<00:00, 112MB/s]\n"
          ]
        }
      ]
    },
    {
      "cell_type": "code",
      "source": [
        "!unzip -qq fakefaces.zip"
      ],
      "metadata": {
        "id": "WzqosGP2VV-3"
      },
      "execution_count": null,
      "outputs": []
    },
    {
      "cell_type": "code",
      "source": [
        "!mkdir './train'\n",
        "!mv ./*.jpg ./train/"
      ],
      "metadata": {
        "id": "RL6Jrc_TVv7C"
      },
      "execution_count": null,
      "outputs": []
    },
    {
      "cell_type": "code",
      "source": [
        "files = glob('./train/*')\n",
        "\n",
        "df= pd.DataFrame({'filename':files})"
      ],
      "metadata": {
        "id": "Aix0H7ApVSko"
      },
      "execution_count": null,
      "outputs": []
    },
    {
      "cell_type": "code",
      "source": [
        "df.head()"
      ],
      "metadata": {
        "colab": {
          "base_uri": "https://localhost:8080/",
          "height": 221
        },
        "id": "9mhXROSIWMWB",
        "outputId": "320eea10-c6d8-4a6d-ae6f-b6c19654966d"
      },
      "execution_count": null,
      "outputs": [
        {
          "output_type": "execute_result",
          "data": {
            "text/plain": [
              "           filename\n",
              "0  ./train/1629.jpg\n",
              "1  ./train/1874.jpg\n",
              "2  ./train/6226.jpg\n",
              "3  ./train/5040.jpg\n",
              "4  ./train/2642.jpg"
            ],
            "text/html": [
              "\n",
              "  <div id=\"df-7a70e051-629a-4269-a9bc-a4073b1263b1\">\n",
              "    <div class=\"colab-df-container\">\n",
              "      <div>\n",
              "<style scoped>\n",
              "    .dataframe tbody tr th:only-of-type {\n",
              "        vertical-align: middle;\n",
              "    }\n",
              "\n",
              "    .dataframe tbody tr th {\n",
              "        vertical-align: top;\n",
              "    }\n",
              "\n",
              "    .dataframe thead th {\n",
              "        text-align: right;\n",
              "    }\n",
              "</style>\n",
              "<table border=\"1\" class=\"dataframe\">\n",
              "  <thead>\n",
              "    <tr style=\"text-align: right;\">\n",
              "      <th></th>\n",
              "      <th>filename</th>\n",
              "    </tr>\n",
              "  </thead>\n",
              "  <tbody>\n",
              "    <tr>\n",
              "      <th>0</th>\n",
              "      <td>./train/1629.jpg</td>\n",
              "    </tr>\n",
              "    <tr>\n",
              "      <th>1</th>\n",
              "      <td>./train/1874.jpg</td>\n",
              "    </tr>\n",
              "    <tr>\n",
              "      <th>2</th>\n",
              "      <td>./train/6226.jpg</td>\n",
              "    </tr>\n",
              "    <tr>\n",
              "      <th>3</th>\n",
              "      <td>./train/5040.jpg</td>\n",
              "    </tr>\n",
              "    <tr>\n",
              "      <th>4</th>\n",
              "      <td>./train/2642.jpg</td>\n",
              "    </tr>\n",
              "  </tbody>\n",
              "</table>\n",
              "</div>\n",
              "      <button class=\"colab-df-convert\" onclick=\"convertToInteractive('df-7a70e051-629a-4269-a9bc-a4073b1263b1')\"\n",
              "              title=\"Convert this dataframe to an interactive table.\"\n",
              "              style=\"display:none;\">\n",
              "        \n",
              "  <svg xmlns=\"http://www.w3.org/2000/svg\" height=\"24px\"viewBox=\"0 0 24 24\"\n",
              "       width=\"24px\">\n",
              "    <path d=\"M0 0h24v24H0V0z\" fill=\"none\"/>\n",
              "    <path d=\"M18.56 5.44l.94 2.06.94-2.06 2.06-.94-2.06-.94-.94-2.06-.94 2.06-2.06.94zm-11 1L8.5 8.5l.94-2.06 2.06-.94-2.06-.94L8.5 2.5l-.94 2.06-2.06.94zm10 10l.94 2.06.94-2.06 2.06-.94-2.06-.94-.94-2.06-.94 2.06-2.06.94z\"/><path d=\"M17.41 7.96l-1.37-1.37c-.4-.4-.92-.59-1.43-.59-.52 0-1.04.2-1.43.59L10.3 9.45l-7.72 7.72c-.78.78-.78 2.05 0 2.83L4 21.41c.39.39.9.59 1.41.59.51 0 1.02-.2 1.41-.59l7.78-7.78 2.81-2.81c.8-.78.8-2.07 0-2.86zM5.41 20L4 18.59l7.72-7.72 1.47 1.35L5.41 20z\"/>\n",
              "  </svg>\n",
              "      </button>\n",
              "      \n",
              "  <style>\n",
              "    .colab-df-container {\n",
              "      display:flex;\n",
              "      flex-wrap:wrap;\n",
              "      gap: 12px;\n",
              "    }\n",
              "\n",
              "    .colab-df-convert {\n",
              "      background-color: #E8F0FE;\n",
              "      border: none;\n",
              "      border-radius: 50%;\n",
              "      cursor: pointer;\n",
              "      display: none;\n",
              "      fill: #1967D2;\n",
              "      height: 32px;\n",
              "      padding: 0 0 0 0;\n",
              "      width: 32px;\n",
              "    }\n",
              "\n",
              "    .colab-df-convert:hover {\n",
              "      background-color: #E2EBFA;\n",
              "      box-shadow: 0px 1px 2px rgba(60, 64, 67, 0.3), 0px 1px 3px 1px rgba(60, 64, 67, 0.15);\n",
              "      fill: #174EA6;\n",
              "    }\n",
              "\n",
              "    [theme=dark] .colab-df-convert {\n",
              "      background-color: #3B4455;\n",
              "      fill: #D2E3FC;\n",
              "    }\n",
              "\n",
              "    [theme=dark] .colab-df-convert:hover {\n",
              "      background-color: #434B5C;\n",
              "      box-shadow: 0px 1px 3px 1px rgba(0, 0, 0, 0.15);\n",
              "      filter: drop-shadow(0px 1px 2px rgba(0, 0, 0, 0.3));\n",
              "      fill: #FFFFFF;\n",
              "    }\n",
              "  </style>\n",
              "\n",
              "      <script>\n",
              "        const buttonEl =\n",
              "          document.querySelector('#df-7a70e051-629a-4269-a9bc-a4073b1263b1 button.colab-df-convert');\n",
              "        buttonEl.style.display =\n",
              "          google.colab.kernel.accessAllowed ? 'block' : 'none';\n",
              "\n",
              "        async function convertToInteractive(key) {\n",
              "          const element = document.querySelector('#df-7a70e051-629a-4269-a9bc-a4073b1263b1');\n",
              "          const dataTable =\n",
              "            await google.colab.kernel.invokeFunction('convertToInteractive',\n",
              "                                                     [key], {});\n",
              "          if (!dataTable) return;\n",
              "\n",
              "          const docLinkHtml = 'Like what you see? Visit the ' +\n",
              "            '<a target=\"_blank\" href=https://colab.research.google.com/notebooks/data_table.ipynb>data table notebook</a>'\n",
              "            + ' to learn more about interactive tables.';\n",
              "          element.innerHTML = '';\n",
              "          dataTable['output_type'] = 'display_data';\n",
              "          await google.colab.output.renderOutput(dataTable, element);\n",
              "          const docLink = document.createElement('div');\n",
              "          docLink.innerHTML = docLinkHtml;\n",
              "          element.appendChild(docLink);\n",
              "        }\n",
              "      </script>\n",
              "    </div>\n",
              "  </div>\n",
              "  "
            ]
          },
          "metadata": {},
          "execution_count": 10
        }
      ]
    },
    {
      "cell_type": "code",
      "source": [
        "train_path=\"./train\"\n",
        "\n",
        "IMAGE_SIZE=[64, 64]\n",
        "\n",
        "image_files=glob(train_path+\"/*.jpg\")"
      ],
      "metadata": {
        "id": "oC49M1doWSyi"
      },
      "execution_count": null,
      "outputs": []
    },
    {
      "cell_type": "code",
      "source": [
        "plt.imshow(image.load_img(np.random.choice(image_files)))"
      ],
      "metadata": {
        "colab": {
          "base_uri": "https://localhost:8080/",
          "height": 306
        },
        "id": "Jwr6LoCdWb5z",
        "outputId": "8dc91d68-659b-4db4-d4d1-d90b58bd54a7"
      },
      "execution_count": null,
      "outputs": [
        {
          "output_type": "execute_result",
          "data": {
            "text/plain": [
              "<matplotlib.image.AxesImage at 0x7f21553407d0>"
            ]
          },
          "metadata": {},
          "execution_count": 12
        },
        {
          "output_type": "display_data",
          "data": {
            "text/plain": [
              "<Figure size 432x288 with 1 Axes>"
            ],
            "image/png": "[encoded data removed]"
          },
          "metadata": {
            "needs_background": "light"
          }
        }
      ]
    },
    {
      "cell_type": "code",
      "source": [
        "N,H,W = df.shape[0],IMAGE_SIZE[0],IMAGE_SIZE[1]\n",
        "D=H*W\n",
        "N,H,W,D"
      ],
      "metadata": {
        "colab": {
          "base_uri": "https://localhost:8080/"
        },
        "id": "oPmSnseZWgbJ",
        "outputId": "5655f683-e26e-4abc-e8ca-c120bca01e8f"
      },
      "execution_count": null,
      "outputs": [
        {
          "output_type": "execute_result",
          "data": {
            "text/plain": [
              "(6400, 64, 64, 4096)"
            ]
          },
          "metadata": {},
          "execution_count": 17
        }
      ]
    },
    {
      "cell_type": "code",
      "source": [
        "latent_dim = 500"
      ],
      "metadata": {
        "id": "FLMvAx1hWlrX"
      },
      "execution_count": null,
      "outputs": []
    },
    {
      "cell_type": "code",
      "source": [
        "T = 16"
      ],
      "metadata": {
        "id": "CL3eRXEVY6CV"
      },
      "execution_count": null,
      "outputs": []
    },
    {
      "cell_type": "code",
      "source": [
        "def build_generator(latent_dim):\n",
        "  # weight initialization\n",
        "\tinit = tf.keras.initializers.RandomNormal(stddev=0.02)\n",
        "\t# define model\n",
        "\tmodel = tf.keras.models.Sequential()\n",
        "\t# foundation for 7x7 image\n",
        "\tn_nodes = 128 * T * T\n",
        "\tmodel.add(Dense(n_nodes, kernel_initializer=init, input_dim=latent_dim))\n",
        "\tmodel.add(LeakyReLU(alpha=0.2))\n",
        "\tmodel.add(Reshape((T, T, 128)))\n",
        "\t# upsample to 14x14\n",
        "\tmodel.add(tf.keras.layers.Conv2DTranspose(128, (4,4), strides=(2,2), padding='same', kernel_initializer=init))\n",
        "\tmodel.add(LeakyReLU(alpha=0.2))\n",
        "\t# upsample to 28x28\n",
        "\tmodel.add(tf.keras.layers.Conv2DTranspose(128, (4,4), strides=(2,2), padding='same', kernel_initializer=init))\n",
        "\tmodel.add(LeakyReLU(alpha=0.2))\n",
        "\t# output 28x28x1\n",
        "\tmodel.add(Conv2D(3, (7,7), activation='tanh', padding='same', kernel_initializer=init))\n",
        "\treturn model"
      ],
      "metadata": {
        "id": "EuXPhU95Wo8c"
      },
      "execution_count": null,
      "outputs": []
    },
    {
      "cell_type": "code",
      "source": [
        "def build_discriminator(in_shape=(H,W,3)):\n",
        "  # weight initialization\n",
        "\tinit = tf.keras.initializers.RandomNormal(stddev=0.02)\n",
        "\t# define model\n",
        "\tmodel = tf.keras.models.Sequential()\n",
        "\t# downsample to 14x14\n",
        "\tmodel.add(Conv2D(64, (4,4), strides=(2,2), padding='same', kernel_initializer=init, input_shape=in_shape))\n",
        "\tmodel.add(LeakyReLU(alpha=0.2))\n",
        "\t# downsample to 7x7\n",
        "\tmodel.add(Conv2D(64, (4,4), strides=(2,2), padding='same', kernel_initializer=init))\n",
        "\tmodel.add(LeakyReLU(alpha=0.2))\n",
        "\t# classifier\n",
        "\tmodel.add(Flatten())\n",
        "\tmodel.add(Dense(1, activation='sigmoid'))\n",
        "\t# compile model\n",
        "\topt = Adam(lr=0.0002, beta_1=0.5)\n",
        "\tmodel.compile(loss='binary_crossentropy', optimizer=opt, metrics=['accuracy'])\n",
        "\treturn model"
      ],
      "metadata": {
        "id": "KXRJc8M5W9CZ"
      },
      "execution_count": null,
      "outputs": []
    },
    {
      "cell_type": "code",
      "source": [
        "def define_gan(generator, discriminator):\n",
        "\t# make weights in the discriminator not trainable\n",
        "\tdiscriminator.trainable = False\n",
        "\t# connect them\n",
        "\tmodel = tf.keras.models.Sequential()\n",
        "\t# add generator\n",
        "\tmodel.add(generator)\n",
        "\t# add the discriminator\n",
        "\tmodel.add(discriminator)\n",
        "\t# compile model\n",
        "\topt = Adam(lr=0.0002, beta_1=0.5)\n",
        "\tmodel.compile(loss='binary_crossentropy', optimizer=opt)\n",
        "\treturn model"
      ],
      "metadata": {
        "id": "-4n2R9RNXOKd"
      },
      "execution_count": null,
      "outputs": []
    },
    {
      "cell_type": "code",
      "source": [
        "discriminator = build_discriminator()\n",
        "generator = build_generator(latent_dim)\n",
        "combined_model = define_gan(generator,discriminator)\n"
      ],
      "metadata": {
        "colab": {
          "base_uri": "https://localhost:8080/"
        },
        "id": "4DzEXB9wXQJk",
        "outputId": "ff1df0cf-319d-465b-fe4d-08c4f563f12b"
      },
      "execution_count": null,
      "outputs": [
        {
          "output_type": "stream",
          "name": "stderr",
          "text": [
            "/usr/local/lib/python3.7/dist-packages/keras/optimizer_v2/adam.py:105: UserWarning: The `lr` argument is deprecated, use `learning_rate` instead.\n",
            "  super(Adam, self).__init__(name, **kwargs)\n"
          ]
        }
      ]
    },
    {
      "cell_type": "code",
      "source": [
        "batch_size=64\n",
        "epochs=30000\n",
        "sample_period=200"
      ],
      "metadata": {
        "id": "U5xuScFFXTKA"
      },
      "execution_count": null,
      "outputs": []
    },
    {
      "cell_type": "code",
      "source": [
        "ones=np.ones(batch_size)\n",
        "zeros=np.zeros(batch_size)\n",
        "\n",
        "d_losses=[]\n",
        "g_losses=[]\n",
        "\n",
        "if not os.path.exists('gan_images'):\n",
        "  os.makedirs('gan_images')"
      ],
      "metadata": {
        "id": "hf1kwJvFXUyc"
      },
      "execution_count": null,
      "outputs": []
    },
    {
      "cell_type": "code",
      "source": [
        "def sample_images(epoch):\n",
        "  rows, cols=5,5\n",
        "  noise = np.random.randn(rows * cols, latent_dim)\n",
        "  imgs = generator.predict(noise)\n",
        "  imgs=0.5 * imgs + 0.5\n",
        "  \n",
        "  fig, axs = plt.subplots(rows,cols)\n",
        "  idx = 0\n",
        "  for i in range(rows):\n",
        "    for j in range(cols):\n",
        "      axs[i,j].imshow(imgs[idx].reshape(H,W,3))\n",
        "      axs[i,j].axis('off')\n",
        "      idx += 1\n",
        "  \n",
        "  fig.savefig(\"gan_images/%d.png\" % epoch)\n",
        "  plt.close()"
      ],
      "metadata": {
        "id": "oTSV9iY_XW1K"
      },
      "execution_count": null,
      "outputs": []
    },
    {
      "cell_type": "code",
      "source": [
        "df_num=df.to_numpy()"
      ],
      "metadata": {
        "id": "RCSGiKTsXYYN"
      },
      "execution_count": null,
      "outputs": []
    },
    {
      "cell_type": "code",
      "source": [
        "def get_batch(batch_size):\n",
        "  ret = []\n",
        "  idx = np.random.randint(0,df.shape[0],batch_size)\n",
        "  real_imgs_name=df_num[idx,0]\n",
        "\n",
        "  for f in real_imgs_name:\n",
        "    img = np.array(image.load_img(f))\n",
        "    img = tf.image.resize(img,[H,W])\n",
        "    img = (img/255.0)*2-1\n",
        "    ret.append(img)\n",
        "  return np.array(ret)"
      ],
      "metadata": {
        "id": "1OJwzpSyXZz0"
      },
      "execution_count": null,
      "outputs": []
    },
    {
      "cell_type": "code",
      "source": [
        "images_ = [ tf.image.resize(np.array(image.load_img(f)),[64,64]) for f in image_files]"
      ],
      "metadata": {
        "id": "afvDsJ0nJeNy"
      },
      "execution_count": null,
      "outputs": []
    },
    {
      "cell_type": "code",
      "source": [
        "images_np = np.array(images_)\n",
        "images_np=(images_np/255.0)*2-1"
      ],
      "metadata": {
        "id": "8JK45creQc7j"
      },
      "execution_count": null,
      "outputs": []
    },
    {
      "cell_type": "code",
      "source": [
        "for epoch in range(epochs):\n",
        "  idx = np.random.randint(0,df.shape[0],batch_size)\n",
        "  real_imgs=images_np[idx]\n",
        "\n",
        "  noise=np.random.randn(batch_size,latent_dim)\n",
        "  fake_imgs=generator.predict(noise)\n",
        "\n",
        "\n",
        "  d_loss_real, d_acc_real = discriminator.train_on_batch(real_imgs,ones)\n",
        "\n",
        "  d_loss_fake,d_acc_fake = discriminator.train_on_batch(fake_imgs.reshape(batch_size,H,W,3),zeros)\n",
        "\n",
        "  d_loss = 0.5 * (d_loss_real + d_loss_fake)\n",
        "  d_acc = 0.5 * (d_acc_real + d_acc_fake)\n",
        "\n",
        "  noise = np.random.randn(batch_size,latent_dim)\n",
        "  g_loss = combined_model.train_on_batch(noise,ones)\n",
        "\n",
        "  d_losses.append(d_loss)\n",
        "  g_losses.append(g_loss)\n",
        "\n",
        "  if epoch % 100 == 0:\n",
        "    print(f\"epoch: {epoch+1}/{epochs}, d_loss: {d_loss:.2f}, d_acc: {d_acc:.2f}, g_loss: {g_loss:.2f}\")\n",
        "\n",
        "  if epoch % sample_period == 0:\n",
        "    sample_images(epoch)"
      ],
      "metadata": {
        "colab": {
          "base_uri": "https://localhost:8080/"
        },
        "id": "h9LPNFmwXxZK",
        "outputId": "94835ce8-4d14-4068-b76a-c0cb6bb770da"
      },
      "execution_count": null,
      "outputs": [
        {
          "output_type": "stream",
          "name": "stdout",
          "text": [
            "epoch: 1/30000, d_loss: 0.69, d_acc: 0.45, g_loss: 0.69\n",
            "epoch: 101/30000, d_loss: 0.89, d_acc: 0.52, g_loss: 1.08\n",
            "epoch: 201/30000, d_loss: 0.56, d_acc: 0.73, g_loss: 1.34\n",
            "epoch: 301/30000, d_loss: 0.70, d_acc: 0.52, g_loss: 1.05\n",
            "epoch: 401/30000, d_loss: 0.67, d_acc: 0.59, g_loss: 0.82\n",
            "epoch: 501/30000, d_loss: 0.69, d_acc: 0.48, g_loss: 0.80\n",
            "epoch: 601/30000, d_loss: 0.68, d_acc: 0.59, g_loss: 0.75\n",
            "epoch: 701/30000, d_loss: 0.70, d_acc: 0.47, g_loss: 0.81\n",
            "epoch: 801/30000, d_loss: 0.66, d_acc: 0.67, g_loss: 0.78\n",
            "epoch: 901/30000, d_loss: 0.69, d_acc: 0.55, g_loss: 0.79\n",
            "epoch: 1001/30000, d_loss: 0.72, d_acc: 0.43, g_loss: 0.68\n",
            "epoch: 1101/30000, d_loss: 0.69, d_acc: 0.52, g_loss: 0.73\n",
            "epoch: 1201/30000, d_loss: 0.69, d_acc: 0.56, g_loss: 0.71\n",
            "epoch: 1301/30000, d_loss: 0.69, d_acc: 0.55, g_loss: 0.74\n",
            "epoch: 1401/30000, d_loss: 0.67, d_acc: 0.65, g_loss: 0.72\n",
            "epoch: 1501/30000, d_loss: 0.69, d_acc: 0.48, g_loss: 0.70\n",
            "epoch: 1601/30000, d_loss: 0.69, d_acc: 0.50, g_loss: 0.72\n",
            "epoch: 1701/30000, d_loss: 0.68, d_acc: 0.58, g_loss: 0.77\n",
            "epoch: 1801/30000, d_loss: 0.68, d_acc: 0.61, g_loss: 0.73\n",
            "epoch: 1901/30000, d_loss: 0.68, d_acc: 0.49, g_loss: 0.72\n",
            "epoch: 2001/30000, d_loss: 0.67, d_acc: 0.62, g_loss: 0.76\n",
            "epoch: 2101/30000, d_loss: 0.79, d_acc: 0.27, g_loss: 0.60\n",
            "epoch: 2201/30000, d_loss: 0.66, d_acc: 0.61, g_loss: 1.01\n",
            "epoch: 2301/30000, d_loss: 0.66, d_acc: 0.65, g_loss: 0.76\n",
            "epoch: 2401/30000, d_loss: 0.65, d_acc: 0.61, g_loss: 0.75\n",
            "epoch: 2501/30000, d_loss: 0.67, d_acc: 0.59, g_loss: 0.79\n",
            "epoch: 2601/30000, d_loss: 0.66, d_acc: 0.64, g_loss: 0.86\n",
            "epoch: 2701/30000, d_loss: 0.71, d_acc: 0.46, g_loss: 0.74\n",
            "epoch: 2801/30000, d_loss: 0.70, d_acc: 0.51, g_loss: 0.74\n",
            "epoch: 2901/30000, d_loss: 0.69, d_acc: 0.51, g_loss: 0.71\n",
            "epoch: 3001/30000, d_loss: 0.71, d_acc: 0.43, g_loss: 0.75\n",
            "epoch: 3101/30000, d_loss: 0.69, d_acc: 0.54, g_loss: 0.75\n",
            "epoch: 3201/30000, d_loss: 0.69, d_acc: 0.56, g_loss: 0.74\n",
            "epoch: 3301/30000, d_loss: 0.70, d_acc: 0.44, g_loss: 0.71\n",
            "epoch: 3401/30000, d_loss: 0.69, d_acc: 0.52, g_loss: 0.77\n",
            "epoch: 3501/30000, d_loss: 0.69, d_acc: 0.56, g_loss: 0.74\n",
            "epoch: 3601/30000, d_loss: 0.69, d_acc: 0.45, g_loss: 0.76\n",
            "epoch: 3701/30000, d_loss: 0.69, d_acc: 0.48, g_loss: 0.73\n",
            "epoch: 3801/30000, d_loss: 0.69, d_acc: 0.52, g_loss: 0.74\n",
            "epoch: 3901/30000, d_loss: 0.70, d_acc: 0.49, g_loss: 0.73\n",
            "epoch: 4001/30000, d_loss: 0.70, d_acc: 0.45, g_loss: 0.73\n",
            "epoch: 4101/30000, d_loss: 0.69, d_acc: 0.48, g_loss: 0.75\n",
            "epoch: 4201/30000, d_loss: 0.69, d_acc: 0.50, g_loss: 0.74\n",
            "epoch: 4301/30000, d_loss: 0.70, d_acc: 0.37, g_loss: 0.72\n",
            "epoch: 4401/30000, d_loss: 0.69, d_acc: 0.51, g_loss: 0.74\n",
            "epoch: 4501/30000, d_loss: 0.70, d_acc: 0.49, g_loss: 0.73\n",
            "epoch: 4601/30000, d_loss: 0.70, d_acc: 0.46, g_loss: 0.75\n",
            "epoch: 4701/30000, d_loss: 0.69, d_acc: 0.52, g_loss: 0.74\n",
            "epoch: 4801/30000, d_loss: 0.69, d_acc: 0.49, g_loss: 0.73\n",
            "epoch: 4901/30000, d_loss: 0.69, d_acc: 0.53, g_loss: 0.75\n",
            "epoch: 5001/30000, d_loss: 0.69, d_acc: 0.52, g_loss: 0.74\n",
            "epoch: 5101/30000, d_loss: 0.70, d_acc: 0.45, g_loss: 0.74\n",
            "epoch: 5201/30000, d_loss: 0.69, d_acc: 0.45, g_loss: 0.74\n",
            "epoch: 5301/30000, d_loss: 0.68, d_acc: 0.52, g_loss: 0.74\n",
            "epoch: 5401/30000, d_loss: 0.70, d_acc: 0.44, g_loss: 0.70\n",
            "epoch: 5501/30000, d_loss: 0.70, d_acc: 0.43, g_loss: 0.73\n",
            "epoch: 5601/30000, d_loss: 0.69, d_acc: 0.52, g_loss: 0.71\n",
            "epoch: 5701/30000, d_loss: 0.69, d_acc: 0.55, g_loss: 0.75\n",
            "epoch: 5801/30000, d_loss: 0.69, d_acc: 0.45, g_loss: 0.72\n",
            "epoch: 5901/30000, d_loss: 0.70, d_acc: 0.50, g_loss: 0.74\n",
            "epoch: 6001/30000, d_loss: 0.70, d_acc: 0.49, g_loss: 0.73\n",
            "epoch: 6101/30000, d_loss: 0.70, d_acc: 0.48, g_loss: 0.73\n",
            "epoch: 6201/30000, d_loss: 0.71, d_acc: 0.42, g_loss: 0.73\n",
            "epoch: 6301/30000, d_loss: 0.70, d_acc: 0.39, g_loss: 0.70\n",
            "epoch: 6401/30000, d_loss: 0.69, d_acc: 0.52, g_loss: 0.72\n",
            "epoch: 6501/30000, d_loss: 0.70, d_acc: 0.40, g_loss: 0.72\n",
            "epoch: 6601/30000, d_loss: 0.70, d_acc: 0.40, g_loss: 0.71\n",
            "epoch: 6701/30000, d_loss: 0.70, d_acc: 0.44, g_loss: 0.72\n",
            "epoch: 6801/30000, d_loss: 0.70, d_acc: 0.48, g_loss: 0.73\n",
            "epoch: 6901/30000, d_loss: 0.70, d_acc: 0.43, g_loss: 0.73\n",
            "epoch: 7001/30000, d_loss: 0.70, d_acc: 0.46, g_loss: 0.74\n",
            "epoch: 7101/30000, d_loss: 0.70, d_acc: 0.45, g_loss: 0.72\n",
            "epoch: 7201/30000, d_loss: 0.70, d_acc: 0.38, g_loss: 0.71\n",
            "epoch: 7301/30000, d_loss: 0.69, d_acc: 0.53, g_loss: 0.72\n",
            "epoch: 7401/30000, d_loss: 0.69, d_acc: 0.48, g_loss: 0.71\n",
            "epoch: 7501/30000, d_loss: 0.70, d_acc: 0.43, g_loss: 0.72\n",
            "epoch: 7601/30000, d_loss: 0.70, d_acc: 0.45, g_loss: 0.72\n",
            "epoch: 7701/30000, d_loss: 0.70, d_acc: 0.41, g_loss: 0.73\n",
            "epoch: 7801/30000, d_loss: 0.69, d_acc: 0.62, g_loss: 0.73\n",
            "epoch: 7901/30000, d_loss: 0.69, d_acc: 0.45, g_loss: 0.70\n",
            "epoch: 8001/30000, d_loss: 0.70, d_acc: 0.46, g_loss: 0.71\n",
            "epoch: 8101/30000, d_loss: 0.69, d_acc: 0.45, g_loss: 0.70\n",
            "epoch: 8201/30000, d_loss: 0.71, d_acc: 0.35, g_loss: 0.73\n",
            "epoch: 8301/30000, d_loss: 0.70, d_acc: 0.45, g_loss: 0.72\n",
            "epoch: 8401/30000, d_loss: 0.70, d_acc: 0.41, g_loss: 0.72\n",
            "epoch: 8501/30000, d_loss: 0.70, d_acc: 0.38, g_loss: 0.71\n",
            "epoch: 8601/30000, d_loss: 0.70, d_acc: 0.43, g_loss: 0.72\n",
            "epoch: 8701/30000, d_loss: 0.70, d_acc: 0.43, g_loss: 0.72\n",
            "epoch: 8801/30000, d_loss: 0.70, d_acc: 0.41, g_loss: 0.71\n",
            "epoch: 8901/30000, d_loss: 0.70, d_acc: 0.40, g_loss: 0.71\n",
            "epoch: 9001/30000, d_loss: 0.70, d_acc: 0.44, g_loss: 0.71\n",
            "epoch: 9101/30000, d_loss: 0.70, d_acc: 0.33, g_loss: 0.71\n",
            "epoch: 9201/30000, d_loss: 0.71, d_acc: 0.37, g_loss: 0.72\n",
            "epoch: 9301/30000, d_loss: 0.69, d_acc: 0.47, g_loss: 0.72\n",
            "epoch: 9401/30000, d_loss: 0.70, d_acc: 0.48, g_loss: 0.71\n",
            "epoch: 9501/30000, d_loss: 0.70, d_acc: 0.43, g_loss: 0.70\n",
            "epoch: 9601/30000, d_loss: 0.69, d_acc: 0.41, g_loss: 0.70\n",
            "epoch: 9701/30000, d_loss: 0.70, d_acc: 0.38, g_loss: 0.71\n",
            "epoch: 9801/30000, d_loss: 0.70, d_acc: 0.45, g_loss: 0.69\n",
            "epoch: 9901/30000, d_loss: 0.70, d_acc: 0.47, g_loss: 0.71\n",
            "epoch: 10001/30000, d_loss: 0.69, d_acc: 0.52, g_loss: 0.71\n",
            "epoch: 10101/30000, d_loss: 0.70, d_acc: 0.45, g_loss: 0.72\n",
            "epoch: 10201/30000, d_loss: 0.69, d_acc: 0.54, g_loss: 0.72\n",
            "epoch: 10301/30000, d_loss: 0.69, d_acc: 0.48, g_loss: 0.71\n",
            "epoch: 10401/30000, d_loss: 0.70, d_acc: 0.37, g_loss: 0.70\n",
            "epoch: 10501/30000, d_loss: 0.69, d_acc: 0.48, g_loss: 0.71\n",
            "epoch: 10601/30000, d_loss: 0.69, d_acc: 0.53, g_loss: 0.72\n",
            "epoch: 10701/30000, d_loss: 0.70, d_acc: 0.47, g_loss: 0.72\n",
            "epoch: 10801/30000, d_loss: 0.70, d_acc: 0.40, g_loss: 0.70\n",
            "epoch: 10901/30000, d_loss: 0.70, d_acc: 0.42, g_loss: 0.72\n",
            "epoch: 11001/30000, d_loss: 0.70, d_acc: 0.45, g_loss: 0.72\n",
            "epoch: 11101/30000, d_loss: 0.69, d_acc: 0.45, g_loss: 0.72\n",
            "epoch: 11201/30000, d_loss: 0.70, d_acc: 0.39, g_loss: 0.70\n",
            "epoch: 11301/30000, d_loss: 0.70, d_acc: 0.38, g_loss: 0.71\n",
            "epoch: 11401/30000, d_loss: 0.70, d_acc: 0.31, g_loss: 0.71\n",
            "epoch: 11501/30000, d_loss: 0.70, d_acc: 0.48, g_loss: 0.71\n",
            "epoch: 11601/30000, d_loss: 0.70, d_acc: 0.40, g_loss: 0.71\n",
            "epoch: 11701/30000, d_loss: 0.69, d_acc: 0.48, g_loss: 0.71\n",
            "epoch: 11801/30000, d_loss: 0.70, d_acc: 0.44, g_loss: 0.70\n",
            "epoch: 11901/30000, d_loss: 0.70, d_acc: 0.37, g_loss: 0.70\n",
            "epoch: 12001/30000, d_loss: 0.70, d_acc: 0.42, g_loss: 0.72\n",
            "epoch: 12101/30000, d_loss: 0.69, d_acc: 0.48, g_loss: 0.71\n",
            "epoch: 12201/30000, d_loss: 0.70, d_acc: 0.34, g_loss: 0.70\n",
            "epoch: 12301/30000, d_loss: 0.69, d_acc: 0.46, g_loss: 0.71\n",
            "epoch: 12401/30000, d_loss: 0.69, d_acc: 0.45, g_loss: 0.71\n",
            "epoch: 12501/30000, d_loss: 0.69, d_acc: 0.45, g_loss: 0.70\n",
            "epoch: 12601/30000, d_loss: 0.70, d_acc: 0.39, g_loss: 0.69\n",
            "epoch: 12701/30000, d_loss: 0.70, d_acc: 0.41, g_loss: 0.71\n",
            "epoch: 12801/30000, d_loss: 0.70, d_acc: 0.43, g_loss: 0.71\n",
            "epoch: 12901/30000, d_loss: 0.70, d_acc: 0.34, g_loss: 0.71\n",
            "epoch: 13001/30000, d_loss: 0.69, d_acc: 0.47, g_loss: 0.71\n",
            "epoch: 13101/30000, d_loss: 0.70, d_acc: 0.31, g_loss: 0.71\n",
            "epoch: 13201/30000, d_loss: 0.71, d_acc: 0.46, g_loss: 0.69\n",
            "epoch: 13301/30000, d_loss: 0.70, d_acc: 0.38, g_loss: 0.71\n",
            "epoch: 13401/30000, d_loss: 0.69, d_acc: 0.45, g_loss: 0.72\n",
            "epoch: 13501/30000, d_loss: 0.70, d_acc: 0.35, g_loss: 0.71\n",
            "epoch: 13601/30000, d_loss: 0.70, d_acc: 0.45, g_loss: 0.70\n",
            "epoch: 13701/30000, d_loss: 0.70, d_acc: 0.42, g_loss: 0.70\n",
            "epoch: 13801/30000, d_loss: 0.70, d_acc: 0.41, g_loss: 0.70\n",
            "epoch: 13901/30000, d_loss: 0.70, d_acc: 0.44, g_loss: 0.71\n",
            "epoch: 14001/30000, d_loss: 0.70, d_acc: 0.37, g_loss: 0.70\n",
            "epoch: 14101/30000, d_loss: 0.69, d_acc: 0.48, g_loss: 0.71\n",
            "epoch: 14201/30000, d_loss: 0.70, d_acc: 0.42, g_loss: 0.70\n",
            "epoch: 14301/30000, d_loss: 0.70, d_acc: 0.40, g_loss: 0.71\n",
            "epoch: 14401/30000, d_loss: 0.70, d_acc: 0.44, g_loss: 0.71\n",
            "epoch: 14501/30000, d_loss: 0.70, d_acc: 0.46, g_loss: 0.71\n",
            "epoch: 14601/30000, d_loss: 0.70, d_acc: 0.45, g_loss: 0.71\n",
            "epoch: 14701/30000, d_loss: 0.69, d_acc: 0.48, g_loss: 0.71\n",
            "epoch: 14801/30000, d_loss: 0.70, d_acc: 0.37, g_loss: 0.72\n",
            "epoch: 14901/30000, d_loss: 0.70, d_acc: 0.41, g_loss: 0.70\n",
            "epoch: 15001/30000, d_loss: 0.69, d_acc: 0.55, g_loss: 0.71\n",
            "epoch: 15101/30000, d_loss: 0.70, d_acc: 0.49, g_loss: 0.71\n",
            "epoch: 15201/30000, d_loss: 0.70, d_acc: 0.45, g_loss: 0.70\n",
            "epoch: 15301/30000, d_loss: 0.70, d_acc: 0.36, g_loss: 0.70\n",
            "epoch: 15401/30000, d_loss: 0.70, d_acc: 0.36, g_loss: 0.70\n",
            "epoch: 15501/30000, d_loss: 0.69, d_acc: 0.44, g_loss: 0.71\n",
            "epoch: 15601/30000, d_loss: 0.70, d_acc: 0.44, g_loss: 0.71\n",
            "epoch: 15701/30000, d_loss: 0.70, d_acc: 0.37, g_loss: 0.71\n",
            "epoch: 15801/30000, d_loss: 0.70, d_acc: 0.34, g_loss: 0.71\n",
            "epoch: 15901/30000, d_loss: 0.70, d_acc: 0.44, g_loss: 0.71\n",
            "epoch: 16001/30000, d_loss: 0.70, d_acc: 0.49, g_loss: 0.71\n"
          ]
        }
      ]
    }
  ]
}