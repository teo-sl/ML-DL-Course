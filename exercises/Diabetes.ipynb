{
  "nbformat": 4,
  "nbformat_minor": 0,
  "metadata": {
    "colab": {
      "provenance": []
    },
    "kernelspec": {
      "name": "python3",
      "display_name": "Python 3"
    },
    "language_info": {
      "name": "python"
    }
  },
  "cells": [
    {
      "cell_type": "code",
      "execution_count": null,
      "metadata": {
        "id": "_MZi-mPqOwLT"
      },
      "outputs": [],
      "source": [
        "import tensorflow as tf\n",
        "import keras\n",
        "import numpy as np\n",
        "import pandas as pd\n",
        "import matplotlib.pyplot as plt"
      ]
    },
    {
      "cell_type": "code",
      "source": [
        "from tensorflow.keras.layers import Dense,Input,LSTM,GlobalMaxPooling1D,Dropout\n",
        "from tensorflow.keras.models import Model"
      ],
      "metadata": {
        "id": "OiLemB3nO8v8"
      },
      "execution_count": null,
      "outputs": []
    },
    {
      "cell_type": "code",
      "source": [
        "!wget https://lazyprogrammer.me/course_files/exercises/diabetes.csv"
      ],
      "metadata": {
        "colab": {
          "base_uri": "https://localhost:8080/"
        },
        "id": "iy4HkgBPPAQI",
        "outputId": "be58916a-4749-4188-e65f-1cbc09817fff"
      },
      "execution_count": null,
      "outputs": [
        {
          "output_type": "stream",
          "name": "stdout",
          "text": [
            "--2022-09-22 08:06:55--  https://lazyprogrammer.me/course_files/exercises/diabetes.csv\n",
            "Resolving lazyprogrammer.me (lazyprogrammer.me)... 104.21.23.210, 172.67.213.166, 2606:4700:3031::6815:17d2, ...\n",
            "Connecting to lazyprogrammer.me (lazyprogrammer.me)|104.21.23.210|:443... connected.\n",
            "HTTP request sent, awaiting response... 200 OK\n",
            "Length: 23873 (23K) [text/csv]\n",
            "Saving to: ‘diabetes.csv’\n",
            "\n",
            "diabetes.csv        100%[===================>]  23.31K  --.-KB/s    in 0s      \n",
            "\n",
            "2022-09-22 08:06:56 (81.1 MB/s) - ‘diabetes.csv’ saved [23873/23873]\n",
            "\n"
          ]
        }
      ]
    },
    {
      "cell_type": "code",
      "source": [
        "df = pd.read_csv(\"diabetes.csv\")"
      ],
      "metadata": {
        "id": "THP41A2jPD3L"
      },
      "execution_count": null,
      "outputs": []
    },
    {
      "cell_type": "code",
      "source": [
        "df.head()"
      ],
      "metadata": {
        "colab": {
          "base_uri": "https://localhost:8080/",
          "height": 270
        },
        "id": "obFOM62hPJMD",
        "outputId": "5d9dde8d-cc00-46a3-c4ab-57bcb19fc108"
      },
      "execution_count": null,
      "outputs": [
        {
          "output_type": "execute_result",
          "data": {
            "text/plain": [
              "   Pregnancies  Glucose  BloodPressure  SkinThickness  Insulin   BMI  \\\n",
              "0            6      148             72             35        0  33.6   \n",
              "1            1       85             66             29        0  26.6   \n",
              "2            8      183             64              0        0  23.3   \n",
              "3            1       89             66             23       94  28.1   \n",
              "4            0      137             40             35      168  43.1   \n",
              "\n",
              "   DiabetesPedigreeFunction  Age  Outcome  \n",
              "0                     0.627   50        1  \n",
              "1                     0.351   31        0  \n",
              "2                     0.672   32        1  \n",
              "3                     0.167   21        0  \n",
              "4                     2.288   33        1  "
            ],
            "text/html": [
              "\n",
              "  <div id=\"df-d93926b1-2bc1-4d58-8efa-872385f9d00c\">\n",
              "    <div class=\"colab-df-container\">\n",
              "      <div>\n",
              "<style scoped>\n",
              "    .dataframe tbody tr th:only-of-type {\n",
              "        vertical-align: middle;\n",
              "    }\n",
              "\n",
              "    .dataframe tbody tr th {\n",
              "        vertical-align: top;\n",
              "    }\n",
              "\n",
              "    .dataframe thead th {\n",
              "        text-align: right;\n",
              "    }\n",
              "</style>\n",
              "<table border=\"1\" class=\"dataframe\">\n",
              "  <thead>\n",
              "    <tr style=\"text-align: right;\">\n",
              "      <th></th>\n",
              "      <th>Pregnancies</th>\n",
              "      <th>Glucose</th>\n",
              "      <th>BloodPressure</th>\n",
              "      <th>SkinThickness</th>\n",
              "      <th>Insulin</th>\n",
              "      <th>BMI</th>\n",
              "      <th>DiabetesPedigreeFunction</th>\n",
              "      <th>Age</th>\n",
              "      <th>Outcome</th>\n",
              "    </tr>\n",
              "  </thead>\n",
              "  <tbody>\n",
              "    <tr>\n",
              "      <th>0</th>\n",
              "      <td>6</td>\n",
              "      <td>148</td>\n",
              "      <td>72</td>\n",
              "      <td>35</td>\n",
              "      <td>0</td>\n",
              "      <td>33.6</td>\n",
              "      <td>0.627</td>\n",
              "      <td>50</td>\n",
              "      <td>1</td>\n",
              "    </tr>\n",
              "    <tr>\n",
              "      <th>1</th>\n",
              "      <td>1</td>\n",
              "      <td>85</td>\n",
              "      <td>66</td>\n",
              "      <td>29</td>\n",
              "      <td>0</td>\n",
              "      <td>26.6</td>\n",
              "      <td>0.351</td>\n",
              "      <td>31</td>\n",
              "      <td>0</td>\n",
              "    </tr>\n",
              "    <tr>\n",
              "      <th>2</th>\n",
              "      <td>8</td>\n",
              "      <td>183</td>\n",
              "      <td>64</td>\n",
              "      <td>0</td>\n",
              "      <td>0</td>\n",
              "      <td>23.3</td>\n",
              "      <td>0.672</td>\n",
              "      <td>32</td>\n",
              "      <td>1</td>\n",
              "    </tr>\n",
              "    <tr>\n",
              "      <th>3</th>\n",
              "      <td>1</td>\n",
              "      <td>89</td>\n",
              "      <td>66</td>\n",
              "      <td>23</td>\n",
              "      <td>94</td>\n",
              "      <td>28.1</td>\n",
              "      <td>0.167</td>\n",
              "      <td>21</td>\n",
              "      <td>0</td>\n",
              "    </tr>\n",
              "    <tr>\n",
              "      <th>4</th>\n",
              "      <td>0</td>\n",
              "      <td>137</td>\n",
              "      <td>40</td>\n",
              "      <td>35</td>\n",
              "      <td>168</td>\n",
              "      <td>43.1</td>\n",
              "      <td>2.288</td>\n",
              "      <td>33</td>\n",
              "      <td>1</td>\n",
              "    </tr>\n",
              "  </tbody>\n",
              "</table>\n",
              "</div>\n",
              "      <button class=\"colab-df-convert\" onclick=\"convertToInteractive('df-d93926b1-2bc1-4d58-8efa-872385f9d00c')\"\n",
              "              title=\"Convert this dataframe to an interactive table.\"\n",
              "              style=\"display:none;\">\n",
              "        \n",
              "  <svg xmlns=\"http://www.w3.org/2000/svg\" height=\"24px\"viewBox=\"0 0 24 24\"\n",
              "       width=\"24px\">\n",
              "    <path d=\"M0 0h24v24H0V0z\" fill=\"none\"/>\n",
              "    <path d=\"M18.56 5.44l.94 2.06.94-2.06 2.06-.94-2.06-.94-.94-2.06-.94 2.06-2.06.94zm-11 1L8.5 8.5l.94-2.06 2.06-.94-2.06-.94L8.5 2.5l-.94 2.06-2.06.94zm10 10l.94 2.06.94-2.06 2.06-.94-2.06-.94-.94-2.06-.94 2.06-2.06.94z\"/><path d=\"M17.41 7.96l-1.37-1.37c-.4-.4-.92-.59-1.43-.59-.52 0-1.04.2-1.43.59L10.3 9.45l-7.72 7.72c-.78.78-.78 2.05 0 2.83L4 21.41c.39.39.9.59 1.41.59.51 0 1.02-.2 1.41-.59l7.78-7.78 2.81-2.81c.8-.78.8-2.07 0-2.86zM5.41 20L4 18.59l7.72-7.72 1.47 1.35L5.41 20z\"/>\n",
              "  </svg>\n",
              "      </button>\n",
              "      \n",
              "  <style>\n",
              "    .colab-df-container {\n",
              "      display:flex;\n",
              "      flex-wrap:wrap;\n",
              "      gap: 12px;\n",
              "    }\n",
              "\n",
              "    .colab-df-convert {\n",
              "      background-color: #E8F0FE;\n",
              "      border: none;\n",
              "      border-radius: 50%;\n",
              "      cursor: pointer;\n",
              "      display: none;\n",
              "      fill: #1967D2;\n",
              "      height: 32px;\n",
              "      padding: 0 0 0 0;\n",
              "      width: 32px;\n",
              "    }\n",
              "\n",
              "    .colab-df-convert:hover {\n",
              "      background-color: #E2EBFA;\n",
              "      box-shadow: 0px 1px 2px rgba(60, 64, 67, 0.3), 0px 1px 3px 1px rgba(60, 64, 67, 0.15);\n",
              "      fill: #174EA6;\n",
              "    }\n",
              "\n",
              "    [theme=dark] .colab-df-convert {\n",
              "      background-color: #3B4455;\n",
              "      fill: #D2E3FC;\n",
              "    }\n",
              "\n",
              "    [theme=dark] .colab-df-convert:hover {\n",
              "      background-color: #434B5C;\n",
              "      box-shadow: 0px 1px 3px 1px rgba(0, 0, 0, 0.15);\n",
              "      filter: drop-shadow(0px 1px 2px rgba(0, 0, 0, 0.3));\n",
              "      fill: #FFFFFF;\n",
              "    }\n",
              "  </style>\n",
              "\n",
              "      <script>\n",
              "        const buttonEl =\n",
              "          document.querySelector('#df-d93926b1-2bc1-4d58-8efa-872385f9d00c button.colab-df-convert');\n",
              "        buttonEl.style.display =\n",
              "          google.colab.kernel.accessAllowed ? 'block' : 'none';\n",
              "\n",
              "        async function convertToInteractive(key) {\n",
              "          const element = document.querySelector('#df-d93926b1-2bc1-4d58-8efa-872385f9d00c');\n",
              "          const dataTable =\n",
              "            await google.colab.kernel.invokeFunction('convertToInteractive',\n",
              "                                                     [key], {});\n",
              "          if (!dataTable) return;\n",
              "\n",
              "          const docLinkHtml = 'Like what you see? Visit the ' +\n",
              "            '<a target=\"_blank\" href=https://colab.research.google.com/notebooks/data_table.ipynb>data table notebook</a>'\n",
              "            + ' to learn more about interactive tables.';\n",
              "          element.innerHTML = '';\n",
              "          dataTable['output_type'] = 'display_data';\n",
              "          await google.colab.output.renderOutput(dataTable, element);\n",
              "          const docLink = document.createElement('div');\n",
              "          docLink.innerHTML = docLinkHtml;\n",
              "          element.appendChild(docLink);\n",
              "        }\n",
              "      </script>\n",
              "    </div>\n",
              "  </div>\n",
              "  "
            ]
          },
          "metadata": {},
          "execution_count": 7
        }
      ]
    },
    {
      "cell_type": "code",
      "source": [
        "Y = df['Outcome'].to_numpy()\n",
        "X = (df.drop(columns=['Outcome'])).to_numpy()"
      ],
      "metadata": {
        "id": "mgN_fxNBPQY-"
      },
      "execution_count": null,
      "outputs": []
    },
    {
      "cell_type": "code",
      "source": [
        "from sklearn.preprocessing import StandardScaler\n",
        "\n",
        "scaler = StandardScaler()\n",
        "\n",
        "X = scaler.fit_transform(X)"
      ],
      "metadata": {
        "id": "DnV0bdYlRtUv"
      },
      "execution_count": null,
      "outputs": []
    },
    {
      "cell_type": "code",
      "source": [
        "Y.shape, X.shape"
      ],
      "metadata": {
        "colab": {
          "base_uri": "https://localhost:8080/"
        },
        "id": "hanGOcz-PtqH",
        "outputId": "f6507038-757d-4eca-88fb-37bd74f7ca11"
      },
      "execution_count": null,
      "outputs": [
        {
          "output_type": "execute_result",
          "data": {
            "text/plain": [
              "((768,), (768, 8))"
            ]
          },
          "metadata": {},
          "execution_count": 11
        }
      ]
    },
    {
      "cell_type": "code",
      "source": [
        "from sklearn.model_selection import train_test_split\n",
        "\n",
        "x_train, x_test, y_train, y_test = train_test_split( X, Y, test_size=0.33)"
      ],
      "metadata": {
        "id": "QFKz96fZPf1z"
      },
      "execution_count": null,
      "outputs": []
    },
    {
      "cell_type": "code",
      "source": [
        "i = Input(shape=(x_train[0].shape))\n",
        "x=Dense(1,activation='sigmoid')(i)\n",
        "\n",
        "model = Model(i,x)\n",
        "\n",
        "model.compile(\n",
        "    loss='binary_crossentropy',\n",
        "    optimizer = 'sgd',\n",
        "    metrics=['accuracy']\n",
        ")\n"
      ],
      "metadata": {
        "id": "TfTttUNPPMcF"
      },
      "execution_count": null,
      "outputs": []
    },
    {
      "cell_type": "code",
      "source": [
        "r = model.fit(\n",
        "    x_train,y_train,\n",
        "    validation_data=(x_test,y_test),\n",
        "    epochs=100\n",
        "    )"
      ],
      "metadata": {
        "colab": {
          "base_uri": "https://localhost:8080/"
        },
        "id": "75d2D1nWQq8W",
        "outputId": "3608a403-2bff-4333-c45a-8801ae0bc1cc"
      },
      "execution_count": null,
      "outputs": [
        {
          "output_type": "stream",
          "name": "stdout",
          "text": [
            "Epoch 1/100\n",
            "17/17 [==============================] - 1s 11ms/step - loss: 0.7059 - accuracy: 0.5623 - val_loss: 0.6523 - val_accuracy: 0.6850\n",
            "Epoch 2/100\n",
            "17/17 [==============================] - 0s 4ms/step - loss: 0.6890 - accuracy: 0.5837 - val_loss: 0.6393 - val_accuracy: 0.6969\n",
            "Epoch 3/100\n",
            "17/17 [==============================] - 0s 4ms/step - loss: 0.6729 - accuracy: 0.6031 - val_loss: 0.6274 - val_accuracy: 0.7047\n",
            "Epoch 4/100\n",
            "17/17 [==============================] - 0s 3ms/step - loss: 0.6574 - accuracy: 0.6206 - val_loss: 0.6172 - val_accuracy: 0.7165\n",
            "Epoch 5/100\n",
            "17/17 [==============================] - 0s 4ms/step - loss: 0.6443 - accuracy: 0.6440 - val_loss: 0.6085 - val_accuracy: 0.7205\n",
            "Epoch 6/100\n",
            "17/17 [==============================] - 0s 4ms/step - loss: 0.6325 - accuracy: 0.6498 - val_loss: 0.6005 - val_accuracy: 0.7244\n",
            "Epoch 7/100\n",
            "17/17 [==============================] - 0s 4ms/step - loss: 0.6221 - accuracy: 0.6673 - val_loss: 0.5931 - val_accuracy: 0.7323\n",
            "Epoch 8/100\n",
            "17/17 [==============================] - 0s 3ms/step - loss: 0.6124 - accuracy: 0.6712 - val_loss: 0.5864 - val_accuracy: 0.7362\n",
            "Epoch 9/100\n",
            "17/17 [==============================] - 0s 4ms/step - loss: 0.6037 - accuracy: 0.6732 - val_loss: 0.5807 - val_accuracy: 0.7402\n",
            "Epoch 10/100\n",
            "17/17 [==============================] - 0s 3ms/step - loss: 0.5957 - accuracy: 0.6829 - val_loss: 0.5748 - val_accuracy: 0.7480\n",
            "Epoch 11/100\n",
            "17/17 [==============================] - 0s 4ms/step - loss: 0.5877 - accuracy: 0.6926 - val_loss: 0.5706 - val_accuracy: 0.7441\n",
            "Epoch 12/100\n",
            "17/17 [==============================] - 0s 4ms/step - loss: 0.5810 - accuracy: 0.6946 - val_loss: 0.5660 - val_accuracy: 0.7441\n",
            "Epoch 13/100\n",
            "17/17 [==============================] - 0s 4ms/step - loss: 0.5747 - accuracy: 0.6965 - val_loss: 0.5624 - val_accuracy: 0.7441\n",
            "Epoch 14/100\n",
            "17/17 [==============================] - 0s 4ms/step - loss: 0.5691 - accuracy: 0.7101 - val_loss: 0.5587 - val_accuracy: 0.7362\n",
            "Epoch 15/100\n",
            "17/17 [==============================] - 0s 4ms/step - loss: 0.5635 - accuracy: 0.7160 - val_loss: 0.5556 - val_accuracy: 0.7283\n",
            "Epoch 16/100\n",
            "17/17 [==============================] - 0s 4ms/step - loss: 0.5580 - accuracy: 0.7160 - val_loss: 0.5520 - val_accuracy: 0.7283\n",
            "Epoch 17/100\n",
            "17/17 [==============================] - 0s 4ms/step - loss: 0.5531 - accuracy: 0.7198 - val_loss: 0.5485 - val_accuracy: 0.7283\n",
            "Epoch 18/100\n",
            "17/17 [==============================] - 0s 3ms/step - loss: 0.5483 - accuracy: 0.7257 - val_loss: 0.5456 - val_accuracy: 0.7283\n",
            "Epoch 19/100\n",
            "17/17 [==============================] - 0s 4ms/step - loss: 0.5439 - accuracy: 0.7276 - val_loss: 0.5430 - val_accuracy: 0.7244\n",
            "Epoch 20/100\n",
            "17/17 [==============================] - 0s 4ms/step - loss: 0.5397 - accuracy: 0.7296 - val_loss: 0.5403 - val_accuracy: 0.7362\n",
            "Epoch 21/100\n",
            "17/17 [==============================] - 0s 4ms/step - loss: 0.5361 - accuracy: 0.7296 - val_loss: 0.5379 - val_accuracy: 0.7402\n",
            "Epoch 22/100\n",
            "17/17 [==============================] - 0s 4ms/step - loss: 0.5324 - accuracy: 0.7374 - val_loss: 0.5370 - val_accuracy: 0.7441\n",
            "Epoch 23/100\n",
            "17/17 [==============================] - 0s 5ms/step - loss: 0.5294 - accuracy: 0.7432 - val_loss: 0.5353 - val_accuracy: 0.7480\n",
            "Epoch 24/100\n",
            "17/17 [==============================] - 0s 4ms/step - loss: 0.5262 - accuracy: 0.7432 - val_loss: 0.5334 - val_accuracy: 0.7480\n",
            "Epoch 25/100\n",
            "17/17 [==============================] - 0s 4ms/step - loss: 0.5232 - accuracy: 0.7451 - val_loss: 0.5318 - val_accuracy: 0.7480\n",
            "Epoch 26/100\n",
            "17/17 [==============================] - 0s 6ms/step - loss: 0.5201 - accuracy: 0.7490 - val_loss: 0.5308 - val_accuracy: 0.7520\n",
            "Epoch 27/100\n",
            "17/17 [==============================] - 0s 4ms/step - loss: 0.5175 - accuracy: 0.7549 - val_loss: 0.5295 - val_accuracy: 0.7480\n",
            "Epoch 28/100\n",
            "17/17 [==============================] - 0s 4ms/step - loss: 0.5146 - accuracy: 0.7529 - val_loss: 0.5281 - val_accuracy: 0.7480\n",
            "Epoch 29/100\n",
            "17/17 [==============================] - 0s 4ms/step - loss: 0.5122 - accuracy: 0.7568 - val_loss: 0.5266 - val_accuracy: 0.7520\n",
            "Epoch 30/100\n",
            "17/17 [==============================] - 0s 4ms/step - loss: 0.5104 - accuracy: 0.7588 - val_loss: 0.5258 - val_accuracy: 0.7480\n",
            "Epoch 31/100\n",
            "17/17 [==============================] - 0s 4ms/step - loss: 0.5086 - accuracy: 0.7568 - val_loss: 0.5240 - val_accuracy: 0.7480\n",
            "Epoch 32/100\n",
            "17/17 [==============================] - 0s 4ms/step - loss: 0.5063 - accuracy: 0.7568 - val_loss: 0.5233 - val_accuracy: 0.7520\n",
            "Epoch 33/100\n",
            "17/17 [==============================] - 0s 4ms/step - loss: 0.5037 - accuracy: 0.7549 - val_loss: 0.5224 - val_accuracy: 0.7441\n",
            "Epoch 34/100\n",
            "17/17 [==============================] - 0s 4ms/step - loss: 0.5014 - accuracy: 0.7549 - val_loss: 0.5207 - val_accuracy: 0.7362\n",
            "Epoch 35/100\n",
            "17/17 [==============================] - 0s 4ms/step - loss: 0.4994 - accuracy: 0.7549 - val_loss: 0.5204 - val_accuracy: 0.7362\n",
            "Epoch 36/100\n",
            "17/17 [==============================] - 0s 4ms/step - loss: 0.4975 - accuracy: 0.7568 - val_loss: 0.5195 - val_accuracy: 0.7362\n",
            "Epoch 37/100\n",
            "17/17 [==============================] - 0s 4ms/step - loss: 0.4957 - accuracy: 0.7568 - val_loss: 0.5188 - val_accuracy: 0.7362\n",
            "Epoch 38/100\n",
            "17/17 [==============================] - 0s 4ms/step - loss: 0.4939 - accuracy: 0.7568 - val_loss: 0.5180 - val_accuracy: 0.7362\n",
            "Epoch 39/100\n",
            "17/17 [==============================] - 0s 4ms/step - loss: 0.4923 - accuracy: 0.7588 - val_loss: 0.5181 - val_accuracy: 0.7323\n",
            "Epoch 40/100\n",
            "17/17 [==============================] - 0s 4ms/step - loss: 0.4910 - accuracy: 0.7588 - val_loss: 0.5172 - val_accuracy: 0.7323\n",
            "Epoch 41/100\n",
            "17/17 [==============================] - 0s 4ms/step - loss: 0.4891 - accuracy: 0.7588 - val_loss: 0.5165 - val_accuracy: 0.7402\n",
            "Epoch 42/100\n",
            "17/17 [==============================] - 0s 3ms/step - loss: 0.4877 - accuracy: 0.7607 - val_loss: 0.5168 - val_accuracy: 0.7362\n",
            "Epoch 43/100\n",
            "17/17 [==============================] - 0s 4ms/step - loss: 0.4865 - accuracy: 0.7607 - val_loss: 0.5163 - val_accuracy: 0.7283\n",
            "Epoch 44/100\n",
            "17/17 [==============================] - 0s 4ms/step - loss: 0.4850 - accuracy: 0.7626 - val_loss: 0.5159 - val_accuracy: 0.7362\n",
            "Epoch 45/100\n",
            "17/17 [==============================] - 0s 4ms/step - loss: 0.4838 - accuracy: 0.7685 - val_loss: 0.5158 - val_accuracy: 0.7362\n",
            "Epoch 46/100\n",
            "17/17 [==============================] - 0s 4ms/step - loss: 0.4824 - accuracy: 0.7646 - val_loss: 0.5156 - val_accuracy: 0.7362\n",
            "Epoch 47/100\n",
            "17/17 [==============================] - 0s 4ms/step - loss: 0.4812 - accuracy: 0.7646 - val_loss: 0.5154 - val_accuracy: 0.7362\n",
            "Epoch 48/100\n",
            "17/17 [==============================] - 0s 4ms/step - loss: 0.4800 - accuracy: 0.7665 - val_loss: 0.5155 - val_accuracy: 0.7362\n",
            "Epoch 49/100\n",
            "17/17 [==============================] - 0s 4ms/step - loss: 0.4788 - accuracy: 0.7704 - val_loss: 0.5155 - val_accuracy: 0.7362\n",
            "Epoch 50/100\n",
            "17/17 [==============================] - 0s 4ms/step - loss: 0.4777 - accuracy: 0.7724 - val_loss: 0.5154 - val_accuracy: 0.7323\n",
            "Epoch 51/100\n",
            "17/17 [==============================] - 0s 4ms/step - loss: 0.4768 - accuracy: 0.7704 - val_loss: 0.5154 - val_accuracy: 0.7323\n",
            "Epoch 52/100\n",
            "17/17 [==============================] - 0s 3ms/step - loss: 0.4758 - accuracy: 0.7704 - val_loss: 0.5157 - val_accuracy: 0.7323\n",
            "Epoch 53/100\n",
            "17/17 [==============================] - 0s 4ms/step - loss: 0.4747 - accuracy: 0.7704 - val_loss: 0.5158 - val_accuracy: 0.7323\n",
            "Epoch 54/100\n",
            "17/17 [==============================] - 0s 4ms/step - loss: 0.4739 - accuracy: 0.7704 - val_loss: 0.5155 - val_accuracy: 0.7323\n",
            "Epoch 55/100\n",
            "17/17 [==============================] - 0s 4ms/step - loss: 0.4729 - accuracy: 0.7763 - val_loss: 0.5153 - val_accuracy: 0.7323\n",
            "Epoch 56/100\n",
            "17/17 [==============================] - 0s 4ms/step - loss: 0.4721 - accuracy: 0.7763 - val_loss: 0.5154 - val_accuracy: 0.7323\n",
            "Epoch 57/100\n",
            "17/17 [==============================] - 0s 4ms/step - loss: 0.4713 - accuracy: 0.7743 - val_loss: 0.5152 - val_accuracy: 0.7323\n",
            "Epoch 58/100\n",
            "17/17 [==============================] - 0s 4ms/step - loss: 0.4707 - accuracy: 0.7724 - val_loss: 0.5156 - val_accuracy: 0.7323\n",
            "Epoch 59/100\n",
            "17/17 [==============================] - 0s 4ms/step - loss: 0.4698 - accuracy: 0.7763 - val_loss: 0.5153 - val_accuracy: 0.7323\n",
            "Epoch 60/100\n",
            "17/17 [==============================] - 0s 5ms/step - loss: 0.4691 - accuracy: 0.7763 - val_loss: 0.5151 - val_accuracy: 0.7362\n",
            "Epoch 61/100\n",
            "17/17 [==============================] - 0s 4ms/step - loss: 0.4684 - accuracy: 0.7782 - val_loss: 0.5154 - val_accuracy: 0.7362\n",
            "Epoch 62/100\n",
            "17/17 [==============================] - 0s 4ms/step - loss: 0.4679 - accuracy: 0.7782 - val_loss: 0.5154 - val_accuracy: 0.7362\n",
            "Epoch 63/100\n",
            "17/17 [==============================] - 0s 4ms/step - loss: 0.4672 - accuracy: 0.7782 - val_loss: 0.5157 - val_accuracy: 0.7362\n",
            "Epoch 64/100\n",
            "17/17 [==============================] - 0s 4ms/step - loss: 0.4665 - accuracy: 0.7802 - val_loss: 0.5155 - val_accuracy: 0.7362\n",
            "Epoch 65/100\n",
            "17/17 [==============================] - 0s 4ms/step - loss: 0.4661 - accuracy: 0.7821 - val_loss: 0.5162 - val_accuracy: 0.7362\n",
            "Epoch 66/100\n",
            "17/17 [==============================] - 0s 3ms/step - loss: 0.4653 - accuracy: 0.7860 - val_loss: 0.5167 - val_accuracy: 0.7441\n",
            "Epoch 67/100\n",
            "17/17 [==============================] - 0s 3ms/step - loss: 0.4645 - accuracy: 0.7860 - val_loss: 0.5169 - val_accuracy: 0.7520\n",
            "Epoch 68/100\n",
            "17/17 [==============================] - 0s 4ms/step - loss: 0.4641 - accuracy: 0.7879 - val_loss: 0.5171 - val_accuracy: 0.7520\n",
            "Epoch 69/100\n",
            "17/17 [==============================] - 0s 3ms/step - loss: 0.4635 - accuracy: 0.7860 - val_loss: 0.5173 - val_accuracy: 0.7520\n",
            "Epoch 70/100\n",
            "17/17 [==============================] - 0s 3ms/step - loss: 0.4628 - accuracy: 0.7860 - val_loss: 0.5177 - val_accuracy: 0.7520\n",
            "Epoch 71/100\n",
            "17/17 [==============================] - 0s 4ms/step - loss: 0.4624 - accuracy: 0.7860 - val_loss: 0.5177 - val_accuracy: 0.7520\n",
            "Epoch 72/100\n",
            "17/17 [==============================] - 0s 6ms/step - loss: 0.4622 - accuracy: 0.7899 - val_loss: 0.5184 - val_accuracy: 0.7520\n",
            "Epoch 73/100\n",
            "17/17 [==============================] - 0s 11ms/step - loss: 0.4617 - accuracy: 0.7860 - val_loss: 0.5188 - val_accuracy: 0.7520\n",
            "Epoch 74/100\n",
            "17/17 [==============================] - 0s 7ms/step - loss: 0.4612 - accuracy: 0.7879 - val_loss: 0.5186 - val_accuracy: 0.7559\n",
            "Epoch 75/100\n",
            "17/17 [==============================] - 0s 8ms/step - loss: 0.4608 - accuracy: 0.7879 - val_loss: 0.5186 - val_accuracy: 0.7598\n",
            "Epoch 76/100\n",
            "17/17 [==============================] - 0s 8ms/step - loss: 0.4604 - accuracy: 0.7860 - val_loss: 0.5189 - val_accuracy: 0.7559\n",
            "Epoch 77/100\n",
            "17/17 [==============================] - 0s 6ms/step - loss: 0.4600 - accuracy: 0.7879 - val_loss: 0.5192 - val_accuracy: 0.7480\n",
            "Epoch 78/100\n",
            "17/17 [==============================] - 0s 7ms/step - loss: 0.4595 - accuracy: 0.7879 - val_loss: 0.5195 - val_accuracy: 0.7480\n",
            "Epoch 79/100\n",
            "17/17 [==============================] - 0s 6ms/step - loss: 0.4591 - accuracy: 0.7879 - val_loss: 0.5198 - val_accuracy: 0.7520\n",
            "Epoch 80/100\n",
            "17/17 [==============================] - 0s 10ms/step - loss: 0.4586 - accuracy: 0.7879 - val_loss: 0.5202 - val_accuracy: 0.7520\n",
            "Epoch 81/100\n",
            "17/17 [==============================] - 0s 14ms/step - loss: 0.4583 - accuracy: 0.7899 - val_loss: 0.5200 - val_accuracy: 0.7480\n",
            "Epoch 82/100\n",
            "17/17 [==============================] - 0s 6ms/step - loss: 0.4581 - accuracy: 0.7879 - val_loss: 0.5197 - val_accuracy: 0.7559\n",
            "Epoch 83/100\n",
            "17/17 [==============================] - 0s 10ms/step - loss: 0.4578 - accuracy: 0.7918 - val_loss: 0.5200 - val_accuracy: 0.7559\n",
            "Epoch 84/100\n",
            "17/17 [==============================] - 0s 5ms/step - loss: 0.4574 - accuracy: 0.7918 - val_loss: 0.5202 - val_accuracy: 0.7520\n",
            "Epoch 85/100\n",
            "17/17 [==============================] - 0s 6ms/step - loss: 0.4570 - accuracy: 0.7938 - val_loss: 0.5203 - val_accuracy: 0.7520\n",
            "Epoch 86/100\n",
            "17/17 [==============================] - 0s 3ms/step - loss: 0.4566 - accuracy: 0.7918 - val_loss: 0.5205 - val_accuracy: 0.7520\n",
            "Epoch 87/100\n",
            "17/17 [==============================] - 0s 4ms/step - loss: 0.4563 - accuracy: 0.7918 - val_loss: 0.5209 - val_accuracy: 0.7520\n",
            "Epoch 88/100\n",
            "17/17 [==============================] - 0s 4ms/step - loss: 0.4559 - accuracy: 0.7918 - val_loss: 0.5210 - val_accuracy: 0.7520\n",
            "Epoch 89/100\n",
            "17/17 [==============================] - 0s 4ms/step - loss: 0.4557 - accuracy: 0.7918 - val_loss: 0.5207 - val_accuracy: 0.7520\n",
            "Epoch 90/100\n",
            "17/17 [==============================] - 0s 4ms/step - loss: 0.4555 - accuracy: 0.7938 - val_loss: 0.5204 - val_accuracy: 0.7598\n",
            "Epoch 91/100\n",
            "17/17 [==============================] - 0s 4ms/step - loss: 0.4553 - accuracy: 0.7938 - val_loss: 0.5207 - val_accuracy: 0.7598\n",
            "Epoch 92/100\n",
            "17/17 [==============================] - 0s 4ms/step - loss: 0.4550 - accuracy: 0.7918 - val_loss: 0.5213 - val_accuracy: 0.7598\n",
            "Epoch 93/100\n",
            "17/17 [==============================] - 0s 3ms/step - loss: 0.4546 - accuracy: 0.7899 - val_loss: 0.5213 - val_accuracy: 0.7598\n",
            "Epoch 94/100\n",
            "17/17 [==============================] - 0s 3ms/step - loss: 0.4544 - accuracy: 0.7899 - val_loss: 0.5208 - val_accuracy: 0.7598\n",
            "Epoch 95/100\n",
            "17/17 [==============================] - 0s 4ms/step - loss: 0.4543 - accuracy: 0.7918 - val_loss: 0.5214 - val_accuracy: 0.7598\n",
            "Epoch 96/100\n",
            "17/17 [==============================] - 0s 3ms/step - loss: 0.4539 - accuracy: 0.7957 - val_loss: 0.5217 - val_accuracy: 0.7638\n",
            "Epoch 97/100\n",
            "17/17 [==============================] - 0s 3ms/step - loss: 0.4537 - accuracy: 0.7918 - val_loss: 0.5220 - val_accuracy: 0.7638\n",
            "Epoch 98/100\n",
            "17/17 [==============================] - 0s 4ms/step - loss: 0.4534 - accuracy: 0.7918 - val_loss: 0.5225 - val_accuracy: 0.7638\n",
            "Epoch 99/100\n",
            "17/17 [==============================] - 0s 4ms/step - loss: 0.4531 - accuracy: 0.7899 - val_loss: 0.5232 - val_accuracy: 0.7677\n",
            "Epoch 100/100\n",
            "17/17 [==============================] - 0s 4ms/step - loss: 0.4529 - accuracy: 0.7899 - val_loss: 0.5236 - val_accuracy: 0.7677\n"
          ]
        }
      ]
    },
    {
      "cell_type": "code",
      "source": [
        "plt.plot(r.history['loss'],label='train loss')\n",
        "plt.plot(r.history['val_loss'],\n",
        "label='val_loss')\n",
        "plt.legend()"
      ],
      "metadata": {
        "colab": {
          "base_uri": "https://localhost:8080/",
          "height": 303
        },
        "id": "74ZmkywCQ0_Q",
        "outputId": "dcc4e66d-65a9-40ed-9465-a0ca06a27645"
      },
      "execution_count": null,
      "outputs": [
        {
          "output_type": "execute_result",
          "data": {
            "text/plain": [
              "<matplotlib.legend.Legend at 0x7fce3049d1d0>"
            ]
          },
          "metadata": {},
          "execution_count": 53
        },
        {
          "output_type": "display_data",
          "data": {
            "text/plain": [
              "<Figure size 432x288 with 1 Axes>"
            ],
            "image/png": "[encoded data removed]"
          },
          "metadata": {
            "needs_background": "light"
          }
        }
      ]
    },
    {
      "cell_type": "code",
      "source": [
        "plt.plot(r.history['accuracy'],label='train accuray')\n",
        "plt.plot(r.history['val_accuracy'],label='val_accuracy')\n",
        "plt.legend()"
      ],
      "metadata": {
        "colab": {
          "base_uri": "https://localhost:8080/",
          "height": 303
        },
        "id": "mLLrpYxkQ5qg",
        "outputId": "1c42f40f-e401-4bef-f67d-39f1a91c7c2f"
      },
      "execution_count": null,
      "outputs": [
        {
          "output_type": "execute_result",
          "data": {
            "text/plain": [
              "<matplotlib.legend.Legend at 0x7fce304e3b10>"
            ]
          },
          "metadata": {},
          "execution_count": 54
        },
        {
          "output_type": "display_data",
          "data": {
            "text/plain": [
              "<Figure size 432x288 with 1 Axes>"
            ],
            "image/png": "[encoded data removed]"
          },
          "metadata": {
            "needs_background": "light"
          }
        }
      ]
    }
  ]
}