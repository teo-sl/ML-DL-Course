{
  "cells": [
    {
      "cell_type": "code",
      "execution_count": 1,
      "metadata": {
        "id": "8EZ2_lt68CQ6"
      },
      "outputs": [],
      "source": [
        "import tensorflow as tf\n",
        "import numpy as np\n",
        "import pandas as pd\n",
        "import matplotlib.pyplot as plt"
      ]
    },
    {
      "cell_type": "code",
      "execution_count": 2,
      "metadata": {
        "colab": {
          "base_uri": "https://localhost:8080/"
        },
        "id": "JADycqKb7-bZ",
        "outputId": "85554b83-01ff-4545-b611-3a74a61e9170"
      },
      "outputs": [
        {
          "name": "stdout",
          "output_type": "stream",
          "text": [
            "Downloading data from https://www.cs.toronto.edu/~kriz/cifar-10-python.tar.gz\n",
            "170500096/170498071 [==============================] - 4s 0us/step\n",
            "170508288/170498071 [==============================] - 4s 0us/step\n"
          ]
        }
      ],
      "source": [
        "(x_train,y_train),(x_test,y_test) = tf.keras.datasets.cifar10.load_data()"
      ]
    },
    {
      "cell_type": "code",
      "execution_count": null,
      "metadata": {
        "colab": {
          "base_uri": "https://localhost:8080/"
        },
        "id": "FHlfJGF68JL0",
        "outputId": "25aa78f1-94b9-4c87-aeb5-5b95523d1234"
      },
      "outputs": [
        {
          "data": {
            "text/plain": [
              "(50000, 32, 32, 3)"
            ]
          },
          "execution_count": 3,
          "metadata": {},
          "output_type": "execute_result"
        }
      ],
      "source": [
        "x_train.shape"
      ]
    },
    {
      "cell_type": "code",
      "execution_count": null,
      "metadata": {
        "colab": {
          "base_uri": "https://localhost:8080/"
        },
        "id": "GCC1EK2K8K3G",
        "outputId": "c7d540df-568e-46a2-be85-3859c962da74"
      },
      "outputs": [
        {
          "data": {
            "text/plain": [
              "(50000, 1)"
            ]
          },
          "execution_count": 4,
          "metadata": {},
          "output_type": "execute_result"
        }
      ],
      "source": [
        "y_train.shape"
      ]
    },
    {
      "cell_type": "code",
      "execution_count": 3,
      "metadata": {
        "id": "7Em7X9iK8VOJ"
      },
      "outputs": [],
      "source": [
        "y_train,y_test=y_train.flatten(),y_test.flatten()"
      ]
    },
    {
      "cell_type": "code",
      "execution_count": null,
      "metadata": {
        "colab": {
          "base_uri": "https://localhost:8080/"
        },
        "id": "qAbnGWvI8aYV",
        "outputId": "35217a8b-b5fd-4ee2-f10d-3bfd97787b44"
      },
      "outputs": [
        {
          "data": {
            "text/plain": [
              "50000"
            ]
          },
          "execution_count": 7,
          "metadata": {},
          "output_type": "execute_result"
        }
      ],
      "source": [
        "y_train.size"
      ]
    },
    {
      "cell_type": "code",
      "execution_count": 4,
      "metadata": {
        "id": "rVut62r08kFJ"
      },
      "outputs": [],
      "source": [
        "x_train,x_test=x_train/255.0,x_test/255.0"
      ]
    },
    {
      "cell_type": "code",
      "execution_count": 5,
      "metadata": {
        "id": "nLoreFTB8qsm"
      },
      "outputs": [],
      "source": [
        "from tensorflow.keras.layers import Dense,Input,Conv2D,Flatten,Dropout,BatchNormalization,MaxPooling2D\n",
        "from tensorflow.keras.models import Model"
      ]
    },
    {
      "cell_type": "code",
      "execution_count": 6,
      "metadata": {
        "id": "-MVgAi1o8spT"
      },
      "outputs": [],
      "source": [
        "K=len(set(y_train))"
      ]
    },
    {
      "cell_type": "code",
      "execution_count": null,
      "metadata": {
        "colab": {
          "base_uri": "https://localhost:8080/"
        },
        "id": "GnIlJx3f8uKs",
        "outputId": "a444b0e5-2b09-4e0d-aaba-83c16a35f7ee"
      },
      "outputs": [
        {
          "data": {
            "text/plain": [
              "10"
            ]
          },
          "execution_count": 11,
          "metadata": {},
          "output_type": "execute_result"
        }
      ],
      "source": [
        "K"
      ]
    },
    {
      "cell_type": "code",
      "execution_count": null,
      "metadata": {
        "colab": {
          "base_uri": "https://localhost:8080/"
        },
        "id": "HJkK9bP08wyL",
        "outputId": "019871b7-263b-457f-c41c-9da871defa1c"
      },
      "outputs": [
        {
          "name": "stdout",
          "output_type": "stream",
          "text": [
            "Epoch 1/15\n",
            "1563/1563 [==============================] - 18s 4ms/step - loss: 1.5297 - accuracy: 0.4440 - val_loss: 1.2453 - val_accuracy: 0.5477\n",
            "Epoch 2/15\n",
            "1563/1563 [==============================] - 7s 4ms/step - loss: 1.1993 - accuracy: 0.5711 - val_loss: 1.1050 - val_accuracy: 0.6027\n",
            "Epoch 3/15\n",
            "1563/1563 [==============================] - 7s 4ms/step - loss: 1.0435 - accuracy: 0.6304 - val_loss: 1.0121 - val_accuracy: 0.6371\n",
            "Epoch 4/15\n",
            "1563/1563 [==============================] - 7s 4ms/step - loss: 0.9338 - accuracy: 0.6713 - val_loss: 0.9367 - val_accuracy: 0.6711\n",
            "Epoch 5/15\n",
            "1563/1563 [==============================] - 7s 4ms/step - loss: 0.8429 - accuracy: 0.6984 - val_loss: 0.9293 - val_accuracy: 0.6733\n",
            "Epoch 6/15\n",
            "1563/1563 [==============================] - 7s 4ms/step - loss: 0.7665 - accuracy: 0.7287 - val_loss: 0.8729 - val_accuracy: 0.6952\n",
            "Epoch 7/15\n",
            "1563/1563 [==============================] - 7s 5ms/step - loss: 0.6994 - accuracy: 0.7508 - val_loss: 0.8598 - val_accuracy: 0.7028\n",
            "Epoch 8/15\n",
            "1563/1563 [==============================] - 6s 4ms/step - loss: 0.6354 - accuracy: 0.7734 - val_loss: 0.8761 - val_accuracy: 0.7026\n",
            "Epoch 9/15\n",
            "1563/1563 [==============================] - 6s 4ms/step - loss: 0.5826 - accuracy: 0.7938 - val_loss: 0.8461 - val_accuracy: 0.7099\n",
            "Epoch 10/15\n",
            "1563/1563 [==============================] - 6s 4ms/step - loss: 0.5351 - accuracy: 0.8093 - val_loss: 0.8764 - val_accuracy: 0.7109\n",
            "Epoch 11/15\n",
            "1563/1563 [==============================] - 7s 4ms/step - loss: 0.4970 - accuracy: 0.8230 - val_loss: 0.8790 - val_accuracy: 0.7134\n",
            "Epoch 12/15\n",
            "1563/1563 [==============================] - 6s 4ms/step - loss: 0.4652 - accuracy: 0.8325 - val_loss: 0.9114 - val_accuracy: 0.7130\n",
            "Epoch 13/15\n",
            "1563/1563 [==============================] - 7s 4ms/step - loss: 0.4274 - accuracy: 0.8479 - val_loss: 0.9313 - val_accuracy: 0.7112\n",
            "Epoch 14/15\n",
            "1563/1563 [==============================] - 6s 4ms/step - loss: 0.4050 - accuracy: 0.8558 - val_loss: 0.9355 - val_accuracy: 0.7094\n",
            "Epoch 15/15\n",
            "1563/1563 [==============================] - 7s 4ms/step - loss: 0.3820 - accuracy: 0.8637 - val_loss: 0.9748 - val_accuracy: 0.7059\n"
          ]
        }
      ],
      "source": [
        "i=Input(shape=x_train[0].shape)\n",
        "x=Conv2D(32,(3,3),strides=2,activation='relu')(i)\n",
        "x=Conv2D(64,(3,3),strides=2,activation='relu')(x)\n",
        "x=Conv2D(128,(3,3),strides=2,activation='relu')(x)\n",
        "x=Flatten()(x)\n",
        "x=Dropout(0.2)(x)\n",
        "x=Dense(512,activation='relu')(x)\n",
        "x=Dropout(0.2)(x)\n",
        "x=Dense(K,activation='softmax')(x)\n",
        "\n",
        "model=Model(i,x)\n",
        "\n",
        "model.compile(optimizer='adam',\n",
        "        loss='sparse_categorical_crossentropy',  \n",
        "        metrics=['accuracy'])\n",
        "\n",
        "r=model.fit(x_train, y_train,\n",
        "                    validation_data=(x_test,y_test),\n",
        "                    epochs=15)"
      ]
    },
    {
      "cell_type": "code",
      "execution_count": null,
      "metadata": {
        "colab": {
          "base_uri": "https://localhost:8080/"
        },
        "id": "2nEjxmt89XLD",
        "outputId": "04e66049-6a4d-4ca4-9094-1e667c059987"
      },
      "outputs": [
        {
          "name": "stdout",
          "output_type": "stream",
          "text": [
            "1563/1563 [==============================] - 4s 3ms/step - loss: 0.1840 - accuracy: 0.9496\n",
            "Train score =  [0.18400131165981293, 0.9495599865913391]\n",
            "313/313 [==============================] - 1s 3ms/step - loss: 0.9748 - accuracy: 0.7059\n",
            "Test score =  [0.9747542142868042, 0.7059000134468079]\n"
          ]
        }
      ],
      "source": [
        "print(\"Train score = \",model.evaluate(x_train,y_train))\n",
        "print(\"Test score = \",model.evaluate(x_test,y_test))"
      ]
    },
    {
      "cell_type": "code",
      "execution_count": null,
      "metadata": {
        "colab": {
          "base_uri": "https://localhost:8080/",
          "height": 283
        },
        "id": "wmlhmaTl9aBd",
        "outputId": "28955a3a-da9a-4eac-a304-3c37cc05609a"
      },
      "outputs": [
        {
          "data": {
            "text/plain": [
              "<matplotlib.legend.Legend at 0x7f4af00dcf90>"
            ]
          },
          "execution_count": 14,
          "metadata": {},
          "output_type": "execute_result"
        },
        {
          "data": {
            "image/png": "[encoded data removed]",
            "text/plain": [
              "<Figure size 432x288 with 1 Axes>"
            ]
          },
          "metadata": {
            "needs_background": "light"
          },
          "output_type": "display_data"
        }
      ],
      "source": [
        "plt.plot(r.history['loss'],label='train loss')\n",
        "plt.plot(r.history['val_loss'],label='val_loss')\n",
        "plt.legend()"
      ]
    },
    {
      "cell_type": "code",
      "execution_count": null,
      "metadata": {
        "colab": {
          "base_uri": "https://localhost:8080/",
          "height": 283
        },
        "id": "orc6lkOk9eX3",
        "outputId": "68452ace-bb7b-47bd-e9aa-5cc27bbd3804"
      },
      "outputs": [
        {
          "data": {
            "text/plain": [
              "<matplotlib.legend.Legend at 0x7f4af00ef490>"
            ]
          },
          "execution_count": 15,
          "metadata": {},
          "output_type": "execute_result"
        },
        {
          "data": {
            "image/png": "[encoded data removed]",
            "text/plain": [
              "<Figure size 432x288 with 1 Axes>"
            ]
          },
          "metadata": {
            "needs_background": "light"
          },
          "output_type": "display_data"
        }
      ],
      "source": [
        "plt.plot(r.history['accuracy'],label='train accuray')\n",
        "plt.plot(r.history['val_accuracy'],label='val_accuracy')\n",
        "plt.legend()"
      ]
    },
    {
      "cell_type": "code",
      "execution_count": null,
      "metadata": {
        "colab": {
          "base_uri": "https://localhost:8080/",
          "height": 506
        },
        "id": "0yvswoUL9j3e",
        "outputId": "3dd593b2-166b-4a76-d365-cfb6f191f2ae"
      },
      "outputs": [
        {
          "name": "stdout",
          "output_type": "stream",
          "text": [
            "Confusion matrix, without normalization\n",
            "[[715  12  51  25  23   8   7   7 124  28]\n",
            " [ 20 823   7   8   6   6   8   2  46  74]\n",
            " [ 56   7 627  78  93  52  49  12  15  11]\n",
            " [ 15   9  67 539  76 178  64  18  20  14]\n",
            " [ 20   2  82  62 699  35  38  46  15   1]\n",
            " [ 11   2  69 216  68 568  25  23   9   9]\n",
            " [  8   6  48  66  51  20 774   4  14   9]\n",
            " [ 19   1  51  59  93  77  12 673   6   9]\n",
            " [ 33  17  21  13   4  10   6   2 877  17]\n",
            " [ 38  73  14  14  10  12  11  10  54 764]]\n"
          ]
        },
        {
          "data": {
            "image/png": "[encoded data removed]",
            "text/plain": [
              "<Figure size 432x288 with 2 Axes>"
            ]
          },
          "metadata": {
            "needs_background": "light"
          },
          "output_type": "display_data"
        }
      ],
      "source": [
        "from sklearn.metrics import confusion_matrix\n",
        "import itertools\n",
        "\n",
        "def plot_confusion_matrix(cm,classes,\n",
        "                          normalize=False,\n",
        "                          title='Confusion matrix',\n",
        "                          cmap=plt.cm.Blues):\n",
        "  if normalize:\n",
        "      cm=cm.astype('float') / cm.sum(axis=1)[:,np.newaxis]\n",
        "  else: \n",
        "    print('Confusion matrix, without normalization')\n",
        "  \n",
        "  print(cm)\n",
        "\n",
        "  plt.imshow(cm,interpolation='nearest',cmap=cmap)\n",
        "  plt.title(title)\n",
        "  plt.colorbar()\n",
        "  tick_marks=np.arange(len(classes))\n",
        "  plt.xticks(tick_marks,classes,rotation=45)\n",
        "  plt.yticks(tick_marks,classes)\n",
        "  fmt='.2f' if normalize else 'd'\n",
        "  thresh=cm.max() /2.\n",
        "\n",
        "  for i,j in itertools.product(range(cm.shape[0]), range(cm.shape[1])):\n",
        "    plt.text(j,i,format(cm[i,j],fmt),\n",
        "             horizontalalignment=\"center\",\n",
        "             color=\"white\" if cm[i,j]>thresh else \"black\")\n",
        "    \n",
        "  plt.tight_layout()\n",
        "  plt.ylabel('True label')\n",
        "  plt.xlabel('Predicted label')\n",
        "  plt.show()\n",
        "\n",
        "\n",
        "p_test=model.predict(x_test).argmax(axis=1)\n",
        "cm=confusion_matrix(y_test,p_test)\n",
        "plot_confusion_matrix(cm,list(range(10)))"
      ]
    },
    {
      "cell_type": "code",
      "execution_count": null,
      "metadata": {
        "id": "7VEiNito_S9k"
      },
      "outputs": [],
      "source": [
        "labels= ''' airplane\n",
        "automobile\n",
        "bird\n",
        "cat\n",
        "deer\n",
        "dog\n",
        "frog\n",
        "horse\n",
        "ship\n",
        "truck'''.split()"
      ]
    },
    {
      "cell_type": "code",
      "execution_count": null,
      "metadata": {
        "colab": {
          "base_uri": "https://localhost:8080/",
          "height": 299
        },
        "id": "U6Xe49bb9oO6",
        "outputId": "6b60adbe-1a2a-47f2-f0a8-80b9db99c6d4"
      },
      "outputs": [
        {
          "data": {
            "text/plain": [
              "Text(0.5, 1.0, 'True label: truck Predicted automobile')"
            ]
          },
          "execution_count": 34,
          "metadata": {},
          "output_type": "execute_result"
        },
        {
          "data": {
            "image/png": "[encoded data removed]",
            "text/plain": [
              "<Figure size 432x288 with 1 Axes>"
            ]
          },
          "metadata": {
            "needs_background": "light"
          },
          "output_type": "display_data"
        }
      ],
      "source": [
        "misclassifies_idx=np.where(p_test !=y_test)[0]\n",
        "i = np.random.choice(misclassifies_idx)\n",
        "plt.imshow(x_test[i].reshape(32,32,3 ),cmap='gray')\n",
        "plt.title(\"True label: %s Predicted %s\" % (labels[y_test[i]],labels[p_test[i]]))"
      ]
    },
    {
      "cell_type": "markdown",
      "metadata": {
        "id": "BjH9UYIJBY5Q"
      },
      "source": [
        "Possiamo migliorare queste performance attraverso la data augmentation\n"
      ]
    },
    {
      "cell_type": "markdown",
      "metadata": {
        "id": "xxVhphMBXc_W"
      },
      "source": [
        "Non vi è la strided convolution, in questi scenari, con piccole immagine, conv seguita da max pooling, sembra funzionare meglio. Inoltre, si è presa ispirazione da VGG dove si mettono più conv prima di fare pooling. \n",
        "\n",
        "Same padding, senza l'immagine si rimpicciolirebbe troppo.\n",
        "\n",
        "Vi è una batch norm dopo ogni conv.\n",
        "\n",
        "\n",
        "Non ha molto senso usare dropout nella parte di convoluzione. "
      ]
    },
    {
      "cell_type": "code",
      "execution_count": null,
      "metadata": {
        "colab": {
          "base_uri": "https://localhost:8080/"
        },
        "id": "KVqpyNZqWk7o",
        "outputId": "e4d101cc-11ca-498b-ebc8-83300a08c409"
      },
      "outputs": [
        {
          "name": "stdout",
          "output_type": "stream",
          "text": [
            "Epoch 1/15\n",
            "1563/1563 [==============================] - 23s 7ms/step - loss: 1.3348 - accuracy: 0.5332 - val_loss: 1.1422 - val_accuracy: 0.6099\n",
            "Epoch 2/15\n",
            "1563/1563 [==============================] - 12s 8ms/step - loss: 0.8696 - accuracy: 0.6974 - val_loss: 0.8371 - val_accuracy: 0.7137\n",
            "Epoch 3/15\n",
            "1563/1563 [==============================] - 11s 7ms/step - loss: 0.7163 - accuracy: 0.7535 - val_loss: 0.8411 - val_accuracy: 0.7163\n",
            "Epoch 4/15\n",
            "1563/1563 [==============================] - 11s 7ms/step - loss: 0.6094 - accuracy: 0.7911 - val_loss: 0.7440 - val_accuracy: 0.7556\n",
            "Epoch 5/15\n",
            "1563/1563 [==============================] - 11s 7ms/step - loss: 0.5178 - accuracy: 0.8229 - val_loss: 0.6270 - val_accuracy: 0.7882\n",
            "Epoch 6/15\n",
            "1563/1563 [==============================] - 11s 7ms/step - loss: 0.4452 - accuracy: 0.8478 - val_loss: 0.6694 - val_accuracy: 0.7837\n",
            "Epoch 7/15\n",
            "1563/1563 [==============================] - 12s 7ms/step - loss: 0.3813 - accuracy: 0.8673 - val_loss: 0.5668 - val_accuracy: 0.8256\n",
            "Epoch 8/15\n",
            "1563/1563 [==============================] - 11s 7ms/step - loss: 0.3333 - accuracy: 0.8859 - val_loss: 0.5967 - val_accuracy: 0.8144\n",
            "Epoch 9/15\n",
            "1563/1563 [==============================] - 11s 7ms/step - loss: 0.2870 - accuracy: 0.9006 - val_loss: 0.6527 - val_accuracy: 0.8099\n",
            "Epoch 10/15\n",
            "1563/1563 [==============================] - 11s 7ms/step - loss: 0.2455 - accuracy: 0.9146 - val_loss: 0.5939 - val_accuracy: 0.8323\n",
            "Epoch 11/15\n",
            "1563/1563 [==============================] - 11s 7ms/step - loss: 0.2187 - accuracy: 0.9235 - val_loss: 0.6194 - val_accuracy: 0.8284\n",
            "Epoch 12/15\n",
            "1563/1563 [==============================] - 11s 7ms/step - loss: 0.2019 - accuracy: 0.9302 - val_loss: 0.6426 - val_accuracy: 0.8208\n",
            "Epoch 13/15\n",
            "1563/1563 [==============================] - 10s 7ms/step - loss: 0.1765 - accuracy: 0.9392 - val_loss: 0.6721 - val_accuracy: 0.8173\n",
            "Epoch 14/15\n",
            "1563/1563 [==============================] - 11s 7ms/step - loss: 0.1676 - accuracy: 0.9418 - val_loss: 0.6827 - val_accuracy: 0.8288\n",
            "Epoch 15/15\n",
            "1563/1563 [==============================] - 11s 7ms/step - loss: 0.1513 - accuracy: 0.9487 - val_loss: 0.6930 - val_accuracy: 0.8226\n"
          ]
        }
      ],
      "source": [
        "i=Input(shape=x_train[0].shape)\n",
        "\n",
        "x=Conv2D(32,(3,3),activation='relu',padding='same')(i)\n",
        "x=BatchNormalization()(x)\n",
        "x=Conv2D(32,(3,3),activation='relu',padding='same')(x)\n",
        "x=BatchNormalization()(x)\n",
        "x=MaxPooling2D((2,2))(x)\n",
        "\n",
        "\n",
        "x=Conv2D(64,(3,3),activation='relu',padding='same')(x)\n",
        "x=BatchNormalization()(x)\n",
        "x=Conv2D(64,(3,3),activation='relu',padding='same')(x)\n",
        "x=BatchNormalization()(x)\n",
        "x=MaxPooling2D((2,2))(x)\n",
        "\n",
        "\n",
        "x=Conv2D(128,(3,3),activation='relu',padding='same')(x)\n",
        "x=BatchNormalization()(x)\n",
        "x=Conv2D(128,(3,3),activation='relu',padding='same')(x)\n",
        "x=BatchNormalization()(x)\n",
        "x=MaxPooling2D((2,2))(x)\n",
        "\n",
        "\n",
        "x=Flatten()(x)\n",
        "x=Dropout(0.2)(x)\n",
        "x=Dense(512,activation='relu')(x)\n",
        "x=Dropout(0.2)(x)\n",
        "x=Dense(K,activation='softmax')(x)\n",
        "\n",
        "model=Model(i,x)\n",
        "\n",
        "model.compile(optimizer='adam',\n",
        "        loss='sparse_categorical_crossentropy',  \n",
        "        metrics=['accuracy'])\n",
        "\n",
        "r=model.fit(x_train, y_train,\n",
        "                    validation_data=(x_test,y_test),\n",
        "                    epochs=15)"
      ]
    },
    {
      "cell_type": "code",
      "execution_count": null,
      "metadata": {
        "colab": {
          "base_uri": "https://localhost:8080/",
          "height": 283
        },
        "id": "tCwYvjw1YuEI",
        "outputId": "8da48b1c-cecd-4bae-9ba9-a854a4751fbc"
      },
      "outputs": [
        {
          "data": {
            "text/plain": [
              "<matplotlib.legend.Legend at 0x7f63a034e610>"
            ]
          },
          "execution_count": 11,
          "metadata": {},
          "output_type": "execute_result"
        },
        {
          "data": {
            "image/png": "[encoded data removed]",
            "text/plain": [
              "<Figure size 432x288 with 1 Axes>"
            ]
          },
          "metadata": {
            "needs_background": "light"
          },
          "output_type": "display_data"
        }
      ],
      "source": [
        "plt.plot(r.history['loss'],label='train loss')\n",
        "plt.plot(r.history['val_loss'],label='val_loss')\n",
        "plt.legend()"
      ]
    },
    {
      "cell_type": "code",
      "execution_count": null,
      "metadata": {
        "colab": {
          "base_uri": "https://localhost:8080/",
          "height": 283
        },
        "id": "BbsSk_L6YyCC",
        "outputId": "dd88b8da-2c22-45ae-bf3d-cf26b910d141"
      },
      "outputs": [
        {
          "data": {
            "text/plain": [
              "<matplotlib.legend.Legend at 0x7f63a0317b10>"
            ]
          },
          "execution_count": 12,
          "metadata": {},
          "output_type": "execute_result"
        },
        {
          "data": {
            "image/png": "[encoded data removed]",
            "text/plain": [
              "<Figure size 432x288 with 1 Axes>"
            ]
          },
          "metadata": {
            "needs_background": "light"
          },
          "output_type": "display_data"
        }
      ],
      "source": [
        "plt.plot(r.history['accuracy'],label='train accuray')\n",
        "plt.plot(r.history['val_accuracy'],label='val_accuracy')\n",
        "plt.legend()"
      ]
    },
    {
      "cell_type": "code",
      "execution_count": null,
      "metadata": {
        "id": "AKypjmWuDugJ"
      },
      "outputs": [],
      "source": []
    },
    {
      "cell_type": "code",
      "execution_count": 7,
      "metadata": {
        "id": "c82LGySMaR-M"
      },
      "outputs": [],
      "source": [
        "i=Input(shape=x_train[0].shape)\n",
        "\n",
        "x=Conv2D(32,(3,3),activation='relu',padding='same')(i)\n",
        "x=BatchNormalization()(x)\n",
        "x=Conv2D(32,(3,3),activation='relu',padding='same')(x)\n",
        "x=BatchNormalization()(x)\n",
        "x=MaxPooling2D((2,2))(x)\n",
        "\n",
        "\n",
        "x=Conv2D(64,(3,3),activation='relu',padding='same')(x)\n",
        "x=BatchNormalization()(x)\n",
        "x=Conv2D(64,(3,3),activation='relu',padding='same')(x)\n",
        "x=BatchNormalization()(x)\n",
        "x=MaxPooling2D((2,2))(x)\n",
        "\n",
        "\n",
        "x=Conv2D(128,(3,3),activation='relu',padding='same')(x)\n",
        "x=BatchNormalization()(x)\n",
        "x=Conv2D(128,(3,3),activation='relu',padding='same')(x)\n",
        "x=BatchNormalization()(x)\n",
        "x=MaxPooling2D((2,2))(x)\n",
        "\n",
        "\n",
        "x=Flatten()(x)\n",
        "x=Dropout(0.2)(x)\n",
        "x=Dense(512,activation='relu')(x)\n",
        "x=Dropout(0.2)(x)\n",
        "x=Dense(K,activation='softmax')(x)\n",
        "\n",
        "model=Model(i,x)\n",
        "\n",
        "model.compile(optimizer='adam',\n",
        "        loss='sparse_categorical_crossentropy',  \n",
        "        metrics=['accuracy'])\n"
      ]
    },
    {
      "cell_type": "code",
      "execution_count": 8,
      "metadata": {
        "id": "U0p_tDoYbDM8"
      },
      "outputs": [],
      "source": [
        "from tensorflow.keras.preprocessing.image import ImageDataGenerator\n",
        "data_generator=ImageDataGenerator(\n",
        "    width_shift_range=0.1,\n",
        "    height_shift_range=0.1,\n",
        "    horizontal_flip=True\n",
        ")\n",
        "batch_size=32\n",
        "train_generator=data_generator.flow(x_train,y_train,batch_size)"
      ]
    },
    {
      "cell_type": "code",
      "execution_count": 9,
      "metadata": {
        "colab": {
          "base_uri": "https://localhost:8080/"
        },
        "id": "syUpBlwtD10m",
        "outputId": "fca10382-76ba-4ea0-cfa4-979f403e58dc"
      },
      "outputs": [
        {
          "name": "stdout",
          "output_type": "stream",
          "text": [
            "Epoch 1/50\n"
          ]
        },
        {
          "name": "stderr",
          "output_type": "stream",
          "text": [
            "/usr/local/lib/python3.7/dist-packages/ipykernel_launcher.py:7: UserWarning: `Model.fit_generator` is deprecated and will be removed in a future version. Please use `Model.fit`, which supports generators.\n",
            "  import sys\n"
          ]
        },
        {
          "name": "stdout",
          "output_type": "stream",
          "text": [
            "1562/1562 [==============================] - 44s 19ms/step - loss: 1.4219 - accuracy: 0.4999 - val_loss: 1.0052 - val_accuracy: 0.6482\n",
            "Epoch 2/50\n",
            "1562/1562 [==============================] - 29s 19ms/step - loss: 1.0051 - accuracy: 0.6472 - val_loss: 1.1839 - val_accuracy: 0.6189\n",
            "Epoch 3/50\n",
            "1562/1562 [==============================] - 30s 19ms/step - loss: 0.8616 - accuracy: 0.7017 - val_loss: 0.7784 - val_accuracy: 0.7298\n",
            "Epoch 4/50\n",
            "1562/1562 [==============================] - 31s 20ms/step - loss: 0.7667 - accuracy: 0.7375 - val_loss: 1.0322 - val_accuracy: 0.6784\n",
            "Epoch 5/50\n",
            "1562/1562 [==============================] - 29s 19ms/step - loss: 0.6942 - accuracy: 0.7636 - val_loss: 0.7827 - val_accuracy: 0.7364\n",
            "Epoch 6/50\n",
            "1562/1562 [==============================] - 29s 18ms/step - loss: 0.6517 - accuracy: 0.7801 - val_loss: 0.8879 - val_accuracy: 0.7286\n",
            "Epoch 7/50\n",
            "1562/1562 [==============================] - 29s 19ms/step - loss: 0.6136 - accuracy: 0.7898 - val_loss: 0.5901 - val_accuracy: 0.8055\n",
            "Epoch 8/50\n",
            "1562/1562 [==============================] - 30s 19ms/step - loss: 0.5752 - accuracy: 0.8047 - val_loss: 0.6104 - val_accuracy: 0.7897\n",
            "Epoch 9/50\n",
            "1562/1562 [==============================] - 32s 21ms/step - loss: 0.5429 - accuracy: 0.8162 - val_loss: 0.5431 - val_accuracy: 0.8233\n",
            "Epoch 10/50\n",
            "1562/1562 [==============================] - 31s 20ms/step - loss: 0.5148 - accuracy: 0.8266 - val_loss: 0.5287 - val_accuracy: 0.8276\n",
            "Epoch 11/50\n",
            "1562/1562 [==============================] - 31s 20ms/step - loss: 0.4931 - accuracy: 0.8341 - val_loss: 0.5561 - val_accuracy: 0.8170\n",
            "Epoch 12/50\n",
            "1562/1562 [==============================] - 31s 20ms/step - loss: 0.4636 - accuracy: 0.8408 - val_loss: 0.4704 - val_accuracy: 0.8436\n",
            "Epoch 13/50\n",
            "1562/1562 [==============================] - 29s 19ms/step - loss: 0.4547 - accuracy: 0.8442 - val_loss: 0.5891 - val_accuracy: 0.8136\n",
            "Epoch 14/50\n",
            "1562/1562 [==============================] - 29s 18ms/step - loss: 0.4349 - accuracy: 0.8514 - val_loss: 0.4763 - val_accuracy: 0.8418\n",
            "Epoch 15/50\n",
            "1562/1562 [==============================] - 30s 19ms/step - loss: 0.4153 - accuracy: 0.8590 - val_loss: 0.4795 - val_accuracy: 0.8424\n",
            "Epoch 16/50\n",
            "1562/1562 [==============================] - 30s 19ms/step - loss: 0.4005 - accuracy: 0.8622 - val_loss: 0.6754 - val_accuracy: 0.7911\n",
            "Epoch 17/50\n",
            "1562/1562 [==============================] - 29s 19ms/step - loss: 0.3855 - accuracy: 0.8680 - val_loss: 0.4560 - val_accuracy: 0.8512\n",
            "Epoch 18/50\n",
            "1562/1562 [==============================] - 29s 19ms/step - loss: 0.3680 - accuracy: 0.8735 - val_loss: 0.4715 - val_accuracy: 0.8437\n",
            "Epoch 19/50\n",
            "1562/1562 [==============================] - 29s 19ms/step - loss: 0.3575 - accuracy: 0.8772 - val_loss: 0.4242 - val_accuracy: 0.8608\n",
            "Epoch 20/50\n",
            "1562/1562 [==============================] - 30s 19ms/step - loss: 0.3483 - accuracy: 0.8817 - val_loss: 0.4047 - val_accuracy: 0.8631\n",
            "Epoch 21/50\n",
            "1562/1562 [==============================] - 29s 19ms/step - loss: 0.3368 - accuracy: 0.8834 - val_loss: 0.4396 - val_accuracy: 0.8577\n",
            "Epoch 22/50\n",
            "1562/1562 [==============================] - 29s 19ms/step - loss: 0.3315 - accuracy: 0.8863 - val_loss: 0.4354 - val_accuracy: 0.8549\n",
            "Epoch 23/50\n",
            "1562/1562 [==============================] - 29s 19ms/step - loss: 0.3169 - accuracy: 0.8899 - val_loss: 0.4633 - val_accuracy: 0.8534\n",
            "Epoch 24/50\n",
            "1562/1562 [==============================] - 30s 19ms/step - loss: 0.3177 - accuracy: 0.8907 - val_loss: 0.3789 - val_accuracy: 0.8756\n",
            "Epoch 25/50\n",
            "1562/1562 [==============================] - 29s 19ms/step - loss: 0.3065 - accuracy: 0.8945 - val_loss: 0.4041 - val_accuracy: 0.8699\n",
            "Epoch 26/50\n",
            "1562/1562 [==============================] - 29s 18ms/step - loss: 0.2969 - accuracy: 0.8978 - val_loss: 0.4130 - val_accuracy: 0.8678\n",
            "Epoch 27/50\n",
            "1562/1562 [==============================] - 29s 19ms/step - loss: 0.2916 - accuracy: 0.8995 - val_loss: 0.4172 - val_accuracy: 0.8661\n",
            "Epoch 28/50\n",
            "1562/1562 [==============================] - 30s 19ms/step - loss: 0.2844 - accuracy: 0.9038 - val_loss: 0.4119 - val_accuracy: 0.8704\n",
            "Epoch 29/50\n",
            "1562/1562 [==============================] - 29s 19ms/step - loss: 0.2732 - accuracy: 0.9058 - val_loss: 0.4117 - val_accuracy: 0.8668\n",
            "Epoch 30/50\n",
            "1562/1562 [==============================] - 29s 18ms/step - loss: 0.2674 - accuracy: 0.9065 - val_loss: 0.3946 - val_accuracy: 0.8734\n",
            "Epoch 31/50\n",
            "1562/1562 [==============================] - 29s 19ms/step - loss: 0.2712 - accuracy: 0.9081 - val_loss: 0.4112 - val_accuracy: 0.8712\n",
            "Epoch 32/50\n",
            "1562/1562 [==============================] - 30s 19ms/step - loss: 0.2610 - accuracy: 0.9112 - val_loss: 0.4137 - val_accuracy: 0.8681\n",
            "Epoch 33/50\n",
            "1562/1562 [==============================] - 29s 19ms/step - loss: 0.2597 - accuracy: 0.9101 - val_loss: 0.4060 - val_accuracy: 0.8746\n",
            "Epoch 34/50\n",
            "1562/1562 [==============================] - 29s 19ms/step - loss: 0.2525 - accuracy: 0.9125 - val_loss: 0.4472 - val_accuracy: 0.8645\n",
            "Epoch 35/50\n",
            "1562/1562 [==============================] - 30s 19ms/step - loss: 0.2492 - accuracy: 0.9134 - val_loss: 0.4276 - val_accuracy: 0.8719\n",
            "Epoch 36/50\n",
            "1562/1562 [==============================] - 29s 19ms/step - loss: 0.2477 - accuracy: 0.9146 - val_loss: 0.4349 - val_accuracy: 0.8745\n",
            "Epoch 37/50\n",
            "1562/1562 [==============================] - 29s 19ms/step - loss: 0.2427 - accuracy: 0.9158 - val_loss: 0.4296 - val_accuracy: 0.8647\n",
            "Epoch 38/50\n",
            "1562/1562 [==============================] - 29s 18ms/step - loss: 0.2366 - accuracy: 0.9189 - val_loss: 0.4222 - val_accuracy: 0.8698\n",
            "Epoch 39/50\n",
            "1562/1562 [==============================] - 30s 19ms/step - loss: 0.2321 - accuracy: 0.9192 - val_loss: 0.3561 - val_accuracy: 0.8850\n",
            "Epoch 40/50\n",
            "1562/1562 [==============================] - 29s 19ms/step - loss: 0.2293 - accuracy: 0.9195 - val_loss: 0.4050 - val_accuracy: 0.8739\n",
            "Epoch 41/50\n",
            "1562/1562 [==============================] - 29s 19ms/step - loss: 0.2262 - accuracy: 0.9222 - val_loss: 0.4110 - val_accuracy: 0.8812\n",
            "Epoch 42/50\n",
            "1562/1562 [==============================] - 29s 19ms/step - loss: 0.2263 - accuracy: 0.9222 - val_loss: 0.3859 - val_accuracy: 0.8769\n",
            "Epoch 43/50\n",
            "1562/1562 [==============================] - 30s 19ms/step - loss: 0.2217 - accuracy: 0.9232 - val_loss: 0.4417 - val_accuracy: 0.8707\n",
            "Epoch 44/50\n",
            "1562/1562 [==============================] - 29s 19ms/step - loss: 0.2152 - accuracy: 0.9254 - val_loss: 0.3827 - val_accuracy: 0.8792\n",
            "Epoch 45/50\n",
            "1562/1562 [==============================] - 29s 19ms/step - loss: 0.2104 - accuracy: 0.9274 - val_loss: 0.4046 - val_accuracy: 0.8773\n",
            "Epoch 46/50\n",
            "1562/1562 [==============================] - 29s 19ms/step - loss: 0.2123 - accuracy: 0.9273 - val_loss: 0.4008 - val_accuracy: 0.8795\n",
            "Epoch 47/50\n",
            "1562/1562 [==============================] - 30s 19ms/step - loss: 0.2027 - accuracy: 0.9304 - val_loss: 0.4039 - val_accuracy: 0.8764\n",
            "Epoch 48/50\n",
            "1562/1562 [==============================] - 29s 19ms/step - loss: 0.2067 - accuracy: 0.9296 - val_loss: 0.3901 - val_accuracy: 0.8802\n",
            "Epoch 49/50\n",
            "1562/1562 [==============================] - 29s 19ms/step - loss: 0.2011 - accuracy: 0.9308 - val_loss: 0.4429 - val_accuracy: 0.8725\n",
            "Epoch 50/50\n",
            "1562/1562 [==============================] - 30s 19ms/step - loss: 0.1957 - accuracy: 0.9315 - val_loss: 0.4052 - val_accuracy: 0.8834\n"
          ]
        }
      ],
      "source": [
        "steps_per_epoch = x_train.shape[0] // batch_size\n",
        "\n",
        "r = model.fit_generator(\n",
        "    train_generator,\n",
        "    validation_data=(x_test,y_test),\n",
        "    steps_per_epoch=steps_per_epoch,\n",
        "    epochs=50\n",
        ")"
      ]
    },
    {
      "cell_type": "code",
      "execution_count": 10,
      "metadata": {
        "colab": {
          "base_uri": "https://localhost:8080/",
          "height": 303
        },
        "id": "ksyLQEU5Znad",
        "outputId": "4148f17e-277a-4ad6-f7ce-cf613147c198"
      },
      "outputs": [
        {
          "data": {
            "text/plain": [
              "<matplotlib.legend.Legend at 0x7f969472d0d0>"
            ]
          },
          "execution_count": 10,
          "metadata": {},
          "output_type": "execute_result"
        },
        {
          "data": {
            "image/png": "[encoded data removed]",
            "text/plain": [
              "<Figure size 432x288 with 1 Axes>"
            ]
          },
          "metadata": {
            "needs_background": "light"
          },
          "output_type": "display_data"
        }
      ],
      "source": [
        "plt.plot(r.history['loss'],label='train loss')\n",
        "plt.plot(r.history['val_loss'],label='val_loss')\n",
        "plt.legend()"
      ]
    },
    {
      "cell_type": "code",
      "execution_count": 11,
      "metadata": {
        "colab": {
          "base_uri": "https://localhost:8080/",
          "height": 303
        },
        "id": "gIfnTuxRZutD",
        "outputId": "886c1869-282e-410e-d47a-b623c86b67c0"
      },
      "outputs": [
        {
          "data": {
            "text/plain": [
              "<matplotlib.legend.Legend at 0x7f9694126610>"
            ]
          },
          "execution_count": 11,
          "metadata": {},
          "output_type": "execute_result"
        },
        {
          "data": {
            "image/png": "[encoded data removed]",
            "text/plain": [
              "<Figure size 432x288 with 1 Axes>"
            ]
          },
          "metadata": {
            "needs_background": "light"
          },
          "output_type": "display_data"
        }
      ],
      "source": [
        "plt.plot(r.history['accuracy'],label='train accuray')\n",
        "plt.plot(r.history['val_accuracy'],label='val_accuracy')\n",
        "plt.legend()"
      ]
    },
    {
      "cell_type": "code",
      "execution_count": 12,
      "metadata": {
        "id": "JM0fp0CsX3mm"
      },
      "outputs": [],
      "source": [
        "labels= ''' airplane\n",
        "automobile\n",
        "bird\n",
        "cat\n",
        "deer\n",
        "dog\n",
        "frog\n",
        "horse\n",
        "ship\n",
        "truck'''.split()"
      ]
    },
    {
      "cell_type": "code",
      "execution_count": 13,
      "metadata": {
        "colab": {
          "base_uri": "https://localhost:8080/",
          "height": 525
        },
        "id": "8SGS9uM2XmMl",
        "outputId": "1cc41857-bed1-4f2f-bb37-c70ec191a441"
      },
      "outputs": [
        {
          "name": "stdout",
          "output_type": "stream",
          "text": [
            "Confusion matrix, without normalization\n",
            "[[928   9  13   5   4   2   3   3  19  14]\n",
            " [  2 971   1   0   0   0   2   0   0  24]\n",
            " [ 34   2 863  20  20  17  32   8   2   2]\n",
            " [ 16   3  50 762  29  60  48  15   8   9]\n",
            " [ 15   2  35  25 859  10  38  16   0   0]\n",
            " [ 10   2  29 107  26 771  26  25   0   4]\n",
            " [  6   3  23  16   7   2 941   0   0   2]\n",
            " [  7   1  13  21  26   6   2 919   0   5]\n",
            " [ 61  21   8   1   0   0   2   3 886  18]\n",
            " [ 17  42   1   3   0   0   0   0   3 934]]\n"
          ]
        },
        {
          "data": {
            "image/png": "[encoded data removed]",
            "text/plain": [
              "<Figure size 432x288 with 2 Axes>"
            ]
          },
          "metadata": {
            "needs_background": "light"
          },
          "output_type": "display_data"
        }
      ],
      "source": [
        "from sklearn.metrics import confusion_matrix\n",
        "import itertools\n",
        "\n",
        "def plot_confusion_matrix(cm,classes,\n",
        "                          normalize=False,\n",
        "                          title='Confusion matrix',\n",
        "                          cmap=plt.cm.Blues):\n",
        "  if normalize:\n",
        "      cm=cm.astype('float') / cm.sum(axis=1)[:,np.newaxis]\n",
        "  else: \n",
        "    print('Confusion matrix, without normalization')\n",
        "  \n",
        "  print(cm)\n",
        "\n",
        "  plt.imshow(cm,interpolation='nearest',cmap=cmap)\n",
        "  plt.title(title)\n",
        "  plt.colorbar()\n",
        "  tick_marks=np.arange(len(classes))\n",
        "  plt.xticks(tick_marks,classes,rotation=45)\n",
        "  plt.yticks(tick_marks,classes)\n",
        "  fmt='.2f' if normalize else 'd'\n",
        "  thresh=cm.max() /2.\n",
        "\n",
        "  for i,j in itertools.product(range(cm.shape[0]), range(cm.shape[1])):\n",
        "    plt.text(j,i,format(cm[i,j],fmt),\n",
        "             horizontalalignment=\"center\",\n",
        "             color=\"white\" if cm[i,j]>thresh else \"black\")\n",
        "    \n",
        "  plt.tight_layout()\n",
        "  plt.ylabel('True label')\n",
        "  plt.xlabel('Predicted label')\n",
        "  plt.show()\n",
        "\n",
        "\n",
        "p_test=model.predict(x_test).argmax(axis=1)\n",
        "cm=confusion_matrix(y_test,p_test)\n",
        "plot_confusion_matrix(cm,list(range(10)))"
      ]
    },
    {
      "cell_type": "code",
      "execution_count": 17,
      "metadata": {
        "colab": {
          "base_uri": "https://localhost:8080/",
          "height": 319
        },
        "id": "GoJ5EabIXx6j",
        "outputId": "c62441fd-4f74-4145-83de-ee0326f5a22f"
      },
      "outputs": [
        {
          "data": {
            "text/plain": [
              "Text(0.5, 1.0, 'True label: dog Predicted deer')"
            ]
          },
          "execution_count": 17,
          "metadata": {},
          "output_type": "execute_result"
        },
        {
          "data": {
            "image/png": "[encoded data removed]",
            "text/plain": [
              "<Figure size 432x288 with 1 Axes>"
            ]
          },
          "metadata": {
            "needs_background": "light"
          },
          "output_type": "display_data"
        }
      ],
      "source": [
        "misclassifies_idx=np.where(p_test !=y_test)[0]\n",
        "i = np.random.choice(misclassifies_idx)\n",
        "plt.imshow(x_test[i].reshape(32,32,3 ),cmap='gray')\n",
        "plt.title(\"True label: %s Predicted %s\" % (labels[y_test[i]],labels[p_test[i]]))"
      ]
    },
    {
      "cell_type": "code",
      "execution_count": 18,
      "metadata": {
        "id": "bqb2_44ndeiQ"
      },
      "outputs": [],
      "source": [
        "model.save('cifar10_model.h5')"
      ]
    },
    {
      "cell_type": "code",
      "execution_count": 19,
      "metadata": {
        "colab": {
          "base_uri": "https://localhost:8080/"
        },
        "id": "gBt1gaGhdo17",
        "outputId": "2010371b-773a-458c-b5e6-c68aed58c8a0"
      },
      "outputs": [
        {
          "name": "stdout",
          "output_type": "stream",
          "text": [
            "Model: \"model\"\n",
            "_________________________________________________________________\n",
            " Layer (type)                Output Shape              Param #   \n",
            "=================================================================\n",
            " input_1 (InputLayer)        [(None, 32, 32, 3)]       0         \n",
            "                                                                 \n",
            " conv2d (Conv2D)             (None, 32, 32, 32)        896       \n",
            "                                                                 \n",
            " batch_normalization (BatchN  (None, 32, 32, 32)       128       \n",
            " ormalization)                                                   \n",
            "                                                                 \n",
            " conv2d_1 (Conv2D)           (None, 32, 32, 32)        9248      \n",
            "                                                                 \n",
            " batch_normalization_1 (Batc  (None, 32, 32, 32)       128       \n",
            " hNormalization)                                                 \n",
            "                                                                 \n",
            " max_pooling2d (MaxPooling2D  (None, 16, 16, 32)       0         \n",
            " )                                                               \n",
            "                                                                 \n",
            " conv2d_2 (Conv2D)           (None, 16, 16, 64)        18496     \n",
            "                                                                 \n",
            " batch_normalization_2 (Batc  (None, 16, 16, 64)       256       \n",
            " hNormalization)                                                 \n",
            "                                                                 \n",
            " conv2d_3 (Conv2D)           (None, 16, 16, 64)        36928     \n",
            "                                                                 \n",
            " batch_normalization_3 (Batc  (None, 16, 16, 64)       256       \n",
            " hNormalization)                                                 \n",
            "                                                                 \n",
            " max_pooling2d_1 (MaxPooling  (None, 8, 8, 64)         0         \n",
            " 2D)                                                             \n",
            "                                                                 \n",
            " conv2d_4 (Conv2D)           (None, 8, 8, 128)         73856     \n",
            "                                                                 \n",
            " batch_normalization_4 (Batc  (None, 8, 8, 128)        512       \n",
            " hNormalization)                                                 \n",
            "                                                                 \n",
            " conv2d_5 (Conv2D)           (None, 8, 8, 128)         147584    \n",
            "                                                                 \n",
            " batch_normalization_5 (Batc  (None, 8, 8, 128)        512       \n",
            " hNormalization)                                                 \n",
            "                                                                 \n",
            " max_pooling2d_2 (MaxPooling  (None, 4, 4, 128)        0         \n",
            " 2D)                                                             \n",
            "                                                                 \n",
            " flatten (Flatten)           (None, 2048)              0         \n",
            "                                                                 \n",
            " dropout (Dropout)           (None, 2048)              0         \n",
            "                                                                 \n",
            " dense (Dense)               (None, 512)               1049088   \n",
            "                                                                 \n",
            " dropout_1 (Dropout)         (None, 512)               0         \n",
            "                                                                 \n",
            " dense_1 (Dense)             (None, 10)                5130      \n",
            "                                                                 \n",
            "=================================================================\n",
            "Total params: 1,343,018\n",
            "Trainable params: 1,342,122\n",
            "Non-trainable params: 896\n",
            "_________________________________________________________________\n"
          ]
        }
      ],
      "source": [
        "model.summary()"
      ]
    }
  ],
  "metadata": {
    "accelerator": "GPU",
    "colab": {
      "provenance": []
    },
    "gpuClass": "standard",
    "kernelspec": {
      "display_name": "Python 3.10.6 64-bit",
      "language": "python",
      "name": "python3"
    },
    "language_info": {
      "name": "python",
      "version": "3.10.6"
    },
    "vscode": {
      "interpreter": {
        "hash": "b0fa6594d8f4cbf19f97940f81e996739fb7646882a419484c72d19e05852a7e"
      }
    }
  },
  "nbformat": 4,
  "nbformat_minor": 0
}
