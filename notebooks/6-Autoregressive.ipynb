{
  "cells": [
    {
      "cell_type": "code",
      "execution_count": null,
      "metadata": {
        "id": "Z4RuIUKhpeRO"
      },
      "outputs": [],
      "source": [
        "import tensorflow as tf\n",
        "import numpy as np\n",
        "import pandas as pd\n",
        "import matplotlib.pyplot as plt"
      ]
    },
    {
      "cell_type": "code",
      "execution_count": null,
      "metadata": {
        "id": "P-nLSXVlpmeM"
      },
      "outputs": [],
      "source": [
        "from tensorflow.keras.layers import Dense,Input,Flatten,Dropout\n",
        "from tensorflow.keras.models import Model"
      ]
    },
    {
      "cell_type": "code",
      "execution_count": null,
      "metadata": {
        "colab": {
          "base_uri": "https://localhost:8080/",
          "height": 285
        },
        "id": "vYddJfLOqTW1",
        "outputId": "77bb8f38-1f8e-45b1-cb2c-16260c82c876"
      },
      "outputs": [
        {
          "data": {
            "image/png": "[encoded data removed]",
            "text/plain": [
              "<Figure size 432x288 with 1 Axes>"
            ]
          },
          "metadata": {
            "needs_background": "light"
          },
          "output_type": "display_data"
        }
      ],
      "source": [
        "series=np.sin(0.1*np.arange(200)) + np.random.randn(200)*0.1\n",
        "\n",
        "plt.plot(series)\n",
        "plt.show()"
      ]
    },
    {
      "cell_type": "code",
      "execution_count": null,
      "metadata": {
        "colab": {
          "base_uri": "https://localhost:8080/"
        },
        "id": "3o3xLPcurMvq",
        "outputId": "0affe633-eecb-432a-fbd0-24f11887999d"
      },
      "outputs": [
        {
          "name": "stdout",
          "output_type": "stream",
          "text": [
            "(190, 10)\n",
            "(190,)\n"
          ]
        }
      ],
      "source": [
        "T=10\n",
        "X=[]\n",
        "Y=[]\n",
        "\n",
        "for t in range(len(series)-T):\n",
        "  x=series[t:t+T]\n",
        "  X.append(x)\n",
        "  y=series[t+T]\n",
        "  Y.append(y)\n",
        "\n",
        "X=np.array(X).reshape(-1,T)\n",
        "Y=np.array(Y)\n",
        "N=len(X)\n",
        "print(X.shape)\n",
        "print(Y.shape)"
      ]
    },
    {
      "cell_type": "code",
      "execution_count": null,
      "metadata": {
        "colab": {
          "base_uri": "https://localhost:8080/"
        },
        "id": "xdPjtvbBpw0K",
        "outputId": "8c42bc09-e21b-46ae-db60-d9219382ba23"
      },
      "outputs": [
        {
          "name": "stdout",
          "output_type": "stream",
          "text": [
            "Epoch 1/80\n"
          ]
        },
        {
          "name": "stderr",
          "output_type": "stream",
          "text": [
            "/usr/local/lib/python3.7/dist-packages/keras/optimizer_v2/adam.py:105: UserWarning: The `lr` argument is deprecated, use `learning_rate` instead.\n",
            "  super(Adam, self).__init__(name, **kwargs)\n"
          ]
        },
        {
          "name": "stdout",
          "output_type": "stream",
          "text": [
            "3/3 [==============================] - 1s 161ms/step - loss: 1.1952 - val_loss: 0.8827\n",
            "Epoch 2/80\n",
            "3/3 [==============================] - 0s 14ms/step - loss: 0.3041 - val_loss: 0.4031\n",
            "Epoch 3/80\n",
            "3/3 [==============================] - 0s 14ms/step - loss: 0.2759 - val_loss: 0.3070\n",
            "Epoch 4/80\n",
            "3/3 [==============================] - 0s 14ms/step - loss: 0.1501 - val_loss: 0.0744\n",
            "Epoch 5/80\n",
            "3/3 [==============================] - 0s 14ms/step - loss: 0.0545 - val_loss: 0.1005\n",
            "Epoch 6/80\n",
            "3/3 [==============================] - 0s 14ms/step - loss: 0.0597 - val_loss: 0.0787\n",
            "Epoch 7/80\n",
            "3/3 [==============================] - 0s 15ms/step - loss: 0.0405 - val_loss: 0.0316\n",
            "Epoch 8/80\n",
            "3/3 [==============================] - 0s 15ms/step - loss: 0.0227 - val_loss: 0.0347\n",
            "Epoch 9/80\n",
            "3/3 [==============================] - 0s 14ms/step - loss: 0.0314 - val_loss: 0.0464\n",
            "Epoch 10/80\n",
            "3/3 [==============================] - 0s 14ms/step - loss: 0.0301 - val_loss: 0.0301\n",
            "Epoch 11/80\n",
            "3/3 [==============================] - 0s 23ms/step - loss: 0.0182 - val_loss: 0.0259\n",
            "Epoch 12/80\n",
            "3/3 [==============================] - 0s 16ms/step - loss: 0.0201 - val_loss: 0.0341\n",
            "Epoch 13/80\n",
            "3/3 [==============================] - 0s 17ms/step - loss: 0.0210 - val_loss: 0.0255\n",
            "Epoch 14/80\n",
            "3/3 [==============================] - 0s 24ms/step - loss: 0.0161 - val_loss: 0.0234\n",
            "Epoch 15/80\n",
            "3/3 [==============================] - 0s 19ms/step - loss: 0.0183 - val_loss: 0.0276\n",
            "Epoch 16/80\n",
            "3/3 [==============================] - 0s 17ms/step - loss: 0.0184 - val_loss: 0.0236\n",
            "Epoch 17/80\n",
            "3/3 [==============================] - 0s 14ms/step - loss: 0.0170 - val_loss: 0.0259\n",
            "Epoch 18/80\n",
            "3/3 [==============================] - 0s 22ms/step - loss: 0.0173 - val_loss: 0.0256\n",
            "Epoch 19/80\n",
            "3/3 [==============================] - 0s 24ms/step - loss: 0.0165 - val_loss: 0.0232\n",
            "Epoch 20/80\n",
            "3/3 [==============================] - 0s 14ms/step - loss: 0.0176 - val_loss: 0.0222\n",
            "Epoch 21/80\n",
            "3/3 [==============================] - 0s 23ms/step - loss: 0.0153 - val_loss: 0.0218\n",
            "Epoch 22/80\n",
            "3/3 [==============================] - 0s 14ms/step - loss: 0.0136 - val_loss: 0.0217\n",
            "Epoch 23/80\n",
            "3/3 [==============================] - 0s 15ms/step - loss: 0.0162 - val_loss: 0.0229\n",
            "Epoch 24/80\n",
            "3/3 [==============================] - 0s 15ms/step - loss: 0.0160 - val_loss: 0.0212\n",
            "Epoch 25/80\n",
            "3/3 [==============================] - 0s 14ms/step - loss: 0.0159 - val_loss: 0.0209\n",
            "Epoch 26/80\n",
            "3/3 [==============================] - 0s 15ms/step - loss: 0.0143 - val_loss: 0.0211\n",
            "Epoch 27/80\n",
            "3/3 [==============================] - 0s 16ms/step - loss: 0.0148 - val_loss: 0.0220\n",
            "Epoch 28/80\n",
            "3/3 [==============================] - 0s 14ms/step - loss: 0.0136 - val_loss: 0.0218\n",
            "Epoch 29/80\n",
            "3/3 [==============================] - 0s 14ms/step - loss: 0.0141 - val_loss: 0.0215\n",
            "Epoch 30/80\n",
            "3/3 [==============================] - 0s 15ms/step - loss: 0.0138 - val_loss: 0.0208\n",
            "Epoch 31/80\n",
            "3/3 [==============================] - 0s 14ms/step - loss: 0.0136 - val_loss: 0.0208\n",
            "Epoch 32/80\n",
            "3/3 [==============================] - 0s 23ms/step - loss: 0.0146 - val_loss: 0.0215\n",
            "Epoch 33/80\n",
            "3/3 [==============================] - 0s 15ms/step - loss: 0.0136 - val_loss: 0.0209\n",
            "Epoch 34/80\n",
            "3/3 [==============================] - 0s 15ms/step - loss: 0.0140 - val_loss: 0.0208\n",
            "Epoch 35/80\n",
            "3/3 [==============================] - 0s 15ms/step - loss: 0.0144 - val_loss: 0.0208\n",
            "Epoch 36/80\n",
            "3/3 [==============================] - 0s 23ms/step - loss: 0.0131 - val_loss: 0.0210\n",
            "Epoch 37/80\n",
            "3/3 [==============================] - 0s 56ms/step - loss: 0.0138 - val_loss: 0.0215\n",
            "Epoch 38/80\n",
            "3/3 [==============================] - 0s 33ms/step - loss: 0.0135 - val_loss: 0.0208\n",
            "Epoch 39/80\n",
            "3/3 [==============================] - 0s 50ms/step - loss: 0.0130 - val_loss: 0.0209\n",
            "Epoch 40/80\n",
            "3/3 [==============================] - 0s 31ms/step - loss: 0.0135 - val_loss: 0.0213\n",
            "Epoch 41/80\n",
            "3/3 [==============================] - 0s 31ms/step - loss: 0.0134 - val_loss: 0.0213\n",
            "Epoch 42/80\n",
            "3/3 [==============================] - 0s 32ms/step - loss: 0.0136 - val_loss: 0.0211\n",
            "Epoch 43/80\n",
            "3/3 [==============================] - 0s 21ms/step - loss: 0.0134 - val_loss: 0.0209\n",
            "Epoch 44/80\n",
            "3/3 [==============================] - 0s 14ms/step - loss: 0.0157 - val_loss: 0.0226\n",
            "Epoch 45/80\n",
            "3/3 [==============================] - 0s 23ms/step - loss: 0.0202 - val_loss: 0.0215\n",
            "Epoch 46/80\n",
            "3/3 [==============================] - 0s 17ms/step - loss: 0.0206 - val_loss: 0.0212\n",
            "Epoch 47/80\n",
            "3/3 [==============================] - 0s 18ms/step - loss: 0.0198 - val_loss: 0.0209\n",
            "Epoch 48/80\n",
            "3/3 [==============================] - 0s 14ms/step - loss: 0.0149 - val_loss: 0.0217\n",
            "Epoch 49/80\n",
            "3/3 [==============================] - 0s 14ms/step - loss: 0.0132 - val_loss: 0.0225\n",
            "Epoch 50/80\n",
            "3/3 [==============================] - 0s 15ms/step - loss: 0.0133 - val_loss: 0.0215\n",
            "Epoch 51/80\n",
            "3/3 [==============================] - 0s 14ms/step - loss: 0.0135 - val_loss: 0.0220\n",
            "Epoch 52/80\n",
            "3/3 [==============================] - 0s 16ms/step - loss: 0.0131 - val_loss: 0.0210\n",
            "Epoch 53/80\n",
            "3/3 [==============================] - 0s 15ms/step - loss: 0.0125 - val_loss: 0.0206\n",
            "Epoch 54/80\n",
            "3/3 [==============================] - 0s 20ms/step - loss: 0.0135 - val_loss: 0.0207\n",
            "Epoch 55/80\n",
            "3/3 [==============================] - 0s 15ms/step - loss: 0.0120 - val_loss: 0.0209\n",
            "Epoch 56/80\n",
            "3/3 [==============================] - 0s 16ms/step - loss: 0.0148 - val_loss: 0.0217\n",
            "Epoch 57/80\n",
            "3/3 [==============================] - 0s 21ms/step - loss: 0.0152 - val_loss: 0.0209\n",
            "Epoch 58/80\n",
            "3/3 [==============================] - 0s 15ms/step - loss: 0.0142 - val_loss: 0.0205\n",
            "Epoch 59/80\n",
            "3/3 [==============================] - 0s 17ms/step - loss: 0.0129 - val_loss: 0.0210\n",
            "Epoch 60/80\n",
            "3/3 [==============================] - 0s 16ms/step - loss: 0.0121 - val_loss: 0.0210\n",
            "Epoch 61/80\n",
            "3/3 [==============================] - 0s 17ms/step - loss: 0.0130 - val_loss: 0.0223\n",
            "Epoch 62/80\n",
            "3/3 [==============================] - 0s 14ms/step - loss: 0.0147 - val_loss: 0.0204\n",
            "Epoch 63/80\n",
            "3/3 [==============================] - 0s 14ms/step - loss: 0.0138 - val_loss: 0.0207\n",
            "Epoch 64/80\n",
            "3/3 [==============================] - 0s 15ms/step - loss: 0.0141 - val_loss: 0.0209\n",
            "Epoch 65/80\n",
            "3/3 [==============================] - 0s 14ms/step - loss: 0.0143 - val_loss: 0.0211\n",
            "Epoch 66/80\n",
            "3/3 [==============================] - 0s 25ms/step - loss: 0.0132 - val_loss: 0.0203\n",
            "Epoch 67/80\n",
            "3/3 [==============================] - 0s 16ms/step - loss: 0.0134 - val_loss: 0.0202\n",
            "Epoch 68/80\n",
            "3/3 [==============================] - 0s 23ms/step - loss: 0.0129 - val_loss: 0.0212\n",
            "Epoch 69/80\n",
            "3/3 [==============================] - 0s 14ms/step - loss: 0.0121 - val_loss: 0.0207\n",
            "Epoch 70/80\n",
            "3/3 [==============================] - 0s 14ms/step - loss: 0.0124 - val_loss: 0.0208\n",
            "Epoch 71/80\n",
            "3/3 [==============================] - 0s 15ms/step - loss: 0.0131 - val_loss: 0.0200\n",
            "Epoch 72/80\n",
            "3/3 [==============================] - 0s 16ms/step - loss: 0.0127 - val_loss: 0.0200\n",
            "Epoch 73/80\n",
            "3/3 [==============================] - 0s 15ms/step - loss: 0.0131 - val_loss: 0.0203\n",
            "Epoch 74/80\n",
            "3/3 [==============================] - 0s 16ms/step - loss: 0.0120 - val_loss: 0.0198\n",
            "Epoch 75/80\n",
            "3/3 [==============================] - 0s 16ms/step - loss: 0.0146 - val_loss: 0.0199\n",
            "Epoch 76/80\n",
            "3/3 [==============================] - 0s 25ms/step - loss: 0.0129 - val_loss: 0.0197\n",
            "Epoch 77/80\n",
            "3/3 [==============================] - 0s 16ms/step - loss: 0.0128 - val_loss: 0.0221\n",
            "Epoch 78/80\n",
            "3/3 [==============================] - 0s 17ms/step - loss: 0.0150 - val_loss: 0.0202\n",
            "Epoch 79/80\n",
            "3/3 [==============================] - 0s 24ms/step - loss: 0.0156 - val_loss: 0.0204\n",
            "Epoch 80/80\n",
            "3/3 [==============================] - 0s 23ms/step - loss: 0.0121 - val_loss: 0.0203\n"
          ]
        }
      ],
      "source": [
        "i = Input(shape=(T,))\n",
        "x = Dense(10,activation='relu')(i)\n",
        "x = Dense(1)(x)\n",
        "\n",
        "model = Model(i,x)\n",
        "\n",
        "model.compile(optimizer=tf.optimizers.Adam(lr=0.1),\n",
        "        loss='mse')\n",
        "\n",
        "r=model.fit(X[:-N//2], Y[:-N//2], \n",
        "            validation_data=(X[ -N //2 :],Y[-N//2:]),\n",
        "            epochs=80)"
      ]
    },
    {
      "cell_type": "code",
      "execution_count": null,
      "metadata": {
        "colab": {
          "base_uri": "https://localhost:8080/",
          "height": 303
        },
        "id": "wvTSb5E4sWSJ",
        "outputId": "153b4c39-dc50-4f07-a26a-d619079727a7"
      },
      "outputs": [
        {
          "data": {
            "text/plain": [
              "<matplotlib.legend.Legend at 0x7f9bb80a1390>"
            ]
          },
          "execution_count": 54,
          "metadata": {},
          "output_type": "execute_result"
        },
        {
          "data": {
            "image/png": "[encoded data removed]",
            "text/plain": [
              "<Figure size 432x288 with 1 Axes>"
            ]
          },
          "metadata": {
            "needs_background": "light"
          },
          "output_type": "display_data"
        }
      ],
      "source": [
        "plt.plot(r.history['loss'],label='train loss')\n",
        "plt.plot(r.history['val_loss'],\n",
        "label='val_loss')\n",
        "plt.legend()"
      ]
    },
    {
      "cell_type": "code",
      "execution_count": null,
      "metadata": {
        "id": "75JC0TQTuXHZ"
      },
      "outputs": [],
      "source": [
        "validation_target=Y[-N//2:]\n",
        "\n",
        "validation_prediction=[]\n",
        "last_x=X[-N//2]\n",
        "\n",
        "while len(validation_prediction)<len(validation_target):\n",
        "  p=model.predict(last_x.reshape(1,-1))[0,0]\n",
        "  validation_prediction.append(p)\n",
        "\n",
        "  last_x=np.roll(last_x,-1)\n",
        "  last_x[-1]=p"
      ]
    },
    {
      "cell_type": "code",
      "execution_count": null,
      "metadata": {
        "colab": {
          "base_uri": "https://localhost:8080/",
          "height": 303
        },
        "id": "7HAlwEKDvDjW",
        "outputId": "d56d1456-621d-4bc7-8f90-8111299dc76c"
      },
      "outputs": [
        {
          "data": {
            "text/plain": [
              "<matplotlib.legend.Legend at 0x7f9bb7fc4650>"
            ]
          },
          "execution_count": 56,
          "metadata": {},
          "output_type": "execute_result"
        },
        {
          "data": {
            "image/png": "[encoded data removed]",
            "text/plain": [
              "<Figure size 432x288 with 1 Axes>"
            ]
          },
          "metadata": {
            "needs_background": "light"
          },
          "output_type": "display_data"
        }
      ],
      "source": [
        "plt.plot(validation_target,label='forecast target')\n",
        "plt.plot(validation_prediction,label='forecast prediction')\n",
        "plt.legend()"
      ]
    }
  ],
  "metadata": {
    "colab": {
      "collapsed_sections": [],
      "provenance": []
    },
    "kernelspec": {
      "display_name": "Python 3.10.6 64-bit",
      "language": "python",
      "name": "python3"
    },
    "language_info": {
      "name": "python",
      "version": "3.10.6"
    },
    "vscode": {
      "interpreter": {
        "hash": "b0fa6594d8f4cbf19f97940f81e996739fb7646882a419484c72d19e05852a7e"
      }
    }
  },
  "nbformat": 4,
  "nbformat_minor": 0
}
